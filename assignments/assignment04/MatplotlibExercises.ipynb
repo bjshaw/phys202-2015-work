{
 "cells": [
  {
   "cell_type": "markdown",
   "metadata": {},
   "source": [
    "# Visualization 1: Matplotlib Basics Exercises"
   ]
  },
  {
   "cell_type": "code",
   "execution_count": 31,
   "metadata": {
    "collapsed": false
   },
   "outputs": [],
   "source": [
    "%matplotlib inline\n",
    "import matplotlib.pyplot as plt\n",
    "import numpy as np"
   ]
  },
  {
   "cell_type": "markdown",
   "metadata": {},
   "source": [
    "## Scatter plots"
   ]
  },
  {
   "cell_type": "markdown",
   "metadata": {},
   "source": [
    "Learn how to use Matplotlib's `plt.scatter` function to make a 2d scatter plot.\n",
    "\n",
    "* Generate random data using `np.random.randn`.\n",
    "* Style the markers (color, size, shape, alpha) appropriately.\n",
    "* Include an x and y label and title."
   ]
  },
  {
   "cell_type": "code",
   "execution_count": 15,
   "metadata": {
    "collapsed": false
   },
   "outputs": [],
   "source": [
    "datax = np.random.randn(10,5)\n",
    "datay = np.random.randn(10,5)"
   ]
  },
  {
   "cell_type": "code",
   "execution_count": 29,
   "metadata": {
    "collapsed": false
   },
   "outputs": [
    {
     "data": {
      "text/plain": [
       "<matplotlib.text.Text at 0x7f61c8e85d50>"
      ]
     },
     "execution_count": 29,
     "metadata": {},
     "output_type": "execute_result"
    },
    {
     "data": {
      "image/png": "[encoded data removed]",
      "text/plain": [
       "<matplotlib.figure.Figure at 0x7f61c8c19910>"
      ]
     },
     "metadata": {},
     "output_type": "display_data"
    }
   ],
   "source": [
    "fig = plt.figure(figsize=(8,5))\n",
    "plt.scatter(datax, datay, marker = '.', alpha = 1, color = 'r')\n",
    "plt.tick_params(top=False, right=False)\n",
    "plt.title('Random Number Scatter Plot')\n",
    "plt.xlabel('x')\n",
    "plt.ylabel('y')"
   ]
  },
  {
   "cell_type": "markdown",
   "metadata": {},
   "source": [
    "## Histogram"
   ]
  },
  {
   "cell_type": "markdown",
   "metadata": {},
   "source": [
    "Learn how to use Matplotlib's `plt.hist` function to make a 1d histogram.\n",
    "\n",
    "* Generate randpom data using `np.random.randn`.\n",
    "* Figure out how to set the number of histogram bins and other style options.\n",
    "* Include an x and y label and title."
   ]
  },
  {
   "cell_type": "code",
   "execution_count": 32,
   "metadata": {
    "collapsed": false
   },
   "outputs": [],
   "source": [
    "data = np.random.randn(10,5)"
   ]
  },
  {
   "cell_type": "code",
   "execution_count": 71,
   "metadata": {
    "collapsed": false
   },
   "outputs": [
    {
     "data": {
      "text/plain": [
       "([<matplotlib.axis.XTick at 0x7f61c5261750>,\n",
       "  <matplotlib.axis.XTick at 0x7f61c52618d0>,\n",
       "  <matplotlib.axis.XTick at 0x7f61c51cb910>,\n",
       "  <matplotlib.axis.XTick at 0x7f61c515d6d0>,\n",
       "  <matplotlib.axis.XTick at 0x7f61c515ddd0>,\n",
       "  <matplotlib.axis.XTick at 0x7f61c50e9510>,\n",
       "  <matplotlib.axis.XTick at 0x7f61c50e9c10>,\n",
       "  <matplotlib.axis.XTick at 0x7f61c50f3350>,\n",
       "  <matplotlib.axis.XTick at 0x7f61c50f3a50>,\n",
       "  <matplotlib.axis.XTick at 0x7f61c50fd190>,\n",
       "  <matplotlib.axis.XTick at 0x7f61c50fd890>],\n",
       " <a list of 11 Text xticklabel objects>)"
      ]
     },
     "execution_count": 71,
     "metadata": {},
     "output_type": "execute_result"
    },
    {
     "data": {
      "image/png": "[encoded data removed]",
      "text/plain": [
       "<matplotlib.figure.Figure at 0x7f61c5269f50>"
      ]
     },
     "metadata": {},
     "output_type": "display_data"
    }
   ],
   "source": [
    "fig = plt.figure(figsize=(8,5))\n",
    "plt.hist(data, bins = 5, histtype = 'bar', align = 'mid', range = (-3,2))\n",
    "plt.tick_params(top=False, right=False)\n",
    "plt.title('Random Number Histogram')\n",
    "plt.xlabel('x')\n",
    "plt.ylabel('y')\n",
    "plt.xticks([-3,-2.5,-2,-1.5,-1,-.5,0,.5,1,1.5,2])"
   ]
  },
  {
   "cell_type": "code",
   "execution_count": null,
   "metadata": {
    "collapsed": true
   },
   "outputs": [],
   "source": []
  }
 ],
 "metadata": {
  "kernelspec": {
   "display_name": "Python 2",
   "language": "python",
   "name": "python2"
  },
  "language_info": {
   "codemirror_mode": {
    "name": "ipython",
    "version": 2
   },
   "file_extension": ".py",
   "mimetype": "text/x-python",
   "name": "python",
   "nbconvert_exporter": "python",
   "pygments_lexer": "ipython2",
   "version": "2.7.6"
  }
 },
 "nbformat": 4,
 "nbformat_minor": 0
}
