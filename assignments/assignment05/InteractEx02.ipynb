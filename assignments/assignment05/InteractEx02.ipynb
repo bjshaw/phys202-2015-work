{
 "cells": [
  {
   "cell_type": "markdown",
   "metadata": {
    "nbgrader": {}
   },
   "source": [
    "# Interact Exercise 2"
   ]
  },
  {
   "cell_type": "markdown",
   "metadata": {
    "nbgrader": {}
   },
   "source": [
    "## Imports"
   ]
  },
  {
   "cell_type": "code",
   "execution_count": 2,
   "metadata": {
    "collapsed": true,
    "nbgrader": {}
   },
   "outputs": [],
   "source": [
    "%matplotlib inline\n",
    "from matplotlib import pyplot as plt\n",
    "import numpy as np"
   ]
  },
  {
   "cell_type": "code",
   "execution_count": 3,
   "metadata": {
    "collapsed": false,
    "nbgrader": {}
   },
   "outputs": [
    {
     "name": "stderr",
     "output_type": "stream",
     "text": [
      ":0: FutureWarning: IPython widgets are experimental and may change in the future.\n"
     ]
    }
   ],
   "source": [
    "from IPython.html.widgets import interact, interactive, fixed\n",
    "from IPython.display import display"
   ]
  },
  {
   "cell_type": "markdown",
   "metadata": {
    "nbgrader": {}
   },
   "source": [
    "## Plotting with parameters"
   ]
  },
  {
   "cell_type": "markdown",
   "metadata": {
    "nbgrader": {}
   },
   "source": [
    "Write a `plot_sin1(a, b)` function that plots $sin(ax+b)$ over the interval $[0,4\\pi]$.\n",
    "\n",
    "* Customize your visualization to make it effective and beautiful.\n",
    "* Customize the box, grid, spines and ticks to match the requirements of this data.\n",
    "* Use enough points along the x-axis to get a smooth plot.\n",
    "* For the x-axis tick locations use integer multiples of $\\pi$.\n",
    "* For the x-axis tick labels use multiples of pi using LaTeX: `$3\\pi$`."
   ]
  },
  {
   "cell_type": "code",
   "execution_count": 4,
   "metadata": {
    "collapsed": true
   },
   "outputs": [],
   "source": [
    "import math as math"
   ]
  },
  {
   "cell_type": "code",
   "execution_count": 5,
   "metadata": {
    "collapsed": true,
    "deletable": false,
    "nbgrader": {
     "checksum": "6cff4e8e53b15273846c3aecaea84a3d",
     "solution": true
    }
   },
   "outputs": [],
   "source": [
    "def plot_sine1(a, b):\n",
    "    x = np.linspace(0,4*math.pi,300)\n",
    "    f = plt.figure(figsize=(15,5))\n",
    "    plt.plot(np.sin(a*x+b))\n",
    "    plt.title('Sine Graph')\n",
    "    plt.xlabel('x')\n",
    "    plt.ylabel('sin(ax+b)')\n",
    "    plt.tick_params(right=False, top=False, direction='out')\n",
    "    plt.xticks([0,math.pi,2*math.pi,3*math.pi,4*math.pi],['0','$pi$','$2*pi$','$3*pi$','$4*pi$'])\n",
    "    plt.xlim(0,4*math.pi)"
   ]
  },
  {
   "cell_type": "code",
   "execution_count": 6,
   "metadata": {
    "collapsed": false,
    "nbgrader": {}
   },
   "outputs": [
    {
     "data": {
      "image/png": "[encoded data removed]",
      "text/plain": [
       "<matplotlib.figure.Figure at 0x7fd4e79c7630>"
      ]
     },
     "metadata": {},
     "output_type": "display_data"
    }
   ],
   "source": [
    "plot_sine1(5, 3.4)"
   ]
  },
  {
   "cell_type": "markdown",
   "metadata": {
    "nbgrader": {}
   },
   "source": [
    "Then use `interact` to create a user interface for exploring your function:\n",
    "\n",
    "* `a` should be a floating point slider over the interval $[0.0,5.0]$ with steps of $0.1$.\n",
    "* `b` should be a floating point slider over the interval $[-5.0,5.0]$ with steps of $0.1$."
   ]
  },
  {
   "cell_type": "code",
   "execution_count": 7,
   "metadata": {
    "collapsed": false,
    "deletable": false,
    "nbgrader": {
     "checksum": "6cff4e8e53b15273846c3aecaea84a3d",
     "solution": true
    }
   },
   "outputs": [
    {
     "data": {
      "text/plain": [
       "<function __main__.plot_sine1>"
      ]
     },
     "execution_count": 7,
     "metadata": {},
     "output_type": "execute_result"
    },
    {
     "data": {
      "image/png": "[encoded data removed]",
      "text/plain": [
       "<matplotlib.figure.Figure at 0x7fd4e79c75f8>"
      ]
     },
     "metadata": {},
     "output_type": "display_data"
    }
   ],
   "source": [
    "interact(plot_sine1, a=(0.0,5.0,0.1), b=(-5.0,5.0,0.1))"
   ]
  },
  {
   "cell_type": "code",
   "execution_count": 8,
   "metadata": {
    "collapsed": true,
    "deletable": false,
    "nbgrader": {
     "checksum": "34fd6e6d0531e41d800dbb79a2fb2f07",
     "grade": true,
     "grade_id": "interactex02a",
     "points": 5
    }
   },
   "outputs": [],
   "source": [
    "assert True # leave this for grading the plot_sine1 exercise"
   ]
  },
  {
   "cell_type": "markdown",
   "metadata": {
    "nbgrader": {}
   },
   "source": [
    "In matplotlib, the line style and color can be set with a third argument to `plot`. Examples of this argument:\n",
    "\n",
    "* dashed red: `r--`\n",
    "* blue circles: `bo`\n",
    "* dotted black: `k.`\n",
    "\n",
    "Write a `plot_sine2(a, b, style)` function that has a third `style` argument that allows you to set the line style of the plot. The style should default to a blue line."
   ]
  },
  {
   "cell_type": "code",
   "execution_count": 18,
   "metadata": {
    "collapsed": true,
    "deletable": false,
    "nbgrader": {
     "checksum": "6cff4e8e53b15273846c3aecaea84a3d",
     "solution": true
    }
   },
   "outputs": [],
   "source": [
    "def plot_sine2(a,b,style='b-'):\n",
    "    x = np.linspace(0,4*math.pi,300)\n",
    "    f = plt.figure(figsize=(15,5))\n",
    "    plt.plot(np.sin(a*x+b), '%s' % style)\n",
    "    plt.title('Sine Graph')\n",
    "    plt.xlabel('x')\n",
    "    plt.ylabel('sin(ax+b)')\n",
    "    plt.tick_params(right=False, top=False, direction='out')\n",
    "    plt.xticks([0,math.pi,2*math.pi,3*math.pi,4*math.pi],['0','$pi$','$2*pi$','$3*pi$','$4*pi$'])\n",
    "    plt.xlim(0,4*math.pi)"
   ]
  },
  {
   "cell_type": "code",
   "execution_count": 19,
   "metadata": {
    "collapsed": false,
    "nbgrader": {}
   },
   "outputs": [
    {
     "data": {
      "image/png": "[encoded data removed]",
      "text/plain": [
       "<matplotlib.figure.Figure at 0x7fd4e7875f98>"
      ]
     },
     "metadata": {},
     "output_type": "display_data"
    }
   ],
   "source": [
    "plot_sine2(4.0, -1.0, 'r--')"
   ]
  },
  {
   "cell_type": "markdown",
   "metadata": {
    "nbgrader": {}
   },
   "source": [
    "Use `interact` to create a UI for `plot_sine2`.\n",
    "\n",
    "* Use a slider for `a` and `b` as above.\n",
    "* Use a drop down menu for selecting the line style between a **dotted blue line** line, **black circles** and **red triangles**."
   ]
  },
  {
   "cell_type": "code",
   "execution_count": 20,
   "metadata": {
    "collapsed": false,
    "deletable": false,
    "nbgrader": {
     "checksum": "6cff4e8e53b15273846c3aecaea84a3d",
     "grade": false,
     "solution": true
    }
   },
   "outputs": [
    {
     "data": {
      "image/png": "[encoded data removed]",
      "text/plain": [
       "<matplotlib.figure.Figure at 0x7fd4e78c8940>"
      ]
     },
     "metadata": {},
     "output_type": "display_data"
    }
   ],
   "source": [
    "interact(plot_sine2, a=(0.0,5.0,0.1), b=(-5.0,5.0,0.1), style={'dotted blue line': 'b--', 'black circles': 'ko',\n",
    "                                                              'red triangles': 'r^'})"
   ]
  },
  {
   "cell_type": "code",
   "execution_count": null,
   "metadata": {
    "collapsed": true,
    "deletable": false,
    "nbgrader": {
     "checksum": "8a9405487572cae2c04a71152be8bc93",
     "grade": true,
     "grade_id": "interactex02b",
     "points": 5
    }
   },
   "outputs": [],
   "source": [
    "assert True # leave this for grading the plot_sine2 exercise"
   ]
  }
 ],
 "metadata": {
  "kernelspec": {
   "display_name": "Python 3",
   "language": "python",
   "name": "python3"
  },
  "language_info": {
   "codemirror_mode": {
    "name": "ipython",
    "version": 3
   },
   "file_extension": ".py",
   "mimetype": "text/x-python",
   "name": "python",
   "nbconvert_exporter": "python",
   "pygments_lexer": "ipython3",
   "version": "3.4.0"
  }
 },
 "nbformat": 4,
 "nbformat_minor": 0
}
