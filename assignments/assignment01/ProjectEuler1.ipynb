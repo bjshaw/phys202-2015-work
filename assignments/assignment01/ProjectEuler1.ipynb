{
 "cells": [
  {
   "cell_type": "markdown",
   "metadata": {
    "nbgrader": {}
   },
   "source": [
    "# Project Euler: Problem 1"
   ]
  },
  {
   "cell_type": "markdown",
   "metadata": {
    "nbgrader": {}
   },
   "source": [
    "If we list all the natural numbers below 10 that are multiples of 3 or 5, we get 3, 5, 6 and 9. The sum of these multiples is 23.\n",
    "\n",
    "Find the sum of all the multiples of 3 or 5 below 1000."
   ]
  },
  {
   "cell_type": "code",
   "execution_count": 4,
   "metadata": {
    "collapsed": false,
    "deletable": false,
    "nbgrader": {
     "checksum": "6cff4e8e53b15273846c3aecaea84a3d",
     "solution": true
    }
   },
   "outputs": [
    {
     "name": "stdout",
     "output_type": "stream",
     "text": [
      "233168\n"
     ]
    }
   ],
   "source": [
    "lst = range(1000)                        # This creates a list that ranges from 0 to 999.\n",
    "new_lst = []                             # This defines a new, empty list\n",
    "for n in lst:                            # This for statement loops through every number in the original list, lst\n",
    "    if n % 3 == 0 or n % 5 == 0:         # Then, for every number in lst, this if statement says that if the number is divisible by either 3 or 5, then it will be added to the new list, new_lst\n",
    "        new_lst.append(n)                \n",
    "sum_multiples = 0                        # This defines a new variable, sum_multiples, and sets it to zero\n",
    "for i in new_lst:                        # This for statement loops through every number in new_lst and adds it to sum_multiples\n",
    "    sum_multiples += i\n",
    "print(sum_multiples)                     # Finally, we print sum_multiples, which is the sum of all the multiples of 3 or 5 below 1000\n",
    "\n"
   ]
  },
  {
   "cell_type": "code",
   "execution_count": null,
   "metadata": {
    "collapsed": true,
    "deletable": false,
    "nbgrader": {
     "checksum": "6e498cbe102f8b3c1bc4ebd777bcc952",
     "grade": true,
     "grade_id": "projecteuler1",
     "points": 10
    }
   },
   "outputs": [],
   "source": [
    "# This cell will be used for grading, leave it at the end of the notebook."
   ]
  }
 ],
 "metadata": {
  "kernelspec": {
   "display_name": "Python 3",
   "language": "python",
   "name": "python3"
  },
  "language_info": {
   "codemirror_mode": {
    "name": "ipython",
    "version": 3
   },
   "file_extension": ".py",
   "mimetype": "text/x-python",
   "name": "python",
   "nbconvert_exporter": "python",
   "pygments_lexer": "ipython3",
   "version": "3.4.0"
  }
 },
 "nbformat": 4,
 "nbformat_minor": 0
}
