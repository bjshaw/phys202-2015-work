{
 "cells": [
  {
   "cell_type": "code",
   "execution_count": 274,
   "metadata": {
    "collapsed": false
   },
   "outputs": [],
   "source": [
    "%matplotlib inline\n",
    "import matplotlib.pyplot as plt\n",
    "import numpy as np\n",
    "from scipy.integrate import odeint\n",
    "from IPython.html.widgets import interact, interactive, fixed"
   ]
  },
  {
   "cell_type": "code",
   "execution_count": 275,
   "metadata": {
    "collapsed": true
   },
   "outputs": [],
   "source": [
    "gamma = 6.67384e-11"
   ]
  },
  {
   "cell_type": "markdown",
   "metadata": {},
   "source": [
    "First, I defined two functions that would determine my initial velocities of both my star, $m$, and my disrupting galaxy, $S$."
   ]
  },
  {
   "cell_type": "markdown",
   "metadata": {},
   "source": [
    "The star's initial velocity is determined by the equation for the velocity pertaining to a circular obrit:\n",
    "\\begin{equation*}\n",
    "v = \\sqrt{\\frac{GM}{r}}\n",
    "\\end{equation*}\n",
    "where $G$ is the gravitational constant, $M$ is the mass of the object orbited around, and $r$ is the distance from $m$ to $M$."
   ]
  },
  {
   "cell_type": "code",
   "execution_count": 276,
   "metadata": {
    "collapsed": true
   },
   "outputs": [],
   "source": [
    "def velocities_m(M,x,y):\n",
    "    \"\"\"Computes the velocities in the x and y direction of a star, m\n",
    "    \n",
    "    Parameters\n",
    "    -------------\n",
    "    M : central mass of main galaxy\n",
    "    x : position of star in x-direction\n",
    "    y : position of star in y-direction\n",
    "    \n",
    "    Returns\n",
    "    ------------\n",
    "    vx : velocity of star in x-direction\n",
    "    vy : velocity of star in y-direction\n",
    "    \n",
    "    \"\"\"\n",
    "    rb = np.sqrt(x**2+y**2)\n",
    "    v = np.sqrt((gamma*M)/rb)\n",
    "    if x != 0:\n",
    "        theta = np.arctan(y/x)\n",
    "    else:\n",
    "        theta = (np.pi/2)\n",
    "    if x < 0:\n",
    "        vx = v*np.sin(theta)\n",
    "        vy = -v*np.cos(theta)\n",
    "    elif x > 0:\n",
    "        vx = -v*np.sin(theta)\n",
    "        vy = v*np.cos(theta)\n",
    "    elif x == 0 and y > 0:\n",
    "        vx = -v*np.sin(theta)\n",
    "        vy = 0\n",
    "    elif x == 0 and y < 0:\n",
    "        vx = v*np.sin(theta)\n",
    "        vy = 0\n",
    "    return vx,vy"
   ]
  },
  {
   "cell_type": "markdown",
   "metadata": {},
   "source": [
    "The disrupting galaxy's initial velocity is determined by the equation pertaining to a parabolic orbit:\n",
    "\\begin{equation*}\n",
    "v = \\sqrt{\\frac{2\\mu}{r}}\n",
    "\\end{equation*}\n",
    "where $\\mu$ is the standard graitational parameter, $GM+GS$, and $r$ is the distance between the galaxies."
   ]
  },
  {
   "cell_type": "code",
   "execution_count": 277,
   "metadata": {
    "collapsed": false
   },
   "outputs": [],
   "source": [
    "def velocities_S(M,S,x,y):\n",
    "    \"\"\"Computes the velocities in the x and y direction of a disrupting galaxy, S\n",
    "    \n",
    "    Parameters\n",
    "    -------------\n",
    "    M : central mass of main galaxy\n",
    "    S : central mass of disrupting galaxy\n",
    "    x : position of S in x-direction\n",
    "    y : position of S in y-direction\n",
    "    \n",
    "    Returns\n",
    "    ------------\n",
    "    vx : velocity of S in x-direction\n",
    "    vy : velocity of S in y-direction\n",
    "    \n",
    "    \"\"\"\n",
    "    Rb = np.sqrt(x**2+y**2)\n",
    "    v = np.sqrt((2*gamma*(M+S))/(Rb))\n",
    "    if x != 0:\n",
    "        theta = np.arctan(y/x)\n",
    "    else:\n",
    "        theta = (np.pi/2)\n",
    "    vx = v*np.sin(theta)\n",
    "    vy = -v*np.cos(theta)\n",
    "    return vx,vy"
   ]
  },
  {
   "cell_type": "markdown",
   "metadata": {},
   "source": [
    "Next, I started to solve the two differential equations given:"
   ]
  },
  {
   "cell_type": "markdown",
   "metadata": {},
   "source": [
    "$$ \\ddot{\\mathbf{r}} = -\\gamma \\left\\{ \\frac{M}{r^3}\\mathbf{r} -\\frac{S}{\\rho^3}\\boldsymbol{\\rho} + \\frac{S}{R^3}\\boldsymbol\\Re \\right\\} $$\n",
    "\n",
    "$$ \\ddot{\\boldsymbol\\Re} = -\\gamma \\frac{M+S}{R^3}\\boldsymbol\\Re$$"
   ]
  },
  {
   "cell_type": "markdown",
   "metadata": {},
   "source": [
    "* $\\gamma$ is the Gravitational constant.\n",
    "* $M$ is the central mass of the main galaxy and $S$ is the central mass of the disrupting galaxy\n",
    "* $\\mathbf{r}$ is the radius vector from mass $M$ to massless point particle $m$, representing a single (massless) star in the outer disk of the main galaxy.\n",
    "* $\\boldsymbol\\Re$ is the radius vector from $M$ to $S$\n",
    "* $\\boldsymbol{\\rho} = \\boldsymbol{\\Re} - \\boldsymbol{r}$"
   ]
  },
  {
   "cell_type": "markdown",
   "metadata": {},
   "source": [
    "To solve these, I first defined a derivative function:"
   ]
  },
  {
   "cell_type": "code",
   "execution_count": 278,
   "metadata": {
    "collapsed": false
   },
   "outputs": [],
   "source": [
    "def derivs(solarray, t, M, S):\n",
    "    \"\"\"Computes the derivatives of the equations dictating the behavior of the stars orbiting galaxy M and the\n",
    "    disrupting galaxy, S\n",
    "    \n",
    "    Parameters\n",
    "    --------------\n",
    "    solarray : solution array for the differential equations\n",
    "    t : array of time values\n",
    "    M : central mass of main galaxy\n",
    "    S : central mass of disrupting galaxy\n",
    "    \n",
    "    Returns\n",
    "    --------------\n",
    "    derivarray : an array of the velocities and accelerations of galaxy S and stars, m\n",
    "    \n",
    "    \"\"\"\n",
    "    \n",
    "    derivarray = np.zeros(len(solarray))\n",
    "    \n",
    "    Rb = np.array([solarray[0],solarray[1]])\n",
    "    R = np.linalg.norm(Rb)\n",
    "    vR = np.array([solarray[2],solarray[3]])\n",
    "    dR = vR\n",
    "    dvR = ((-gamma*(M+S)*Rb)/R**3)\n",
    "    \n",
    "    derivarray[0] = dR[0]\n",
    "    derivarray[1] = dR[1]\n",
    "    derivarray[2] = dvR[0]\n",
    "    derivarray[3] = dvR[1]\n",
    "    \n",
    "    for n in range(1,int(len(solarray)/4)):\n",
    "        rb = np.array([solarray[4*n],solarray[4*n+1]])\n",
    "        r = np.linalg.norm(rb)\n",
    "        vr = np.array([solarray[4*n+2],solarray[4*n+3]])\n",
    "        pb = Rb - rb\n",
    "        p = np.linalg.norm(pb)\n",
    "        dr = vr\n",
    "        dvr = -gamma*((M/r**3)*rb-(S/p**3)*pb+(S/R**3)*R)\n",
    "        derivarray[4*n] = dr[0]\n",
    "        derivarray[4*n+1] = dr[1]\n",
    "        derivarray[4*n+2] = dvr[0]\n",
    "        derivarray[4*n+3] = dvr[1]\n",
    "    \n",
    "    \n",
    "    return derivarray\n",
    "    "
   ]
  },
  {
   "cell_type": "markdown",
   "metadata": {},
   "source": [
    "Then I used odeint to solve the equations"
   ]
  },
  {
   "cell_type": "code",
   "execution_count": 279,
   "metadata": {
    "collapsed": true
   },
   "outputs": [],
   "source": [
    "def equationsolver(ic,max_time,time_step,M,S):\n",
    "    \"\"\"Solves the differential equations using odeint and the derivs function defined above\n",
    "    \n",
    "    Parameters\n",
    "    -------------\n",
    "    ic : initial conditions\n",
    "    max_time : maximum time to be used for time array\n",
    "    time_step : step size of time array\n",
    "    M : central mass of main galaxy\n",
    "    S : central mass of disrupting galaxy\n",
    "    \n",
    "    Returns\n",
    "    ------------\n",
    "    sol : solution array for the differential equations\n",
    "    \"\"\"\n",
    "    t = np.linspace(0,max_time,time_step)\n",
    "    sol = odeint(derivs, ic, t, args=(M,S),atol=1e-5,rtol=1e-5)\n",
    "    return sol"
   ]
  },
  {
   "cell_type": "markdown",
   "metadata": {},
   "source": [
    "I also define a plotting function to use with the interact function to visualize the behavior of the stars when the disrupting galaxy orbits close to the main galaxy"
   ]
  },
  {
   "cell_type": "code",
   "execution_count": 344,
   "metadata": {
    "collapsed": true
   },
   "outputs": [],
   "source": [
    "def plotter(ic,max_time,time_step,M,S,n):\n",
    "    \"\"\"Plots the positions of the stars and disrupting galaxy at each t in the time array\n",
    "    \n",
    "    Parameters\n",
    "    --------------\n",
    "    ic : initial conditions\n",
    "    max_time : maximum time to be used for time array\n",
    "    time_step : step size of time array\n",
    "    M : central mass of main galaxy\n",
    "    S : central mass of disrupting galaxy\n",
    "    n : integer\n",
    "    \n",
    "    Returns\n",
    "    -------------\n",
    "    \"\"\"\n",
    "    plt.figure(figsize=(15,10))\n",
    "    plt.scatter(0,0,color='y',label='Galaxy M')\n",
    "    plt.scatter(equationsolver(ic,max_time,time_step,M,S)[n][0],\n",
    "                equationsolver(ic,max_time,time_step,M,S)[n][1],color='b',label='Galaxy S')\n",
    "    for i in range(1,int(len(ic)/4)):\n",
    "        a = plt.scatter(equationsolver(ic,max_time,time_step,M,S)[n][4*i],\n",
    "                    equationsolver(ic,max_time,time_step,M,S)[n][4*i+1],color='r')\n",
    "    a.set_label('Star')\n",
    "    plt.legend()\n",
    "    plt.ylim(-10,10)\n",
    "    plt.xlim(-10,10)"
   ]
  },
  {
   "cell_type": "markdown",
   "metadata": {},
   "source": [
    "Next, I defined some test values for a simple two star system to check if everything was working correctly"
   ]
  },
  {
   "cell_type": "code",
   "execution_count": 359,
   "metadata": {
    "collapsed": true
   },
   "outputs": [],
   "source": [
    "max_time_test = 215\n",
    "time_step_test = 1050\n",
    "M_test = 1e8\n",
    "S_test = 1e8\n",
    "S_x_test = 3\n",
    "S_y_test = 3\n",
    "m_x_test_1 = -1\n",
    "m_y_test_1 = 1\n",
    "m_x_test_2 = -1\n",
    "m_y_test_2 = -1"
   ]
  },
  {
   "cell_type": "code",
   "execution_count": 360,
   "metadata": {
    "collapsed": true
   },
   "outputs": [],
   "source": [
    "vxS_test = velocities_S(M_test,S_test,S_x_test,S_y_test)[0]\n",
    "vyS_test = velocities_S(M_test,S_test,S_x_test,S_y_test)[1]\n",
    "vxm_test_1 = velocities_m(M_test,m_x_test_1,m_y_test_1)[0]\n",
    "vym_test_1 = velocities_m(M_test,m_x_test_1,m_y_test_1)[1]\n",
    "vxm_test_2 = velocities_m(M_test,m_x_test_2,m_y_test_2)[0]\n",
    "vym_test_2 = velocities_m(M_test,m_x_test_2,m_y_test_2)[1]"
   ]
  },
  {
   "cell_type": "code",
   "execution_count": 361,
   "metadata": {
    "collapsed": false
   },
   "outputs": [],
   "source": [
    "ic_test = np.array([S_x_test,S_y_test,vxS_test,vyS_test,m_x_test_1,m_y_test_1,vxm_test_1,vym_test_1,\n",
    "                    m_x_test_2,m_y_test_2,vxm_test_2,vym_test_2])"
   ]
  },
  {
   "cell_type": "code",
   "execution_count": 362,
   "metadata": {
    "collapsed": false,
    "scrolled": true
   },
   "outputs": [],
   "source": [
    "sol_test = equationsolver(ic_test,max_time_test,time_step_test,M_test,S_test)"
   ]
  },
  {
   "cell_type": "markdown",
   "metadata": {},
   "source": [
    "I used interact on my plotter function to plot the positions of the stars and galaxies in my system at every time value"
   ]
  },
  {
   "cell_type": "code",
   "execution_count": 363,
   "metadata": {
    "collapsed": false
   },
   "outputs": [
    {
     "data": {
      "image/png": "[encoded data removed]",
      "text/plain": [
       "<matplotlib.figure.Figure at 0x7f7f6ac0a358>"
      ]
     },
     "metadata": {},
     "output_type": "display_data"
    }
   ],
   "source": [
    "interact(plotter,ic=fixed(ic_test),max_time=fixed(max_time_test),time_step=fixed(time_step_test),\n",
    "        M=fixed(M_test),S=fixed(S_test),n=(0,len(np.linspace(0,max_time_test,time_step_test))-1,1));"
   ]
  },
  {
   "cell_type": "markdown",
   "metadata": {},
   "source": [
    "Next, I defined a function that computes the total energy of the system.  This is useful to check the error tolerances of my equationsolver function so that the total energy of the system is constant."
   ]
  },
  {
   "cell_type": "code",
   "execution_count": null,
   "metadata": {
    "collapsed": true
   },
   "outputs": [],
   "source": [
    "def totalenergy(sol,M,S,max_time,time_step):\n",
    "    total_energy = 0\n",
    "    t = np.linspace(0,max_time_time_step)\n",
    "    for n in range(0,len(t)):\n",
    "        r = np.linalg.norm(np.array([sol[n][0],sol[n][1]]))\n",
    "        v_S = np.linalg.norm(np.array([sol[n][2],sol[n][3]]))\n",
    "        potential_M_S = (gamma*M*S)/(r)\n",
    "        kinetic_S = 0.5*S*(v_S**2)\n",
    "        for i in range(1,int(len(sol)/4)):\n",
    "            v_m = np.linalg.norm(np.array([sol[n][4*i+2],sol[n][4*i+3]]))\n",
    "            kinetic_m = 0.5"
   ]
  },
  {
   "cell_type": "code",
   "execution_count": null,
   "metadata": {
    "collapsed": true
   },
   "outputs": [],
   "source": []
  },
  {
   "cell_type": "code",
   "execution_count": null,
   "metadata": {
    "collapsed": true
   },
   "outputs": [],
   "source": []
  },
  {
   "cell_type": "code",
   "execution_count": null,
   "metadata": {
    "collapsed": true
   },
   "outputs": [],
   "source": []
  }
 ],
 "metadata": {
  "kernelspec": {
   "display_name": "Python 3",
   "language": "python",
   "name": "python3"
  },
  "language_info": {
   "codemirror_mode": {
    "name": "ipython",
    "version": 3
   },
   "file_extension": ".py",
   "mimetype": "text/x-python",
   "name": "python",
   "nbconvert_exporter": "python",
   "pygments_lexer": "ipython3",
   "version": "3.4.0"
  }
 },
 "nbformat": 4,
 "nbformat_minor": 0
}
