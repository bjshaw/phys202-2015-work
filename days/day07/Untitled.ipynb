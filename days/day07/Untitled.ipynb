{
 "cells": [
  {
   "cell_type": "code",
   "execution_count": 1,
   "metadata": {
    "collapsed": true
   },
   "outputs": [],
   "source": [
    "import numpy as np"
   ]
  },
  {
   "cell_type": "code",
   "execution_count": 2,
   "metadata": {
    "collapsed": true
   },
   "outputs": [],
   "source": [
    "a = [1,4]\n",
    "b = [3,6]"
   ]
  },
  {
   "cell_type": "code",
   "execution_count": 15,
   "metadata": {
    "collapsed": false
   },
   "outputs": [
    {
     "data": {
      "text/plain": [
       "[array([[1, 4],\n",
       "        [1, 4]]), array([[3, 3],\n",
       "        [6, 6]])]"
      ]
     },
     "execution_count": 15,
     "metadata": {},
     "output_type": "execute_result"
    }
   ],
   "source": [
    "np.meshgrid(a, b)"
   ]
  },
  {
   "cell_type": "code",
   "execution_count": 13,
   "metadata": {
    "collapsed": false
   },
   "outputs": [],
   "source": [
    "A, B = np.meshgrid(a, b)"
   ]
  },
  {
   "cell_type": "code",
   "execution_count": 14,
   "metadata": {
    "collapsed": false
   },
   "outputs": [
    {
     "name": "stdout",
     "output_type": "stream",
     "text": [
      "[[11 17]\n",
      " [38 44]]\n"
     ]
    }
   ],
   "source": [
    "print(2*A + B **2)"
   ]
  },
  {
   "cell_type": "code",
   "execution_count": 5,
   "metadata": {
    "collapsed": false
   },
   "outputs": [
    {
     "data": {
      "text/plain": [
       "[array([1, 4])]"
      ]
     },
     "execution_count": 5,
     "metadata": {},
     "output_type": "execute_result"
    }
   ],
   "source": [
    "np.meshgrid(a)"
   ]
  },
  {
   "cell_type": "code",
   "execution_count": 8,
   "metadata": {
    "collapsed": true
   },
   "outputs": [],
   "source": [
    "c = [1,5,6,34,6,3,2]\n",
    "d = [1,4,7]\n",
    "e = [4,3,2,5]"
   ]
  },
  {
   "cell_type": "code",
   "execution_count": 9,
   "metadata": {
    "collapsed": false
   },
   "outputs": [
    {
     "data": {
      "text/plain": [
       "[array([[[ 1,  1,  1,  1],\n",
       "         [ 5,  5,  5,  5],\n",
       "         [ 6,  6,  6,  6],\n",
       "         [34, 34, 34, 34],\n",
       "         [ 6,  6,  6,  6],\n",
       "         [ 3,  3,  3,  3],\n",
       "         [ 2,  2,  2,  2]],\n",
       " \n",
       "        [[ 1,  1,  1,  1],\n",
       "         [ 5,  5,  5,  5],\n",
       "         [ 6,  6,  6,  6],\n",
       "         [34, 34, 34, 34],\n",
       "         [ 6,  6,  6,  6],\n",
       "         [ 3,  3,  3,  3],\n",
       "         [ 2,  2,  2,  2]],\n",
       " \n",
       "        [[ 1,  1,  1,  1],\n",
       "         [ 5,  5,  5,  5],\n",
       "         [ 6,  6,  6,  6],\n",
       "         [34, 34, 34, 34],\n",
       "         [ 6,  6,  6,  6],\n",
       "         [ 3,  3,  3,  3],\n",
       "         [ 2,  2,  2,  2]]]), array([[[1, 1, 1, 1],\n",
       "         [1, 1, 1, 1],\n",
       "         [1, 1, 1, 1],\n",
       "         [1, 1, 1, 1],\n",
       "         [1, 1, 1, 1],\n",
       "         [1, 1, 1, 1],\n",
       "         [1, 1, 1, 1]],\n",
       " \n",
       "        [[4, 4, 4, 4],\n",
       "         [4, 4, 4, 4],\n",
       "         [4, 4, 4, 4],\n",
       "         [4, 4, 4, 4],\n",
       "         [4, 4, 4, 4],\n",
       "         [4, 4, 4, 4],\n",
       "         [4, 4, 4, 4]],\n",
       " \n",
       "        [[7, 7, 7, 7],\n",
       "         [7, 7, 7, 7],\n",
       "         [7, 7, 7, 7],\n",
       "         [7, 7, 7, 7],\n",
       "         [7, 7, 7, 7],\n",
       "         [7, 7, 7, 7],\n",
       "         [7, 7, 7, 7]]]), array([[[4, 3, 2, 5],\n",
       "         [4, 3, 2, 5],\n",
       "         [4, 3, 2, 5],\n",
       "         [4, 3, 2, 5],\n",
       "         [4, 3, 2, 5],\n",
       "         [4, 3, 2, 5],\n",
       "         [4, 3, 2, 5]],\n",
       " \n",
       "        [[4, 3, 2, 5],\n",
       "         [4, 3, 2, 5],\n",
       "         [4, 3, 2, 5],\n",
       "         [4, 3, 2, 5],\n",
       "         [4, 3, 2, 5],\n",
       "         [4, 3, 2, 5],\n",
       "         [4, 3, 2, 5]],\n",
       " \n",
       "        [[4, 3, 2, 5],\n",
       "         [4, 3, 2, 5],\n",
       "         [4, 3, 2, 5],\n",
       "         [4, 3, 2, 5],\n",
       "         [4, 3, 2, 5],\n",
       "         [4, 3, 2, 5],\n",
       "         [4, 3, 2, 5]]])]"
      ]
     },
     "execution_count": 9,
     "metadata": {},
     "output_type": "execute_result"
    }
   ],
   "source": [
    "np.meshgrid(c,d,e)"
   ]
  },
  {
   "cell_type": "code",
   "execution_count": null,
   "metadata": {
    "collapsed": true
   },
   "outputs": [],
   "source": []
  }
 ],
 "metadata": {
  "kernelspec": {
   "display_name": "Python 3",
   "language": "python",
   "name": "python3"
  },
  "language_info": {
   "codemirror_mode": {
    "name": "ipython",
    "version": 3
   },
   "file_extension": ".py",
   "mimetype": "text/x-python",
   "name": "python",
   "nbconvert_exporter": "python",
   "pygments_lexer": "ipython3",
   "version": "3.4.0"
  }
 },
 "nbformat": 4,
 "nbformat_minor": 0
}
