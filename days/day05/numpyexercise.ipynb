{
 "cells": [
  {
   "cell_type": "code",
   "execution_count": 1,
   "metadata": {
    "collapsed": true
   },
   "outputs": [],
   "source": [
    "%matplotlib inline\n",
    "from matplotlib import pyplot as plt\n",
    "import seaborn as sns"
   ]
  },
  {
   "cell_type": "code",
   "execution_count": 3,
   "metadata": {
    "collapsed": false
   },
   "outputs": [
    {
     "name": "stdout",
     "output_type": "stream",
     "text": [
      "Downloading:  https://raw.githubusercontent.com/ellisonbg/misc/master/vizarray.py\n",
      "Installing module:  github.ellisonbg.misc.vizarray\n"
     ]
    }
   ],
   "source": [
    "import antipackage\n",
    "from github.ellisonbg.misc import vizarray as va"
   ]
  },
  {
   "cell_type": "code",
   "execution_count": 4,
   "metadata": {
    "collapsed": true
   },
   "outputs": [],
   "source": [
    "import numpy as np"
   ]
  },
  {
   "cell_type": "code",
   "execution_count": 5,
   "metadata": {
    "collapsed": true
   },
   "outputs": [],
   "source": [
    "data = [0,2,4,6]\n",
    "a = np.array(data)"
   ]
  },
  {
   "cell_type": "code",
   "execution_count": 6,
   "metadata": {
    "collapsed": false
   },
   "outputs": [
    {
     "data": {
      "text/plain": [
       "numpy.ndarray"
      ]
     },
     "execution_count": 6,
     "metadata": {},
     "output_type": "execute_result"
    }
   ],
   "source": [
    "type(a)"
   ]
  },
  {
   "cell_type": "code",
   "execution_count": 7,
   "metadata": {
    "collapsed": false
   },
   "outputs": [
    {
     "data": {
      "text/plain": [
       "array([0, 2, 4, 6])"
      ]
     },
     "execution_count": 7,
     "metadata": {},
     "output_type": "execute_result"
    }
   ],
   "source": [
    "a"
   ]
  },
  {
   "cell_type": "code",
   "execution_count": 8,
   "metadata": {
    "collapsed": false
   },
   "outputs": [
    {
     "data": {
      "text/html": [
       "<style type=\"text/css\">table.blockgrid {border: none;} .blockgrid tr {border: none;} .blockgrid td {padding: 0px;} #blocksdc1cf010-64cd-40c3-8301-f19ea8d583f1 td {border: 1px solid white;}</style><table id=\"blocksdc1cf010-64cd-40c3-8301-f19ea8d583f1\" class=\"blockgrid\"><tbody><tr><td title=\"Index: [0, 0]&#10;Color: (247, 251, 255)\" style=\"width: 30px; height: 30px;background-color: rgb(247, 251, 255);\"></td><td title=\"Index: [0, 1]&#10;Color: (171, 208, 230)\" style=\"width: 30px; height: 30px;background-color: rgb(171, 208, 230);\"></td><td title=\"Index: [0, 2]&#10;Color: (55, 135, 192)\" style=\"width: 30px; height: 30px;background-color: rgb(55, 135, 192);\"></td><td title=\"Index: [0, 3]&#10;Color: (8, 48, 107)\" style=\"width: 30px; height: 30px;background-color: rgb(8, 48, 107);\"></td></tr></tbody></table>"
      ],
      "text/plain": [
       "<ipythonblocks.ipythonblocks.BlockGrid at 0x7fd358979e10>"
      ]
     },
     "execution_count": 8,
     "metadata": {},
     "output_type": "execute_result"
    }
   ],
   "source": [
    "va.vizarray(a)"
   ]
  },
  {
   "cell_type": "code",
   "execution_count": 9,
   "metadata": {
    "collapsed": false
   },
   "outputs": [
    {
     "data": {
      "text/plain": [
       "(4,)"
      ]
     },
     "execution_count": 9,
     "metadata": {},
     "output_type": "execute_result"
    }
   ],
   "source": [
    "a.shape"
   ]
  },
  {
   "cell_type": "code",
   "execution_count": 10,
   "metadata": {
    "collapsed": false
   },
   "outputs": [
    {
     "data": {
      "text/plain": [
       "1"
      ]
     },
     "execution_count": 10,
     "metadata": {},
     "output_type": "execute_result"
    }
   ],
   "source": [
    "a.ndim"
   ]
  },
  {
   "cell_type": "code",
   "execution_count": 11,
   "metadata": {
    "collapsed": false
   },
   "outputs": [
    {
     "data": {
      "text/plain": [
       "4"
      ]
     },
     "execution_count": 11,
     "metadata": {},
     "output_type": "execute_result"
    }
   ],
   "source": [
    "a.size"
   ]
  },
  {
   "cell_type": "code",
   "execution_count": 12,
   "metadata": {
    "collapsed": false
   },
   "outputs": [
    {
     "data": {
      "text/plain": [
       "32"
      ]
     },
     "execution_count": 12,
     "metadata": {},
     "output_type": "execute_result"
    }
   ],
   "source": [
    "a.nbytes"
   ]
  },
  {
   "cell_type": "code",
   "execution_count": 13,
   "metadata": {
    "collapsed": false
   },
   "outputs": [
    {
     "data": {
      "text/plain": [
       "dtype('int64')"
      ]
     },
     "execution_count": 13,
     "metadata": {},
     "output_type": "execute_result"
    }
   ],
   "source": [
    "a.dtype"
   ]
  },
  {
   "cell_type": "code",
   "execution_count": 14,
   "metadata": {
    "collapsed": true
   },
   "outputs": [],
   "source": [
    "data = [[0.0,2.0,4.0,6.0],[1.0,3.0,5.0,7.0]]\n",
    "b = np.array(data)"
   ]
  },
  {
   "cell_type": "code",
   "execution_count": 15,
   "metadata": {
    "collapsed": false
   },
   "outputs": [
    {
     "data": {
      "text/plain": [
       "array([[ 0.,  2.,  4.,  6.],\n",
       "       [ 1.,  3.,  5.,  7.]])"
      ]
     },
     "execution_count": 15,
     "metadata": {},
     "output_type": "execute_result"
    }
   ],
   "source": [
    "b"
   ]
  },
  {
   "cell_type": "code",
   "execution_count": 16,
   "metadata": {
    "collapsed": false
   },
   "outputs": [
    {
     "data": {
      "text/html": [
       "<style type=\"text/css\">table.blockgrid {border: none;} .blockgrid tr {border: none;} .blockgrid td {padding: 0px;} #blocks1818b8d5-d2ae-41ce-bac3-e34979252446 td {border: 1px solid white;}</style><table id=\"blocks1818b8d5-d2ae-41ce-bac3-e34979252446\" class=\"blockgrid\"><tbody><tr><td title=\"Index: [0, 0]&#10;Color: (247, 251, 255)\" style=\"width: 30px; height: 30px;background-color: rgb(247, 251, 255);\"></td><td title=\"Index: [0, 1]&#10;Color: (186, 214, 235)\" style=\"width: 30px; height: 30px;background-color: rgb(186, 214, 235);\"></td><td title=\"Index: [0, 2]&#10;Color: (83, 158, 205)\" style=\"width: 30px; height: 30px;background-color: rgb(83, 158, 205);\"></td><td title=\"Index: [0, 3]&#10;Color: (11, 85, 159)\" style=\"width: 30px; height: 30px;background-color: rgb(11, 85, 159);\"></td></tr><tr><td title=\"Index: [1, 0]&#10;Color: (219, 233, 246)\" style=\"width: 30px; height: 30px;background-color: rgb(219, 233, 246);\"></td><td title=\"Index: [1, 1]&#10;Color: (137, 190, 220)\" style=\"width: 30px; height: 30px;background-color: rgb(137, 190, 220);\"></td><td title=\"Index: [1, 2]&#10;Color: (43, 123, 186)\" style=\"width: 30px; height: 30px;background-color: rgb(43, 123, 186);\"></td><td title=\"Index: [1, 3]&#10;Color: (8, 48, 107)\" style=\"width: 30px; height: 30px;background-color: rgb(8, 48, 107);\"></td></tr></tbody></table>"
      ],
      "text/plain": [
       "<ipythonblocks.ipythonblocks.BlockGrid at 0x7fd37cc951d0>"
      ]
     },
     "execution_count": 16,
     "metadata": {},
     "output_type": "execute_result"
    }
   ],
   "source": [
    "va.vizarray(b)"
   ]
  },
  {
   "cell_type": "code",
   "execution_count": 17,
   "metadata": {
    "collapsed": false
   },
   "outputs": [
    {
     "data": {
      "text/plain": [
       "(2, 4)"
      ]
     },
     "execution_count": 17,
     "metadata": {},
     "output_type": "execute_result"
    }
   ],
   "source": [
    "b.shape"
   ]
  },
  {
   "cell_type": "code",
   "execution_count": 18,
   "metadata": {
    "collapsed": false
   },
   "outputs": [
    {
     "data": {
      "text/plain": [
       "2"
      ]
     },
     "execution_count": 18,
     "metadata": {},
     "output_type": "execute_result"
    }
   ],
   "source": [
    "b.ndim"
   ]
  },
  {
   "cell_type": "code",
   "execution_count": 19,
   "metadata": {
    "collapsed": false
   },
   "outputs": [
    {
     "data": {
      "text/plain": [
       "8"
      ]
     },
     "execution_count": 19,
     "metadata": {},
     "output_type": "execute_result"
    }
   ],
   "source": [
    "b.size"
   ]
  },
  {
   "cell_type": "code",
   "execution_count": 20,
   "metadata": {
    "collapsed": false
   },
   "outputs": [
    {
     "data": {
      "text/plain": [
       "64"
      ]
     },
     "execution_count": 20,
     "metadata": {},
     "output_type": "execute_result"
    }
   ],
   "source": [
    "b.nbytes"
   ]
  },
  {
   "cell_type": "code",
   "execution_count": 22,
   "metadata": {
    "collapsed": false
   },
   "outputs": [
    {
     "data": {
      "text/plain": [
       "array([ 0.,  1.,  2.,  3.,  4.])"
      ]
     },
     "execution_count": 22,
     "metadata": {},
     "output_type": "execute_result"
    }
   ],
   "source": [
    "c = np.arange(0.0,5.0,1.0)\n",
    "c"
   ]
  },
  {
   "cell_type": "code",
   "execution_count": 23,
   "metadata": {
    "collapsed": false
   },
   "outputs": [
    {
     "data": {
      "text/plain": [
       "array([ 0. ,  0.5,  1. ,  1.5,  2. ,  2.5,  3. ,  3.5,  4. ,  4.5,  5. ])"
      ]
     },
     "execution_count": 23,
     "metadata": {},
     "output_type": "execute_result"
    }
   ],
   "source": [
    "e = np.linspace(0.0,5.0,11)\n",
    "e"
   ]
  },
  {
   "cell_type": "code",
   "execution_count": 24,
   "metadata": {
    "collapsed": false
   },
   "outputs": [
    {
     "data": {
      "text/plain": [
       "array([[  6.94391878e-310,   2.52669756e-316,   6.94391899e-310,\n",
       "          6.94388024e-310],\n",
       "       [  6.94391894e-310,   6.94388024e-310,   6.94391899e-310,\n",
       "          6.94388024e-310],\n",
       "       [  6.94391894e-310,   6.94388024e-310,   6.94391899e-310,\n",
       "          6.94388024e-310],\n",
       "       [  6.94391894e-310,   6.94388024e-310,   6.94391899e-310,\n",
       "          6.94388024e-310]])"
      ]
     },
     "execution_count": 24,
     "metadata": {},
     "output_type": "execute_result"
    }
   ],
   "source": [
    "np.empty((4,4))"
   ]
  },
  {
   "cell_type": "code",
   "execution_count": 25,
   "metadata": {
    "collapsed": false
   },
   "outputs": [
    {
     "data": {
      "text/plain": [
       "array([[ 0.,  0.,  0.],\n",
       "       [ 0.,  0.,  0.],\n",
       "       [ 0.,  0.,  0.]])"
      ]
     },
     "execution_count": 25,
     "metadata": {},
     "output_type": "execute_result"
    }
   ],
   "source": [
    "np.zeros((3,3))"
   ]
  },
  {
   "cell_type": "code",
   "execution_count": 26,
   "metadata": {
    "collapsed": false
   },
   "outputs": [
    {
     "data": {
      "text/plain": [
       "array([[ 1.,  1.,  1.],\n",
       "       [ 1.,  1.,  1.],\n",
       "       [ 1.,  1.,  1.]])"
      ]
     },
     "execution_count": 26,
     "metadata": {},
     "output_type": "execute_result"
    }
   ],
   "source": [
    "np.ones((3,3))"
   ]
  },
  {
   "cell_type": "code",
   "execution_count": 27,
   "metadata": {
    "collapsed": false
   },
   "outputs": [
    {
     "data": {
      "text/plain": [
       "array([0, 0])"
      ]
     },
     "execution_count": 27,
     "metadata": {},
     "output_type": "execute_result"
    }
   ],
   "source": [
    "np.empty_like((2,2))"
   ]
  },
  {
   "cell_type": "code",
   "execution_count": 28,
   "metadata": {
    "collapsed": false
   },
   "outputs": [
    {
     "data": {
      "text/plain": [
       "array([1, 1])"
      ]
     },
     "execution_count": 28,
     "metadata": {},
     "output_type": "execute_result"
    }
   ],
   "source": [
    "np.ones_like((2,2))"
   ]
  },
  {
   "cell_type": "code",
   "execution_count": 29,
   "metadata": {
    "collapsed": false
   },
   "outputs": [
    {
     "data": {
      "text/plain": [
       "array([0, 0])"
      ]
     },
     "execution_count": 29,
     "metadata": {},
     "output_type": "execute_result"
    }
   ],
   "source": [
    "np.zeros_like((2,2))"
   ]
  },
  {
   "cell_type": "code",
   "execution_count": 30,
   "metadata": {
    "collapsed": true
   },
   "outputs": [],
   "source": [
    "a = np.array([0,1,2,3])"
   ]
  },
  {
   "cell_type": "code",
   "execution_count": 31,
   "metadata": {
    "collapsed": false
   },
   "outputs": [
    {
     "data": {
      "text/plain": [
       "(array([0, 1, 2, 3]), dtype('int64'))"
      ]
     },
     "execution_count": 31,
     "metadata": {},
     "output_type": "execute_result"
    }
   ],
   "source": [
    "a, a.dtype"
   ]
  },
  {
   "cell_type": "code",
   "execution_count": 32,
   "metadata": {
    "collapsed": false
   },
   "outputs": [
    {
     "data": {
      "text/plain": [
       "array([[ 0.+0.j,  0.+0.j],\n",
       "       [ 0.+0.j,  0.+0.j]], dtype=complex64)"
      ]
     },
     "execution_count": 32,
     "metadata": {},
     "output_type": "execute_result"
    }
   ],
   "source": [
    "b = np.zeros((2,2), dtype = np.complex64)\n",
    "b"
   ]
  },
  {
   "cell_type": "code",
   "execution_count": 33,
   "metadata": {
    "collapsed": false
   },
   "outputs": [
    {
     "data": {
      "text/plain": [
       "array([ 0.,  2.,  4.,  6.,  8.])"
      ]
     },
     "execution_count": 33,
     "metadata": {},
     "output_type": "execute_result"
    }
   ],
   "source": [
    "c = np.arange(0,10,2, dtype = np.float)\n",
    "c"
   ]
  },
  {
   "cell_type": "code",
   "execution_count": 34,
   "metadata": {
    "collapsed": false
   },
   "outputs": [
    {
     "data": {
      "text/plain": [
       "array([0, 2, 4, 6, 8])"
      ]
     },
     "execution_count": 34,
     "metadata": {},
     "output_type": "execute_result"
    }
   ],
   "source": [
    "d = c.astype(dtype = np.int)\n",
    "d"
   ]
  },
  {
   "cell_type": "code",
   "execution_count": 35,
   "metadata": {
    "collapsed": true
   },
   "outputs": [],
   "source": [
    "np.float*?"
   ]
  },
  {
   "cell_type": "code",
   "execution_count": 36,
   "metadata": {
    "collapsed": false
   },
   "outputs": [
    {
     "data": {
      "text/plain": [
       "array([[ 0.1,  0.1,  0.1],\n",
       "       [ 0.1,  0.1,  0.1],\n",
       "       [ 0.1,  0.1,  0.1]])"
      ]
     },
     "execution_count": 36,
     "metadata": {},
     "output_type": "execute_result"
    }
   ],
   "source": [
    "a = np.empty((3,3))\n",
    "a.fill(0.1)\n",
    "a"
   ]
  },
  {
   "cell_type": "code",
   "execution_count": 37,
   "metadata": {
    "collapsed": true
   },
   "outputs": [],
   "source": [
    "b = np.ones((3,3))"
   ]
  },
  {
   "cell_type": "code",
   "execution_count": 38,
   "metadata": {
    "collapsed": false
   },
   "outputs": [
    {
     "data": {
      "text/plain": [
       "array([[ 1.,  1.,  1.],\n",
       "       [ 1.,  1.,  1.],\n",
       "       [ 1.,  1.,  1.]])"
      ]
     },
     "execution_count": 38,
     "metadata": {},
     "output_type": "execute_result"
    }
   ],
   "source": [
    "b"
   ]
  },
  {
   "cell_type": "code",
   "execution_count": 39,
   "metadata": {
    "collapsed": false
   },
   "outputs": [
    {
     "data": {
      "text/plain": [
       "array([[ 1.1,  1.1,  1.1],\n",
       "       [ 1.1,  1.1,  1.1],\n",
       "       [ 1.1,  1.1,  1.1]])"
      ]
     },
     "execution_count": 39,
     "metadata": {},
     "output_type": "execute_result"
    }
   ],
   "source": [
    "a+b"
   ]
  },
  {
   "cell_type": "code",
   "execution_count": 40,
   "metadata": {
    "collapsed": false
   },
   "outputs": [
    {
     "data": {
      "text/plain": [
       "array([[ 10.,  10.,  10.],\n",
       "       [ 10.,  10.,  10.],\n",
       "       [ 10.,  10.,  10.]])"
      ]
     },
     "execution_count": 40,
     "metadata": {},
     "output_type": "execute_result"
    }
   ],
   "source": [
    "b/a"
   ]
  },
  {
   "cell_type": "code",
   "execution_count": 41,
   "metadata": {
    "collapsed": false
   },
   "outputs": [
    {
     "data": {
      "text/plain": [
       "array([[ 0.01,  0.01,  0.01],\n",
       "       [ 0.01,  0.01,  0.01],\n",
       "       [ 0.01,  0.01,  0.01]])"
      ]
     },
     "execution_count": 41,
     "metadata": {},
     "output_type": "execute_result"
    }
   ],
   "source": [
    "a**2"
   ]
  },
  {
   "cell_type": "code",
   "execution_count": 42,
   "metadata": {
    "collapsed": false
   },
   "outputs": [
    {
     "data": {
      "text/plain": [
       "array([[ 3.14159265,  3.14159265,  3.14159265],\n",
       "       [ 3.14159265,  3.14159265,  3.14159265],\n",
       "       [ 3.14159265,  3.14159265,  3.14159265]])"
      ]
     },
     "execution_count": 42,
     "metadata": {},
     "output_type": "execute_result"
    }
   ],
   "source": [
    "np.pi*b"
   ]
  },
  {
   "cell_type": "code",
   "execution_count": 43,
   "metadata": {
    "collapsed": true
   },
   "outputs": [],
   "source": [
    "a= np.random.rand(10,10)"
   ]
  },
  {
   "cell_type": "code",
   "execution_count": 44,
   "metadata": {
    "collapsed": true
   },
   "outputs": [],
   "source": [
    "va.enable()"
   ]
  },
  {
   "cell_type": "code",
   "execution_count": 45,
   "metadata": {
    "collapsed": false
   },
   "outputs": [
    {
     "data": {
      "text/html": [
       "<style type=\"text/css\">table.blockgrid {border: none;} .blockgrid tr {border: none;} .blockgrid td {padding: 0px;} #blocks20c2e3d1-8388-4375-93af-bdda63768e44 td {border: 1px solid white;}</style><table id=\"blocks20c2e3d1-8388-4375-93af-bdda63768e44\" class=\"blockgrid\"><tbody><tr><td title=\"Index: [0, 0]&#10;Color: (54, 134, 192)\" style=\"width: 30px; height: 30px;background-color: rgb(54, 134, 192);\"></td><td title=\"Index: [0, 1]&#10;Color: (127, 185, 218)\" style=\"width: 30px; height: 30px;background-color: rgb(127, 185, 218);\"></td><td title=\"Index: [0, 2]&#10;Color: (239, 246, 252)\" style=\"width: 30px; height: 30px;background-color: rgb(239, 246, 252);\"></td><td title=\"Index: [0, 3]&#10;Color: (79, 155, 203)\" style=\"width: 30px; height: 30px;background-color: rgb(79, 155, 203);\"></td><td title=\"Index: [0, 4]&#10;Color: (122, 182, 217)\" style=\"width: 30px; height: 30px;background-color: rgb(122, 182, 217);\"></td><td title=\"Index: [0, 5]&#10;Color: (247, 251, 255)\" style=\"width: 30px; height: 30px;background-color: rgb(247, 251, 255);\"></td><td title=\"Index: [0, 6]&#10;Color: (211, 227, 243)\" style=\"width: 30px; height: 30px;background-color: rgb(211, 227, 243);\"></td><td title=\"Index: [0, 7]&#10;Color: (8, 69, 138)\" style=\"width: 30px; height: 30px;background-color: rgb(8, 69, 138);\"></td><td title=\"Index: [0, 8]&#10;Color: (199, 219, 239)\" style=\"width: 30px; height: 30px;background-color: rgb(199, 219, 239);\"></td><td title=\"Index: [0, 9]&#10;Color: (129, 186, 219)\" style=\"width: 30px; height: 30px;background-color: rgb(129, 186, 219);\"></td></tr><tr><td title=\"Index: [1, 0]&#10;Color: (205, 223, 241)\" style=\"width: 30px; height: 30px;background-color: rgb(205, 223, 241);\"></td><td title=\"Index: [1, 1]&#10;Color: (191, 216, 237)\" style=\"width: 30px; height: 30px;background-color: rgb(191, 216, 237);\"></td><td title=\"Index: [1, 2]&#10;Color: (186, 214, 235)\" style=\"width: 30px; height: 30px;background-color: rgb(186, 214, 235);\"></td><td title=\"Index: [1, 3]&#10;Color: (8, 56, 119)\" style=\"width: 30px; height: 30px;background-color: rgb(8, 56, 119);\"></td><td title=\"Index: [1, 4]&#10;Color: (217, 232, 245)\" style=\"width: 30px; height: 30px;background-color: rgb(217, 232, 245);\"></td><td title=\"Index: [1, 5]&#10;Color: (88, 161, 207)\" style=\"width: 30px; height: 30px;background-color: rgb(88, 161, 207);\"></td><td title=\"Index: [1, 6]&#10;Color: (151, 198, 223)\" style=\"width: 30px; height: 30px;background-color: rgb(151, 198, 223);\"></td><td title=\"Index: [1, 7]&#10;Color: (199, 219, 239)\" style=\"width: 30px; height: 30px;background-color: rgb(199, 219, 239);\"></td><td title=\"Index: [1, 8]&#10;Color: (9, 82, 157)\" style=\"width: 30px; height: 30px;background-color: rgb(9, 82, 157);\"></td><td title=\"Index: [1, 9]&#10;Color: (101, 170, 212)\" style=\"width: 30px; height: 30px;background-color: rgb(101, 170, 212);\"></td></tr><tr><td title=\"Index: [2, 0]&#10;Color: (8, 51, 112)\" style=\"width: 30px; height: 30px;background-color: rgb(8, 51, 112);\"></td><td title=\"Index: [2, 1]&#10;Color: (224, 236, 248)\" style=\"width: 30px; height: 30px;background-color: rgb(224, 236, 248);\"></td><td title=\"Index: [2, 2]&#10;Color: (82, 157, 204)\" style=\"width: 30px; height: 30px;background-color: rgb(82, 157, 204);\"></td><td title=\"Index: [2, 3]&#10;Color: (50, 130, 190)\" style=\"width: 30px; height: 30px;background-color: rgb(50, 130, 190);\"></td><td title=\"Index: [2, 4]&#10;Color: (8, 52, 113)\" style=\"width: 30px; height: 30px;background-color: rgb(8, 52, 113);\"></td><td title=\"Index: [2, 5]&#10;Color: (201, 221, 240)\" style=\"width: 30px; height: 30px;background-color: rgb(201, 221, 240);\"></td><td title=\"Index: [2, 6]&#10;Color: (8, 74, 145)\" style=\"width: 30px; height: 30px;background-color: rgb(8, 74, 145);\"></td><td title=\"Index: [2, 7]&#10;Color: (97, 167, 210)\" style=\"width: 30px; height: 30px;background-color: rgb(97, 167, 210);\"></td><td title=\"Index: [2, 8]&#10;Color: (8, 81, 156)\" style=\"width: 30px; height: 30px;background-color: rgb(8, 81, 156);\"></td><td title=\"Index: [2, 9]&#10;Color: (212, 228, 244)\" style=\"width: 30px; height: 30px;background-color: rgb(212, 228, 244);\"></td></tr><tr><td title=\"Index: [3, 0]&#10;Color: (229, 239, 249)\" style=\"width: 30px; height: 30px;background-color: rgb(229, 239, 249);\"></td><td title=\"Index: [3, 1]&#10;Color: (51, 131, 190)\" style=\"width: 30px; height: 30px;background-color: rgb(51, 131, 190);\"></td><td title=\"Index: [3, 2]&#10;Color: (190, 216, 236)\" style=\"width: 30px; height: 30px;background-color: rgb(190, 216, 236);\"></td><td title=\"Index: [3, 3]&#10;Color: (225, 237, 248)\" style=\"width: 30px; height: 30px;background-color: rgb(225, 237, 248);\"></td><td title=\"Index: [3, 4]&#10;Color: (181, 212, 233)\" style=\"width: 30px; height: 30px;background-color: rgb(181, 212, 233);\"></td><td title=\"Index: [3, 5]&#10;Color: (73, 151, 201)\" style=\"width: 30px; height: 30px;background-color: rgb(73, 151, 201);\"></td><td title=\"Index: [3, 6]&#10;Color: (114, 178, 216)\" style=\"width: 30px; height: 30px;background-color: rgb(114, 178, 216);\"></td><td title=\"Index: [3, 7]&#10;Color: (78, 154, 203)\" style=\"width: 30px; height: 30px;background-color: rgb(78, 154, 203);\"></td><td title=\"Index: [3, 8]&#10;Color: (78, 154, 203)\" style=\"width: 30px; height: 30px;background-color: rgb(78, 154, 203);\"></td><td title=\"Index: [3, 9]&#10;Color: (140, 192, 221)\" style=\"width: 30px; height: 30px;background-color: rgb(140, 192, 221);\"></td></tr><tr><td title=\"Index: [4, 0]&#10;Color: (57, 137, 193)\" style=\"width: 30px; height: 30px;background-color: rgb(57, 137, 193);\"></td><td title=\"Index: [4, 1]&#10;Color: (84, 159, 205)\" style=\"width: 30px; height: 30px;background-color: rgb(84, 159, 205);\"></td><td title=\"Index: [4, 2]&#10;Color: (138, 191, 221)\" style=\"width: 30px; height: 30px;background-color: rgb(138, 191, 221);\"></td><td title=\"Index: [4, 3]&#10;Color: (190, 216, 236)\" style=\"width: 30px; height: 30px;background-color: rgb(190, 216, 236);\"></td><td title=\"Index: [4, 4]&#10;Color: (180, 211, 233)\" style=\"width: 30px; height: 30px;background-color: rgb(180, 211, 233);\"></td><td title=\"Index: [4, 5]&#10;Color: (135, 189, 220)\" style=\"width: 30px; height: 30px;background-color: rgb(135, 189, 220);\"></td><td title=\"Index: [4, 6]&#10;Color: (93, 165, 209)\" style=\"width: 30px; height: 30px;background-color: rgb(93, 165, 209);\"></td><td title=\"Index: [4, 7]&#10;Color: (19, 95, 167)\" style=\"width: 30px; height: 30px;background-color: rgb(19, 95, 167);\"></td><td title=\"Index: [4, 8]&#10;Color: (57, 137, 193)\" style=\"width: 30px; height: 30px;background-color: rgb(57, 137, 193);\"></td><td title=\"Index: [4, 9]&#10;Color: (205, 223, 241)\" style=\"width: 30px; height: 30px;background-color: rgb(205, 223, 241);\"></td></tr><tr><td title=\"Index: [5, 0]&#10;Color: (220, 233, 246)\" style=\"width: 30px; height: 30px;background-color: rgb(220, 233, 246);\"></td><td title=\"Index: [5, 1]&#10;Color: (63, 143, 197)\" style=\"width: 30px; height: 30px;background-color: rgb(63, 143, 197);\"></td><td title=\"Index: [5, 2]&#10;Color: (8, 76, 149)\" style=\"width: 30px; height: 30px;background-color: rgb(8, 76, 149);\"></td><td title=\"Index: [5, 3]&#10;Color: (223, 236, 247)\" style=\"width: 30px; height: 30px;background-color: rgb(223, 236, 247);\"></td><td title=\"Index: [5, 4]&#10;Color: (185, 214, 234)\" style=\"width: 30px; height: 30px;background-color: rgb(185, 214, 234);\"></td><td title=\"Index: [5, 5]&#10;Color: (201, 221, 240)\" style=\"width: 30px; height: 30px;background-color: rgb(201, 221, 240);\"></td><td title=\"Index: [5, 6]&#10;Color: (28, 106, 176)\" style=\"width: 30px; height: 30px;background-color: rgb(28, 106, 176);\"></td><td title=\"Index: [5, 7]&#10;Color: (104, 172, 213)\" style=\"width: 30px; height: 30px;background-color: rgb(104, 172, 213);\"></td><td title=\"Index: [5, 8]&#10;Color: (36, 116, 183)\" style=\"width: 30px; height: 30px;background-color: rgb(36, 116, 183);\"></td><td title=\"Index: [5, 9]&#10;Color: (227, 238, 249)\" style=\"width: 30px; height: 30px;background-color: rgb(227, 238, 249);\"></td></tr><tr><td title=\"Index: [6, 0]&#10;Color: (53, 133, 191)\" style=\"width: 30px; height: 30px;background-color: rgb(53, 133, 191);\"></td><td title=\"Index: [6, 1]&#10;Color: (230, 240, 249)\" style=\"width: 30px; height: 30px;background-color: rgb(230, 240, 249);\"></td><td title=\"Index: [6, 2]&#10;Color: (53, 133, 191)\" style=\"width: 30px; height: 30px;background-color: rgb(53, 133, 191);\"></td><td title=\"Index: [6, 3]&#10;Color: (78, 154, 203)\" style=\"width: 30px; height: 30px;background-color: rgb(78, 154, 203);\"></td><td title=\"Index: [6, 4]&#10;Color: (211, 228, 243)\" style=\"width: 30px; height: 30px;background-color: rgb(211, 228, 243);\"></td><td title=\"Index: [6, 5]&#10;Color: (127, 185, 218)\" style=\"width: 30px; height: 30px;background-color: rgb(127, 185, 218);\"></td><td title=\"Index: [6, 6]&#10;Color: (205, 224, 241)\" style=\"width: 30px; height: 30px;background-color: rgb(205, 224, 241);\"></td><td title=\"Index: [6, 7]&#10;Color: (38, 118, 184)\" style=\"width: 30px; height: 30px;background-color: rgb(38, 118, 184);\"></td><td title=\"Index: [6, 8]&#10;Color: (81, 156, 204)\" style=\"width: 30px; height: 30px;background-color: rgb(81, 156, 204);\"></td><td title=\"Index: [6, 9]&#10;Color: (8, 58, 122)\" style=\"width: 30px; height: 30px;background-color: rgb(8, 58, 122);\"></td></tr><tr><td title=\"Index: [7, 0]&#10;Color: (99, 168, 211)\" style=\"width: 30px; height: 30px;background-color: rgb(99, 168, 211);\"></td><td title=\"Index: [7, 1]&#10;Color: (8, 70, 139)\" style=\"width: 30px; height: 30px;background-color: rgb(8, 70, 139);\"></td><td title=\"Index: [7, 2]&#10;Color: (72, 150, 200)\" style=\"width: 30px; height: 30px;background-color: rgb(72, 150, 200);\"></td><td title=\"Index: [7, 3]&#10;Color: (20, 96, 168)\" style=\"width: 30px; height: 30px;background-color: rgb(20, 96, 168);\"></td><td title=\"Index: [7, 4]&#10;Color: (202, 221, 240)\" style=\"width: 30px; height: 30px;background-color: rgb(202, 221, 240);\"></td><td title=\"Index: [7, 5]&#10;Color: (198, 219, 239)\" style=\"width: 30px; height: 30px;background-color: rgb(198, 219, 239);\"></td><td title=\"Index: [7, 6]&#10;Color: (203, 222, 241)\" style=\"width: 30px; height: 30px;background-color: rgb(203, 222, 241);\"></td><td title=\"Index: [7, 7]&#10;Color: (137, 190, 220)\" style=\"width: 30px; height: 30px;background-color: rgb(137, 190, 220);\"></td><td title=\"Index: [7, 8]&#10;Color: (176, 210, 231)\" style=\"width: 30px; height: 30px;background-color: rgb(176, 210, 231);\"></td><td title=\"Index: [7, 9]&#10;Color: (176, 210, 231)\" style=\"width: 30px; height: 30px;background-color: rgb(176, 210, 231);\"></td></tr><tr><td title=\"Index: [8, 0]&#10;Color: (108, 174, 214)\" style=\"width: 30px; height: 30px;background-color: rgb(108, 174, 214);\"></td><td title=\"Index: [8, 1]&#10;Color: (91, 163, 208)\" style=\"width: 30px; height: 30px;background-color: rgb(91, 163, 208);\"></td><td title=\"Index: [8, 2]&#10;Color: (8, 48, 107)\" style=\"width: 30px; height: 30px;background-color: rgb(8, 48, 107);\"></td><td title=\"Index: [8, 3]&#10;Color: (204, 223, 241)\" style=\"width: 30px; height: 30px;background-color: rgb(204, 223, 241);\"></td><td title=\"Index: [8, 4]&#10;Color: (8, 49, 109)\" style=\"width: 30px; height: 30px;background-color: rgb(8, 49, 109);\"></td><td title=\"Index: [8, 5]&#10;Color: (48, 128, 189)\" style=\"width: 30px; height: 30px;background-color: rgb(48, 128, 189);\"></td><td title=\"Index: [8, 6]&#10;Color: (35, 115, 182)\" style=\"width: 30px; height: 30px;background-color: rgb(35, 115, 182);\"></td><td title=\"Index: [8, 7]&#10;Color: (199, 220, 239)\" style=\"width: 30px; height: 30px;background-color: rgb(199, 220, 239);\"></td><td title=\"Index: [8, 8]&#10;Color: (96, 167, 210)\" style=\"width: 30px; height: 30px;background-color: rgb(96, 167, 210);\"></td><td title=\"Index: [8, 9]&#10;Color: (175, 209, 231)\" style=\"width: 30px; height: 30px;background-color: rgb(175, 209, 231);\"></td></tr><tr><td title=\"Index: [9, 0]&#10;Color: (229, 239, 249)\" style=\"width: 30px; height: 30px;background-color: rgb(229, 239, 249);\"></td><td title=\"Index: [9, 1]&#10;Color: (72, 150, 200)\" style=\"width: 30px; height: 30px;background-color: rgb(72, 150, 200);\"></td><td title=\"Index: [9, 2]&#10;Color: (159, 202, 225)\" style=\"width: 30px; height: 30px;background-color: rgb(159, 202, 225);\"></td><td title=\"Index: [9, 3]&#10;Color: (57, 137, 193)\" style=\"width: 30px; height: 30px;background-color: rgb(57, 137, 193);\"></td><td title=\"Index: [9, 4]&#10;Color: (183, 212, 234)\" style=\"width: 30px; height: 30px;background-color: rgb(183, 212, 234);\"></td><td title=\"Index: [9, 5]&#10;Color: (28, 106, 176)\" style=\"width: 30px; height: 30px;background-color: rgb(28, 106, 176);\"></td><td title=\"Index: [9, 6]&#10;Color: (60, 140, 195)\" style=\"width: 30px; height: 30px;background-color: rgb(60, 140, 195);\"></td><td title=\"Index: [9, 7]&#10;Color: (19, 95, 167)\" style=\"width: 30px; height: 30px;background-color: rgb(19, 95, 167);\"></td><td title=\"Index: [9, 8]&#10;Color: (14, 89, 162)\" style=\"width: 30px; height: 30px;background-color: rgb(14, 89, 162);\"></td><td title=\"Index: [9, 9]&#10;Color: (90, 162, 207)\" style=\"width: 30px; height: 30px;background-color: rgb(90, 162, 207);\"></td></tr></tbody></table>"
      ],
      "text/plain": [
       "array([[ 0.67013623,  0.45583887,  0.05074661,  0.58751447,  0.46616551,\n",
       "         0.00833133,  0.1918171 ,  0.91937259,  0.25395158,  0.45008331],\n",
       "       [ 0.2241426 ,  0.27742102,  0.29127674,  0.9669188 ,  0.15850449,\n",
       "         0.56101207,  0.39716365,  0.25379424,  0.86971016,  0.52163862],\n",
       "       [ 0.98300807,  0.12104743,  0.57832338,  0.68664573,  0.98096891,\n",
       "         0.24153639,  0.89857076,  0.53128145,  0.87114603,  0.18360253],\n",
       "       [ 0.09800349,  0.68509077,  0.28110658,  0.11800147,  0.3095762 ,\n",
       "         0.6076424 ,  0.48442363,  0.5897385 ,  0.58983866,  0.42358971],\n",
       "       [ 0.65961994,  0.57051125,  0.42729363,  0.28269743,  0.31221747,\n",
       "         0.43529349,  0.54492249,  0.81821034,  0.6590534 ,  0.22360872],\n",
       "       [ 0.14526818,  0.63669065,  0.89359706,  0.12799922,  0.29678372,\n",
       "         0.24403505,  0.77556502,  0.51137466,  0.7385385 ,  0.10607934],\n",
       "       [ 0.67404172,  0.09497276,  0.67390407,  0.58923061,  0.18651393,\n",
       "         0.45684236,  0.21792067,  0.7286036 ,  0.58267409,  0.95599821],\n",
       "       [ 0.52797907,  0.91693093,  0.6086767 ,  0.81637828,  0.23970965,\n",
       "         0.25929857,  0.23165496,  0.43166834,  0.32282193,  0.32480992],\n",
       "       [ 0.50077211,  0.55083996,  0.99840587,  0.22556916,  0.99107666,\n",
       "         0.6950843 ,  0.74197321,  0.25078187,  0.53794714,  0.32781307],\n",
       "       [ 0.10065377,  0.61093123,  0.37933958,  0.65880201,  0.30452416,\n",
       "         0.77620463,  0.65020747,  0.8178926 ,  0.84207094,  0.55739702]])"
      ]
     },
     "execution_count": 45,
     "metadata": {},
     "output_type": "execute_result"
    }
   ],
   "source": [
    "a"
   ]
  },
  {
   "cell_type": "code",
   "execution_count": 46,
   "metadata": {
    "collapsed": false
   },
   "outputs": [
    {
     "data": {
      "text/plain": [
       "0.67013622954864394"
      ]
     },
     "execution_count": 46,
     "metadata": {},
     "output_type": "execute_result"
    }
   ],
   "source": [
    "a[0,0]"
   ]
  },
  {
   "cell_type": "code",
   "execution_count": 47,
   "metadata": {
    "collapsed": false
   },
   "outputs": [
    {
     "data": {
      "text/plain": [
       "True"
      ]
     },
     "execution_count": 47,
     "metadata": {},
     "output_type": "execute_result"
    }
   ],
   "source": [
    "a[-1,-1] == a[9,9]"
   ]
  },
  {
   "cell_type": "code",
   "execution_count": 48,
   "metadata": {
    "collapsed": false
   },
   "outputs": [
    {
     "data": {
      "text/html": [
       "<style type=\"text/css\">table.blockgrid {border: none;} .blockgrid tr {border: none;} .blockgrid td {padding: 0px;} #blocks95af599f-8646-47de-a097-34309de85d84 td {border: 1px solid white;}</style><table id=\"blocks95af599f-8646-47de-a097-34309de85d84\" class=\"blockgrid\"><tbody><tr><td title=\"Index: [0, 0]&#10;Color: (54, 134, 192)\" style=\"width: 30px; height: 30px;background-color: rgb(54, 134, 192);\"></td><td title=\"Index: [0, 1]&#10;Color: (205, 223, 241)\" style=\"width: 30px; height: 30px;background-color: rgb(205, 223, 241);\"></td><td title=\"Index: [0, 2]&#10;Color: (8, 51, 112)\" style=\"width: 30px; height: 30px;background-color: rgb(8, 51, 112);\"></td><td title=\"Index: [0, 3]&#10;Color: (229, 239, 249)\" style=\"width: 30px; height: 30px;background-color: rgb(229, 239, 249);\"></td><td title=\"Index: [0, 4]&#10;Color: (57, 137, 193)\" style=\"width: 30px; height: 30px;background-color: rgb(57, 137, 193);\"></td><td title=\"Index: [0, 5]&#10;Color: (220, 233, 246)\" style=\"width: 30px; height: 30px;background-color: rgb(220, 233, 246);\"></td><td title=\"Index: [0, 6]&#10;Color: (53, 133, 191)\" style=\"width: 30px; height: 30px;background-color: rgb(53, 133, 191);\"></td><td title=\"Index: [0, 7]&#10;Color: (99, 168, 211)\" style=\"width: 30px; height: 30px;background-color: rgb(99, 168, 211);\"></td><td title=\"Index: [0, 8]&#10;Color: (108, 174, 214)\" style=\"width: 30px; height: 30px;background-color: rgb(108, 174, 214);\"></td><td title=\"Index: [0, 9]&#10;Color: (229, 239, 249)\" style=\"width: 30px; height: 30px;background-color: rgb(229, 239, 249);\"></td></tr></tbody></table>"
      ],
      "text/plain": [
       "array([ 0.67013623,  0.2241426 ,  0.98300807,  0.09800349,  0.65961994,\n",
       "        0.14526818,  0.67404172,  0.52797907,  0.50077211,  0.10065377])"
      ]
     },
     "execution_count": 48,
     "metadata": {},
     "output_type": "execute_result"
    }
   ],
   "source": [
    "a[:,0]"
   ]
  },
  {
   "cell_type": "code",
   "execution_count": 49,
   "metadata": {
    "collapsed": false
   },
   "outputs": [
    {
     "data": {
      "text/html": [
       "<style type=\"text/css\">table.blockgrid {border: none;} .blockgrid tr {border: none;} .blockgrid td {padding: 0px;} #blocks1728ad42-ffb6-43ea-a211-1b766a616338 td {border: 1px solid white;}</style><table id=\"blocks1728ad42-ffb6-43ea-a211-1b766a616338\" class=\"blockgrid\"><tbody><tr><td title=\"Index: [0, 0]&#10;Color: (229, 239, 249)\" style=\"width: 30px; height: 30px;background-color: rgb(229, 239, 249);\"></td><td title=\"Index: [0, 1]&#10;Color: (72, 150, 200)\" style=\"width: 30px; height: 30px;background-color: rgb(72, 150, 200);\"></td><td title=\"Index: [0, 2]&#10;Color: (159, 202, 225)\" style=\"width: 30px; height: 30px;background-color: rgb(159, 202, 225);\"></td><td title=\"Index: [0, 3]&#10;Color: (57, 137, 193)\" style=\"width: 30px; height: 30px;background-color: rgb(57, 137, 193);\"></td><td title=\"Index: [0, 4]&#10;Color: (183, 212, 234)\" style=\"width: 30px; height: 30px;background-color: rgb(183, 212, 234);\"></td><td title=\"Index: [0, 5]&#10;Color: (28, 106, 176)\" style=\"width: 30px; height: 30px;background-color: rgb(28, 106, 176);\"></td><td title=\"Index: [0, 6]&#10;Color: (60, 140, 195)\" style=\"width: 30px; height: 30px;background-color: rgb(60, 140, 195);\"></td><td title=\"Index: [0, 7]&#10;Color: (19, 95, 167)\" style=\"width: 30px; height: 30px;background-color: rgb(19, 95, 167);\"></td><td title=\"Index: [0, 8]&#10;Color: (14, 89, 162)\" style=\"width: 30px; height: 30px;background-color: rgb(14, 89, 162);\"></td><td title=\"Index: [0, 9]&#10;Color: (90, 162, 207)\" style=\"width: 30px; height: 30px;background-color: rgb(90, 162, 207);\"></td></tr></tbody></table>"
      ],
      "text/plain": [
       "array([ 0.10065377,  0.61093123,  0.37933958,  0.65880201,  0.30452416,\n",
       "        0.77620463,  0.65020747,  0.8178926 ,  0.84207094,  0.55739702])"
      ]
     },
     "execution_count": 49,
     "metadata": {},
     "output_type": "execute_result"
    }
   ],
   "source": [
    "a[-1,:]"
   ]
  },
  {
   "cell_type": "code",
   "execution_count": 50,
   "metadata": {
    "collapsed": false
   },
   "outputs": [
    {
     "data": {
      "text/html": [
       "<style type=\"text/css\">table.blockgrid {border: none;} .blockgrid tr {border: none;} .blockgrid td {padding: 0px;} #blocks52d6ec99-fd91-4803-91d2-30156d0a83cd td {border: 1px solid white;}</style><table id=\"blocks52d6ec99-fd91-4803-91d2-30156d0a83cd\" class=\"blockgrid\"><tbody><tr><td title=\"Index: [0, 0]&#10;Color: (54, 134, 192)\" style=\"width: 30px; height: 30px;background-color: rgb(54, 134, 192);\"></td><td title=\"Index: [0, 1]&#10;Color: (127, 185, 218)\" style=\"width: 30px; height: 30px;background-color: rgb(127, 185, 218);\"></td></tr><tr><td title=\"Index: [1, 0]&#10;Color: (205, 223, 241)\" style=\"width: 30px; height: 30px;background-color: rgb(205, 223, 241);\"></td><td title=\"Index: [1, 1]&#10;Color: (191, 216, 237)\" style=\"width: 30px; height: 30px;background-color: rgb(191, 216, 237);\"></td></tr></tbody></table>"
      ],
      "text/plain": [
       "array([[ 0.67013623,  0.45583887],\n",
       "       [ 0.2241426 ,  0.27742102]])"
      ]
     },
     "execution_count": 50,
     "metadata": {},
     "output_type": "execute_result"
    }
   ],
   "source": [
    "a[0:2,0:2]"
   ]
  },
  {
   "cell_type": "code",
   "execution_count": 51,
   "metadata": {
    "collapsed": true
   },
   "outputs": [],
   "source": [
    "a[0:5,0:5] = 1.0"
   ]
  },
  {
   "cell_type": "code",
   "execution_count": 52,
   "metadata": {
    "collapsed": false
   },
   "outputs": [
    {
     "data": {
      "text/html": [
       "<style type=\"text/css\">table.blockgrid {border: none;} .blockgrid tr {border: none;} .blockgrid td {padding: 0px;} #blocks03dbdb40-4754-472e-b0c0-aa6d97d89575 td {border: 1px solid white;}</style><table id=\"blocks03dbdb40-4754-472e-b0c0-aa6d97d89575\" class=\"blockgrid\"><tbody><tr><td title=\"Index: [0, 0]&#10;Color: (8, 48, 107)\" style=\"width: 30px; height: 30px;background-color: rgb(8, 48, 107);\"></td><td title=\"Index: [0, 1]&#10;Color: (8, 48, 107)\" style=\"width: 30px; height: 30px;background-color: rgb(8, 48, 107);\"></td><td title=\"Index: [0, 2]&#10;Color: (8, 48, 107)\" style=\"width: 30px; height: 30px;background-color: rgb(8, 48, 107);\"></td><td title=\"Index: [0, 3]&#10;Color: (8, 48, 107)\" style=\"width: 30px; height: 30px;background-color: rgb(8, 48, 107);\"></td><td title=\"Index: [0, 4]&#10;Color: (8, 48, 107)\" style=\"width: 30px; height: 30px;background-color: rgb(8, 48, 107);\"></td><td title=\"Index: [0, 5]&#10;Color: (247, 251, 255)\" style=\"width: 30px; height: 30px;background-color: rgb(247, 251, 255);\"></td><td title=\"Index: [0, 6]&#10;Color: (211, 227, 243)\" style=\"width: 30px; height: 30px;background-color: rgb(211, 227, 243);\"></td><td title=\"Index: [0, 7]&#10;Color: (8, 69, 138)\" style=\"width: 30px; height: 30px;background-color: rgb(8, 69, 138);\"></td><td title=\"Index: [0, 8]&#10;Color: (199, 219, 239)\" style=\"width: 30px; height: 30px;background-color: rgb(199, 219, 239);\"></td><td title=\"Index: [0, 9]&#10;Color: (129, 186, 219)\" style=\"width: 30px; height: 30px;background-color: rgb(129, 186, 219);\"></td></tr><tr><td title=\"Index: [1, 0]&#10;Color: (8, 48, 107)\" style=\"width: 30px; height: 30px;background-color: rgb(8, 48, 107);\"></td><td title=\"Index: [1, 1]&#10;Color: (8, 48, 107)\" style=\"width: 30px; height: 30px;background-color: rgb(8, 48, 107);\"></td><td title=\"Index: [1, 2]&#10;Color: (8, 48, 107)\" style=\"width: 30px; height: 30px;background-color: rgb(8, 48, 107);\"></td><td title=\"Index: [1, 3]&#10;Color: (8, 48, 107)\" style=\"width: 30px; height: 30px;background-color: rgb(8, 48, 107);\"></td><td title=\"Index: [1, 4]&#10;Color: (8, 48, 107)\" style=\"width: 30px; height: 30px;background-color: rgb(8, 48, 107);\"></td><td title=\"Index: [1, 5]&#10;Color: (88, 161, 207)\" style=\"width: 30px; height: 30px;background-color: rgb(88, 161, 207);\"></td><td title=\"Index: [1, 6]&#10;Color: (151, 198, 223)\" style=\"width: 30px; height: 30px;background-color: rgb(151, 198, 223);\"></td><td title=\"Index: [1, 7]&#10;Color: (199, 219, 239)\" style=\"width: 30px; height: 30px;background-color: rgb(199, 219, 239);\"></td><td title=\"Index: [1, 8]&#10;Color: (9, 82, 157)\" style=\"width: 30px; height: 30px;background-color: rgb(9, 82, 157);\"></td><td title=\"Index: [1, 9]&#10;Color: (101, 170, 212)\" style=\"width: 30px; height: 30px;background-color: rgb(101, 170, 212);\"></td></tr><tr><td title=\"Index: [2, 0]&#10;Color: (8, 48, 107)\" style=\"width: 30px; height: 30px;background-color: rgb(8, 48, 107);\"></td><td title=\"Index: [2, 1]&#10;Color: (8, 48, 107)\" style=\"width: 30px; height: 30px;background-color: rgb(8, 48, 107);\"></td><td title=\"Index: [2, 2]&#10;Color: (8, 48, 107)\" style=\"width: 30px; height: 30px;background-color: rgb(8, 48, 107);\"></td><td title=\"Index: [2, 3]&#10;Color: (8, 48, 107)\" style=\"width: 30px; height: 30px;background-color: rgb(8, 48, 107);\"></td><td title=\"Index: [2, 4]&#10;Color: (8, 48, 107)\" style=\"width: 30px; height: 30px;background-color: rgb(8, 48, 107);\"></td><td title=\"Index: [2, 5]&#10;Color: (201, 221, 240)\" style=\"width: 30px; height: 30px;background-color: rgb(201, 221, 240);\"></td><td title=\"Index: [2, 6]&#10;Color: (8, 75, 147)\" style=\"width: 30px; height: 30px;background-color: rgb(8, 75, 147);\"></td><td title=\"Index: [2, 7]&#10;Color: (99, 168, 211)\" style=\"width: 30px; height: 30px;background-color: rgb(99, 168, 211);\"></td><td title=\"Index: [2, 8]&#10;Color: (9, 82, 157)\" style=\"width: 30px; height: 30px;background-color: rgb(9, 82, 157);\"></td><td title=\"Index: [2, 9]&#10;Color: (212, 228, 244)\" style=\"width: 30px; height: 30px;background-color: rgb(212, 228, 244);\"></td></tr><tr><td title=\"Index: [3, 0]&#10;Color: (8, 48, 107)\" style=\"width: 30px; height: 30px;background-color: rgb(8, 48, 107);\"></td><td title=\"Index: [3, 1]&#10;Color: (8, 48, 107)\" style=\"width: 30px; height: 30px;background-color: rgb(8, 48, 107);\"></td><td title=\"Index: [3, 2]&#10;Color: (8, 48, 107)\" style=\"width: 30px; height: 30px;background-color: rgb(8, 48, 107);\"></td><td title=\"Index: [3, 3]&#10;Color: (8, 48, 107)\" style=\"width: 30px; height: 30px;background-color: rgb(8, 48, 107);\"></td><td title=\"Index: [3, 4]&#10;Color: (8, 48, 107)\" style=\"width: 30px; height: 30px;background-color: rgb(8, 48, 107);\"></td><td title=\"Index: [3, 5]&#10;Color: (73, 151, 201)\" style=\"width: 30px; height: 30px;background-color: rgb(73, 151, 201);\"></td><td title=\"Index: [3, 6]&#10;Color: (116, 179, 216)\" style=\"width: 30px; height: 30px;background-color: rgb(116, 179, 216);\"></td><td title=\"Index: [3, 7]&#10;Color: (78, 154, 203)\" style=\"width: 30px; height: 30px;background-color: rgb(78, 154, 203);\"></td><td title=\"Index: [3, 8]&#10;Color: (78, 154, 203)\" style=\"width: 30px; height: 30px;background-color: rgb(78, 154, 203);\"></td><td title=\"Index: [3, 9]&#10;Color: (140, 192, 221)\" style=\"width: 30px; height: 30px;background-color: rgb(140, 192, 221);\"></td></tr><tr><td title=\"Index: [4, 0]&#10;Color: (8, 48, 107)\" style=\"width: 30px; height: 30px;background-color: rgb(8, 48, 107);\"></td><td title=\"Index: [4, 1]&#10;Color: (8, 48, 107)\" style=\"width: 30px; height: 30px;background-color: rgb(8, 48, 107);\"></td><td title=\"Index: [4, 2]&#10;Color: (8, 48, 107)\" style=\"width: 30px; height: 30px;background-color: rgb(8, 48, 107);\"></td><td title=\"Index: [4, 3]&#10;Color: (8, 48, 107)\" style=\"width: 30px; height: 30px;background-color: rgb(8, 48, 107);\"></td><td title=\"Index: [4, 4]&#10;Color: (8, 48, 107)\" style=\"width: 30px; height: 30px;background-color: rgb(8, 48, 107);\"></td><td title=\"Index: [4, 5]&#10;Color: (135, 189, 220)\" style=\"width: 30px; height: 30px;background-color: rgb(135, 189, 220);\"></td><td title=\"Index: [4, 6]&#10;Color: (93, 165, 209)\" style=\"width: 30px; height: 30px;background-color: rgb(93, 165, 209);\"></td><td title=\"Index: [4, 7]&#10;Color: (19, 95, 167)\" style=\"width: 30px; height: 30px;background-color: rgb(19, 95, 167);\"></td><td title=\"Index: [4, 8]&#10;Color: (58, 138, 194)\" style=\"width: 30px; height: 30px;background-color: rgb(58, 138, 194);\"></td><td title=\"Index: [4, 9]&#10;Color: (205, 223, 241)\" style=\"width: 30px; height: 30px;background-color: rgb(205, 223, 241);\"></td></tr><tr><td title=\"Index: [5, 0]&#10;Color: (220, 233, 246)\" style=\"width: 30px; height: 30px;background-color: rgb(220, 233, 246);\"></td><td title=\"Index: [5, 1]&#10;Color: (63, 143, 197)\" style=\"width: 30px; height: 30px;background-color: rgb(63, 143, 197);\"></td><td title=\"Index: [5, 2]&#10;Color: (8, 76, 149)\" style=\"width: 30px; height: 30px;background-color: rgb(8, 76, 149);\"></td><td title=\"Index: [5, 3]&#10;Color: (223, 236, 247)\" style=\"width: 30px; height: 30px;background-color: rgb(223, 236, 247);\"></td><td title=\"Index: [5, 4]&#10;Color: (185, 214, 234)\" style=\"width: 30px; height: 30px;background-color: rgb(185, 214, 234);\"></td><td title=\"Index: [5, 5]&#10;Color: (201, 221, 240)\" style=\"width: 30px; height: 30px;background-color: rgb(201, 221, 240);\"></td><td title=\"Index: [5, 6]&#10;Color: (28, 106, 176)\" style=\"width: 30px; height: 30px;background-color: rgb(28, 106, 176);\"></td><td title=\"Index: [5, 7]&#10;Color: (105, 173, 213)\" style=\"width: 30px; height: 30px;background-color: rgb(105, 173, 213);\"></td><td title=\"Index: [5, 8]&#10;Color: (36, 116, 183)\" style=\"width: 30px; height: 30px;background-color: rgb(36, 116, 183);\"></td><td title=\"Index: [5, 9]&#10;Color: (227, 238, 249)\" style=\"width: 30px; height: 30px;background-color: rgb(227, 238, 249);\"></td></tr><tr><td title=\"Index: [6, 0]&#10;Color: (54, 134, 192)\" style=\"width: 30px; height: 30px;background-color: rgb(54, 134, 192);\"></td><td title=\"Index: [6, 1]&#10;Color: (230, 240, 249)\" style=\"width: 30px; height: 30px;background-color: rgb(230, 240, 249);\"></td><td title=\"Index: [6, 2]&#10;Color: (54, 134, 192)\" style=\"width: 30px; height: 30px;background-color: rgb(54, 134, 192);\"></td><td title=\"Index: [6, 3]&#10;Color: (79, 155, 203)\" style=\"width: 30px; height: 30px;background-color: rgb(79, 155, 203);\"></td><td title=\"Index: [6, 4]&#10;Color: (212, 228, 244)\" style=\"width: 30px; height: 30px;background-color: rgb(212, 228, 244);\"></td><td title=\"Index: [6, 5]&#10;Color: (127, 185, 218)\" style=\"width: 30px; height: 30px;background-color: rgb(127, 185, 218);\"></td><td title=\"Index: [6, 6]&#10;Color: (205, 224, 241)\" style=\"width: 30px; height: 30px;background-color: rgb(205, 224, 241);\"></td><td title=\"Index: [6, 7]&#10;Color: (39, 119, 184)\" style=\"width: 30px; height: 30px;background-color: rgb(39, 119, 184);\"></td><td title=\"Index: [6, 8]&#10;Color: (81, 156, 204)\" style=\"width: 30px; height: 30px;background-color: rgb(81, 156, 204);\"></td><td title=\"Index: [6, 9]&#10;Color: (8, 59, 124)\" style=\"width: 30px; height: 30px;background-color: rgb(8, 59, 124);\"></td></tr><tr><td title=\"Index: [7, 0]&#10;Color: (99, 168, 211)\" style=\"width: 30px; height: 30px;background-color: rgb(99, 168, 211);\"></td><td title=\"Index: [7, 1]&#10;Color: (8, 70, 139)\" style=\"width: 30px; height: 30px;background-color: rgb(8, 70, 139);\"></td><td title=\"Index: [7, 2]&#10;Color: (73, 151, 201)\" style=\"width: 30px; height: 30px;background-color: rgb(73, 151, 201);\"></td><td title=\"Index: [7, 3]&#10;Color: (20, 96, 168)\" style=\"width: 30px; height: 30px;background-color: rgb(20, 96, 168);\"></td><td title=\"Index: [7, 4]&#10;Color: (202, 221, 240)\" style=\"width: 30px; height: 30px;background-color: rgb(202, 221, 240);\"></td><td title=\"Index: [7, 5]&#10;Color: (198, 219, 239)\" style=\"width: 30px; height: 30px;background-color: rgb(198, 219, 239);\"></td><td title=\"Index: [7, 6]&#10;Color: (203, 222, 241)\" style=\"width: 30px; height: 30px;background-color: rgb(203, 222, 241);\"></td><td title=\"Index: [7, 7]&#10;Color: (137, 190, 220)\" style=\"width: 30px; height: 30px;background-color: rgb(137, 190, 220);\"></td><td title=\"Index: [7, 8]&#10;Color: (176, 210, 231)\" style=\"width: 30px; height: 30px;background-color: rgb(176, 210, 231);\"></td><td title=\"Index: [7, 9]&#10;Color: (176, 210, 231)\" style=\"width: 30px; height: 30px;background-color: rgb(176, 210, 231);\"></td></tr><tr><td title=\"Index: [8, 0]&#10;Color: (108, 174, 214)\" style=\"width: 30px; height: 30px;background-color: rgb(108, 174, 214);\"></td><td title=\"Index: [8, 1]&#10;Color: (91, 163, 208)\" style=\"width: 30px; height: 30px;background-color: rgb(91, 163, 208);\"></td><td title=\"Index: [8, 2]&#10;Color: (8, 48, 107)\" style=\"width: 30px; height: 30px;background-color: rgb(8, 48, 107);\"></td><td title=\"Index: [8, 3]&#10;Color: (204, 223, 241)\" style=\"width: 30px; height: 30px;background-color: rgb(204, 223, 241);\"></td><td title=\"Index: [8, 4]&#10;Color: (8, 50, 110)\" style=\"width: 30px; height: 30px;background-color: rgb(8, 50, 110);\"></td><td title=\"Index: [8, 5]&#10;Color: (48, 128, 189)\" style=\"width: 30px; height: 30px;background-color: rgb(48, 128, 189);\"></td><td title=\"Index: [8, 6]&#10;Color: (35, 115, 182)\" style=\"width: 30px; height: 30px;background-color: rgb(35, 115, 182);\"></td><td title=\"Index: [8, 7]&#10;Color: (199, 220, 239)\" style=\"width: 30px; height: 30px;background-color: rgb(199, 220, 239);\"></td><td title=\"Index: [8, 8]&#10;Color: (96, 167, 210)\" style=\"width: 30px; height: 30px;background-color: rgb(96, 167, 210);\"></td><td title=\"Index: [8, 9]&#10;Color: (175, 209, 231)\" style=\"width: 30px; height: 30px;background-color: rgb(175, 209, 231);\"></td></tr><tr><td title=\"Index: [9, 0]&#10;Color: (229, 239, 249)\" style=\"width: 30px; height: 30px;background-color: rgb(229, 239, 249);\"></td><td title=\"Index: [9, 1]&#10;Color: (72, 150, 200)\" style=\"width: 30px; height: 30px;background-color: rgb(72, 150, 200);\"></td><td title=\"Index: [9, 2]&#10;Color: (159, 202, 225)\" style=\"width: 30px; height: 30px;background-color: rgb(159, 202, 225);\"></td><td title=\"Index: [9, 3]&#10;Color: (58, 138, 194)\" style=\"width: 30px; height: 30px;background-color: rgb(58, 138, 194);\"></td><td title=\"Index: [9, 4]&#10;Color: (183, 212, 234)\" style=\"width: 30px; height: 30px;background-color: rgb(183, 212, 234);\"></td><td title=\"Index: [9, 5]&#10;Color: (28, 106, 176)\" style=\"width: 30px; height: 30px;background-color: rgb(28, 106, 176);\"></td><td title=\"Index: [9, 6]&#10;Color: (60, 140, 195)\" style=\"width: 30px; height: 30px;background-color: rgb(60, 140, 195);\"></td><td title=\"Index: [9, 7]&#10;Color: (20, 96, 168)\" style=\"width: 30px; height: 30px;background-color: rgb(20, 96, 168);\"></td><td title=\"Index: [9, 8]&#10;Color: (14, 89, 162)\" style=\"width: 30px; height: 30px;background-color: rgb(14, 89, 162);\"></td><td title=\"Index: [9, 9]&#10;Color: (90, 162, 207)\" style=\"width: 30px; height: 30px;background-color: rgb(90, 162, 207);\"></td></tr></tbody></table>"
      ],
      "text/plain": [
       "array([[ 1.        ,  1.        ,  1.        ,  1.        ,  1.        ,\n",
       "         0.00833133,  0.1918171 ,  0.91937259,  0.25395158,  0.45008331],\n",
       "       [ 1.        ,  1.        ,  1.        ,  1.        ,  1.        ,\n",
       "         0.56101207,  0.39716365,  0.25379424,  0.86971016,  0.52163862],\n",
       "       [ 1.        ,  1.        ,  1.        ,  1.        ,  1.        ,\n",
       "         0.24153639,  0.89857076,  0.53128145,  0.87114603,  0.18360253],\n",
       "       [ 1.        ,  1.        ,  1.        ,  1.        ,  1.        ,\n",
       "         0.6076424 ,  0.48442363,  0.5897385 ,  0.58983866,  0.42358971],\n",
       "       [ 1.        ,  1.        ,  1.        ,  1.        ,  1.        ,\n",
       "         0.43529349,  0.54492249,  0.81821034,  0.6590534 ,  0.22360872],\n",
       "       [ 0.14526818,  0.63669065,  0.89359706,  0.12799922,  0.29678372,\n",
       "         0.24403505,  0.77556502,  0.51137466,  0.7385385 ,  0.10607934],\n",
       "       [ 0.67404172,  0.09497276,  0.67390407,  0.58923061,  0.18651393,\n",
       "         0.45684236,  0.21792067,  0.7286036 ,  0.58267409,  0.95599821],\n",
       "       [ 0.52797907,  0.91693093,  0.6086767 ,  0.81637828,  0.23970965,\n",
       "         0.25929857,  0.23165496,  0.43166834,  0.32282193,  0.32480992],\n",
       "       [ 0.50077211,  0.55083996,  0.99840587,  0.22556916,  0.99107666,\n",
       "         0.6950843 ,  0.74197321,  0.25078187,  0.53794714,  0.32781307],\n",
       "       [ 0.10065377,  0.61093123,  0.37933958,  0.65880201,  0.30452416,\n",
       "         0.77620463,  0.65020747,  0.8178926 ,  0.84207094,  0.55739702]])"
      ]
     },
     "execution_count": 52,
     "metadata": {},
     "output_type": "execute_result"
    }
   ],
   "source": [
    "a"
   ]
  },
  {
   "cell_type": "code",
   "execution_count": 53,
   "metadata": {
    "collapsed": true
   },
   "outputs": [],
   "source": [
    "va.disable()"
   ]
  },
  {
   "cell_type": "code",
   "execution_count": 54,
   "metadata": {
    "collapsed": true
   },
   "outputs": [],
   "source": [
    "ages = np.array([23,56,67,89,23,56,27,12,8,72])\n",
    "genders = np.array(['m','m','f','f', 'm', 'f', 'm', 'm', 'm', 'f'])"
   ]
  },
  {
   "cell_type": "code",
   "execution_count": 55,
   "metadata": {
    "collapsed": false
   },
   "outputs": [
    {
     "data": {
      "text/plain": [
       "array([False,  True,  True,  True, False,  True, False, False, False,  True], dtype=bool)"
      ]
     },
     "execution_count": 55,
     "metadata": {},
     "output_type": "execute_result"
    }
   ],
   "source": [
    "ages > 30"
   ]
  },
  {
   "cell_type": "code",
   "execution_count": 56,
   "metadata": {
    "collapsed": false
   },
   "outputs": [
    {
     "data": {
      "text/plain": [
       "array([ True,  True, False, False,  True, False,  True,  True,  True, False], dtype=bool)"
      ]
     },
     "execution_count": 56,
     "metadata": {},
     "output_type": "execute_result"
    }
   ],
   "source": [
    "genders == 'm'"
   ]
  },
  {
   "cell_type": "code",
   "execution_count": 57,
   "metadata": {
    "collapsed": false
   },
   "outputs": [
    {
     "data": {
      "text/plain": [
       "array([ True, False, False, False,  True, False,  True,  True, False, False], dtype=bool)"
      ]
     },
     "execution_count": 57,
     "metadata": {},
     "output_type": "execute_result"
    }
   ],
   "source": [
    "(ages > 10) & (ages < 50)"
   ]
  },
  {
   "cell_type": "code",
   "execution_count": 58,
   "metadata": {
    "collapsed": false
   },
   "outputs": [
    {
     "data": {
      "text/plain": [
       "array([67, 89, 56, 72])"
      ]
     },
     "execution_count": 58,
     "metadata": {},
     "output_type": "execute_result"
    }
   ],
   "source": [
    "mask = (genders == 'f')\n",
    "ages[mask]"
   ]
  },
  {
   "cell_type": "code",
   "execution_count": 59,
   "metadata": {
    "collapsed": false
   },
   "outputs": [
    {
     "data": {
      "text/plain": [
       "array([56, 67, 89, 56, 72])"
      ]
     },
     "execution_count": 59,
     "metadata": {},
     "output_type": "execute_result"
    }
   ],
   "source": [
    "ages[ages>30]"
   ]
  },
  {
   "cell_type": "code",
   "execution_count": 60,
   "metadata": {
    "collapsed": true
   },
   "outputs": [],
   "source": [
    "va.enable()"
   ]
  },
  {
   "cell_type": "code",
   "execution_count": 61,
   "metadata": {
    "collapsed": true
   },
   "outputs": [],
   "source": [
    "a = np.random.rand(3,4)"
   ]
  },
  {
   "cell_type": "code",
   "execution_count": 62,
   "metadata": {
    "collapsed": false
   },
   "outputs": [
    {
     "data": {
      "text/html": [
       "<style type=\"text/css\">table.blockgrid {border: none;} .blockgrid tr {border: none;} .blockgrid td {padding: 0px;} #blocks2e09c116-75c4-4d04-907d-ff3d200e8b6c td {border: 1px solid white;}</style><table id=\"blocks2e09c116-75c4-4d04-907d-ff3d200e8b6c\" class=\"blockgrid\"><tbody><tr><td title=\"Index: [0, 0]&#10;Color: (209, 226, 243)\" style=\"width: 30px; height: 30px;background-color: rgb(209, 226, 243);\"></td><td title=\"Index: [0, 1]&#10;Color: (20, 96, 168)\" style=\"width: 30px; height: 30px;background-color: rgb(20, 96, 168);\"></td><td title=\"Index: [0, 2]&#10;Color: (93, 165, 209)\" style=\"width: 30px; height: 30px;background-color: rgb(93, 165, 209);\"></td><td title=\"Index: [0, 3]&#10;Color: (78, 154, 203)\" style=\"width: 30px; height: 30px;background-color: rgb(78, 154, 203);\"></td></tr><tr><td title=\"Index: [1, 0]&#10;Color: (181, 212, 233)\" style=\"width: 30px; height: 30px;background-color: rgb(181, 212, 233);\"></td><td title=\"Index: [1, 1]&#10;Color: (8, 79, 153)\" style=\"width: 30px; height: 30px;background-color: rgb(8, 79, 153);\"></td><td title=\"Index: [1, 2]&#10;Color: (8, 48, 107)\" style=\"width: 30px; height: 30px;background-color: rgb(8, 48, 107);\"></td><td title=\"Index: [1, 3]&#10;Color: (148, 196, 223)\" style=\"width: 30px; height: 30px;background-color: rgb(148, 196, 223);\"></td></tr><tr><td title=\"Index: [2, 0]&#10;Color: (119, 181, 217)\" style=\"width: 30px; height: 30px;background-color: rgb(119, 181, 217);\"></td><td title=\"Index: [2, 1]&#10;Color: (8, 65, 132)\" style=\"width: 30px; height: 30px;background-color: rgb(8, 65, 132);\"></td><td title=\"Index: [2, 2]&#10;Color: (247, 251, 255)\" style=\"width: 30px; height: 30px;background-color: rgb(247, 251, 255);\"></td><td title=\"Index: [2, 3]&#10;Color: (8, 72, 142)\" style=\"width: 30px; height: 30px;background-color: rgb(8, 72, 142);\"></td></tr></tbody></table>"
      ],
      "text/plain": [
       "array([[ 0.2056097 ,  0.67138704,  0.46662851,  0.50300456],\n",
       "       [ 0.28870886,  0.72031269,  0.81098301,  0.36308268],\n",
       "       [ 0.41445646,  0.76328494,  0.06211387,  0.7416445 ]])"
      ]
     },
     "execution_count": 62,
     "metadata": {},
     "output_type": "execute_result"
    }
   ],
   "source": [
    "a"
   ]
  },
  {
   "cell_type": "code",
   "execution_count": 63,
   "metadata": {
    "collapsed": false
   },
   "outputs": [
    {
     "data": {
      "text/html": [
       "<style type=\"text/css\">table.blockgrid {border: none;} .blockgrid tr {border: none;} .blockgrid td {padding: 0px;} #blocks52f47e8c-5c19-4dd9-86c9-0c07882311e4 td {border: 1px solid white;}</style><table id=\"blocks52f47e8c-5c19-4dd9-86c9-0c07882311e4\" class=\"blockgrid\"><tbody><tr><td title=\"Index: [0, 0]&#10;Color: (209, 226, 243)\" style=\"width: 30px; height: 30px;background-color: rgb(209, 226, 243);\"></td><td title=\"Index: [0, 1]&#10;Color: (181, 212, 233)\" style=\"width: 30px; height: 30px;background-color: rgb(181, 212, 233);\"></td><td title=\"Index: [0, 2]&#10;Color: (119, 181, 217)\" style=\"width: 30px; height: 30px;background-color: rgb(119, 181, 217);\"></td></tr><tr><td title=\"Index: [1, 0]&#10;Color: (20, 96, 168)\" style=\"width: 30px; height: 30px;background-color: rgb(20, 96, 168);\"></td><td title=\"Index: [1, 1]&#10;Color: (8, 79, 153)\" style=\"width: 30px; height: 30px;background-color: rgb(8, 79, 153);\"></td><td title=\"Index: [1, 2]&#10;Color: (8, 65, 132)\" style=\"width: 30px; height: 30px;background-color: rgb(8, 65, 132);\"></td></tr><tr><td title=\"Index: [2, 0]&#10;Color: (93, 165, 209)\" style=\"width: 30px; height: 30px;background-color: rgb(93, 165, 209);\"></td><td title=\"Index: [2, 1]&#10;Color: (8, 48, 107)\" style=\"width: 30px; height: 30px;background-color: rgb(8, 48, 107);\"></td><td title=\"Index: [2, 2]&#10;Color: (247, 251, 255)\" style=\"width: 30px; height: 30px;background-color: rgb(247, 251, 255);\"></td></tr><tr><td title=\"Index: [3, 0]&#10;Color: (78, 154, 203)\" style=\"width: 30px; height: 30px;background-color: rgb(78, 154, 203);\"></td><td title=\"Index: [3, 1]&#10;Color: (148, 196, 223)\" style=\"width: 30px; height: 30px;background-color: rgb(148, 196, 223);\"></td><td title=\"Index: [3, 2]&#10;Color: (8, 72, 142)\" style=\"width: 30px; height: 30px;background-color: rgb(8, 72, 142);\"></td></tr></tbody></table>"
      ],
      "text/plain": [
       "array([[ 0.2056097 ,  0.28870886,  0.41445646],\n",
       "       [ 0.67138704,  0.72031269,  0.76328494],\n",
       "       [ 0.46662851,  0.81098301,  0.06211387],\n",
       "       [ 0.50300456,  0.36308268,  0.7416445 ]])"
      ]
     },
     "execution_count": 63,
     "metadata": {},
     "output_type": "execute_result"
    }
   ],
   "source": [
    "a.T"
   ]
  },
  {
   "cell_type": "code",
   "execution_count": 64,
   "metadata": {
    "collapsed": false
   },
   "outputs": [
    {
     "data": {
      "text/html": [
       "<style type=\"text/css\">table.blockgrid {border: none;} .blockgrid tr {border: none;} .blockgrid td {padding: 0px;} #blocksbcaedf85-8a45-4bfc-835a-27339aa981c5 td {border: 1px solid white;}</style><table id=\"blocksbcaedf85-8a45-4bfc-835a-27339aa981c5\" class=\"blockgrid\"><tbody><tr><td title=\"Index: [0, 0]&#10;Color: (209, 226, 243)\" style=\"width: 30px; height: 30px;background-color: rgb(209, 226, 243);\"></td><td title=\"Index: [0, 1]&#10;Color: (20, 96, 168)\" style=\"width: 30px; height: 30px;background-color: rgb(20, 96, 168);\"></td><td title=\"Index: [0, 2]&#10;Color: (93, 165, 209)\" style=\"width: 30px; height: 30px;background-color: rgb(93, 165, 209);\"></td><td title=\"Index: [0, 3]&#10;Color: (78, 154, 203)\" style=\"width: 30px; height: 30px;background-color: rgb(78, 154, 203);\"></td><td title=\"Index: [0, 4]&#10;Color: (181, 212, 233)\" style=\"width: 30px; height: 30px;background-color: rgb(181, 212, 233);\"></td><td title=\"Index: [0, 5]&#10;Color: (8, 79, 153)\" style=\"width: 30px; height: 30px;background-color: rgb(8, 79, 153);\"></td></tr><tr><td title=\"Index: [1, 0]&#10;Color: (8, 48, 107)\" style=\"width: 30px; height: 30px;background-color: rgb(8, 48, 107);\"></td><td title=\"Index: [1, 1]&#10;Color: (148, 196, 223)\" style=\"width: 30px; height: 30px;background-color: rgb(148, 196, 223);\"></td><td title=\"Index: [1, 2]&#10;Color: (119, 181, 217)\" style=\"width: 30px; height: 30px;background-color: rgb(119, 181, 217);\"></td><td title=\"Index: [1, 3]&#10;Color: (8, 65, 132)\" style=\"width: 30px; height: 30px;background-color: rgb(8, 65, 132);\"></td><td title=\"Index: [1, 4]&#10;Color: (247, 251, 255)\" style=\"width: 30px; height: 30px;background-color: rgb(247, 251, 255);\"></td><td title=\"Index: [1, 5]&#10;Color: (8, 72, 142)\" style=\"width: 30px; height: 30px;background-color: rgb(8, 72, 142);\"></td></tr></tbody></table>"
      ],
      "text/plain": [
       "array([[ 0.2056097 ,  0.67138704,  0.46662851,  0.50300456,  0.28870886,\n",
       "         0.72031269],\n",
       "       [ 0.81098301,  0.36308268,  0.41445646,  0.76328494,  0.06211387,\n",
       "         0.7416445 ]])"
      ]
     },
     "execution_count": 64,
     "metadata": {},
     "output_type": "execute_result"
    }
   ],
   "source": [
    "a.reshape(2,6)"
   ]
  },
  {
   "cell_type": "code",
   "execution_count": 65,
   "metadata": {
    "collapsed": false
   },
   "outputs": [
    {
     "data": {
      "text/html": [
       "<style type=\"text/css\">table.blockgrid {border: none;} .blockgrid tr {border: none;} .blockgrid td {padding: 0px;} #blocks9716c767-d84a-4f39-9edf-b136073c75bf td {border: 1px solid white;}</style><table id=\"blocks9716c767-d84a-4f39-9edf-b136073c75bf\" class=\"blockgrid\"><tbody><tr><td title=\"Index: [0, 0]&#10;Color: (209, 226, 243)\" style=\"width: 30px; height: 30px;background-color: rgb(209, 226, 243);\"></td><td title=\"Index: [0, 1]&#10;Color: (20, 96, 168)\" style=\"width: 30px; height: 30px;background-color: rgb(20, 96, 168);\"></td></tr><tr><td title=\"Index: [1, 0]&#10;Color: (93, 165, 209)\" style=\"width: 30px; height: 30px;background-color: rgb(93, 165, 209);\"></td><td title=\"Index: [1, 1]&#10;Color: (78, 154, 203)\" style=\"width: 30px; height: 30px;background-color: rgb(78, 154, 203);\"></td></tr><tr><td title=\"Index: [2, 0]&#10;Color: (181, 212, 233)\" style=\"width: 30px; height: 30px;background-color: rgb(181, 212, 233);\"></td><td title=\"Index: [2, 1]&#10;Color: (8, 79, 153)\" style=\"width: 30px; height: 30px;background-color: rgb(8, 79, 153);\"></td></tr><tr><td title=\"Index: [3, 0]&#10;Color: (8, 48, 107)\" style=\"width: 30px; height: 30px;background-color: rgb(8, 48, 107);\"></td><td title=\"Index: [3, 1]&#10;Color: (148, 196, 223)\" style=\"width: 30px; height: 30px;background-color: rgb(148, 196, 223);\"></td></tr><tr><td title=\"Index: [4, 0]&#10;Color: (119, 181, 217)\" style=\"width: 30px; height: 30px;background-color: rgb(119, 181, 217);\"></td><td title=\"Index: [4, 1]&#10;Color: (8, 65, 132)\" style=\"width: 30px; height: 30px;background-color: rgb(8, 65, 132);\"></td></tr><tr><td title=\"Index: [5, 0]&#10;Color: (247, 251, 255)\" style=\"width: 30px; height: 30px;background-color: rgb(247, 251, 255);\"></td><td title=\"Index: [5, 1]&#10;Color: (8, 72, 142)\" style=\"width: 30px; height: 30px;background-color: rgb(8, 72, 142);\"></td></tr></tbody></table>"
      ],
      "text/plain": [
       "array([[ 0.2056097 ,  0.67138704],\n",
       "       [ 0.46662851,  0.50300456],\n",
       "       [ 0.28870886,  0.72031269],\n",
       "       [ 0.81098301,  0.36308268],\n",
       "       [ 0.41445646,  0.76328494],\n",
       "       [ 0.06211387,  0.7416445 ]])"
      ]
     },
     "execution_count": 65,
     "metadata": {},
     "output_type": "execute_result"
    }
   ],
   "source": [
    "a.reshape(6,2)"
   ]
  },
  {
   "cell_type": "code",
   "execution_count": 66,
   "metadata": {
    "collapsed": false
   },
   "outputs": [
    {
     "data": {
      "text/html": [
       "<style type=\"text/css\">table.blockgrid {border: none;} .blockgrid tr {border: none;} .blockgrid td {padding: 0px;} #blocks4a9767aa-b012-4696-9b68-dfdf14323fce td {border: 1px solid white;}</style><table id=\"blocks4a9767aa-b012-4696-9b68-dfdf14323fce\" class=\"blockgrid\"><tbody><tr><td title=\"Index: [0, 0]&#10;Color: (209, 226, 243)\" style=\"width: 30px; height: 30px;background-color: rgb(209, 226, 243);\"></td><td title=\"Index: [0, 1]&#10;Color: (20, 96, 168)\" style=\"width: 30px; height: 30px;background-color: rgb(20, 96, 168);\"></td><td title=\"Index: [0, 2]&#10;Color: (93, 165, 209)\" style=\"width: 30px; height: 30px;background-color: rgb(93, 165, 209);\"></td><td title=\"Index: [0, 3]&#10;Color: (78, 154, 203)\" style=\"width: 30px; height: 30px;background-color: rgb(78, 154, 203);\"></td><td title=\"Index: [0, 4]&#10;Color: (181, 212, 233)\" style=\"width: 30px; height: 30px;background-color: rgb(181, 212, 233);\"></td><td title=\"Index: [0, 5]&#10;Color: (8, 79, 153)\" style=\"width: 30px; height: 30px;background-color: rgb(8, 79, 153);\"></td><td title=\"Index: [0, 6]&#10;Color: (8, 48, 107)\" style=\"width: 30px; height: 30px;background-color: rgb(8, 48, 107);\"></td><td title=\"Index: [0, 7]&#10;Color: (148, 196, 223)\" style=\"width: 30px; height: 30px;background-color: rgb(148, 196, 223);\"></td><td title=\"Index: [0, 8]&#10;Color: (119, 181, 217)\" style=\"width: 30px; height: 30px;background-color: rgb(119, 181, 217);\"></td><td title=\"Index: [0, 9]&#10;Color: (8, 65, 132)\" style=\"width: 30px; height: 30px;background-color: rgb(8, 65, 132);\"></td><td title=\"Index: [0, 10]&#10;Color: (247, 251, 255)\" style=\"width: 30px; height: 30px;background-color: rgb(247, 251, 255);\"></td><td title=\"Index: [0, 11]&#10;Color: (8, 72, 142)\" style=\"width: 30px; height: 30px;background-color: rgb(8, 72, 142);\"></td></tr></tbody></table>"
      ],
      "text/plain": [
       "array([ 0.2056097 ,  0.67138704,  0.46662851,  0.50300456,  0.28870886,\n",
       "        0.72031269,  0.81098301,  0.36308268,  0.41445646,  0.76328494,\n",
       "        0.06211387,  0.7416445 ])"
      ]
     },
     "execution_count": 66,
     "metadata": {},
     "output_type": "execute_result"
    }
   ],
   "source": [
    "a.ravel()"
   ]
  },
  {
   "cell_type": "code",
   "execution_count": 67,
   "metadata": {
    "collapsed": true
   },
   "outputs": [],
   "source": [
    "va.disable()"
   ]
  },
  {
   "cell_type": "code",
   "execution_count": 68,
   "metadata": {
    "collapsed": true
   },
   "outputs": [],
   "source": [
    "va.set_block_size(5)\n",
    "va.enable()"
   ]
  },
  {
   "cell_type": "code",
   "execution_count": 69,
   "metadata": {
    "collapsed": true
   },
   "outputs": [],
   "source": [
    "t = np.linspace(0.0, 4*np.pi, 100)"
   ]
  },
  {
   "cell_type": "code",
   "execution_count": 70,
   "metadata": {
    "collapsed": false
   },
   "outputs": [
    {
     "data": {
      "text/html": [
       "<style type=\"text/css\">table.blockgrid {border: none;} .blockgrid tr {border: none;} .blockgrid td {padding: 0px;} #blocksff5f47dc-4604-43a6-a103-dbee7cb1258e td {border: 1px solid white;}</style><table id=\"blocksff5f47dc-4604-43a6-a103-dbee7cb1258e\" class=\"blockgrid\"><tbody><tr><td title=\"Index: [0, 0]&#10;Color: (247, 251, 255)\" style=\"width: 5px; height: 5px;background-color: rgb(247, 251, 255);\"></td><td title=\"Index: [0, 1]&#10;Color: (245, 250, 254)\" style=\"width: 5px; height: 5px;background-color: rgb(245, 250, 254);\"></td><td title=\"Index: [0, 2]&#10;Color: (243, 248, 254)\" style=\"width: 5px; height: 5px;background-color: rgb(243, 248, 254);\"></td><td title=\"Index: [0, 3]&#10;Color: (242, 247, 253)\" style=\"width: 5px; height: 5px;background-color: rgb(242, 247, 253);\"></td><td title=\"Index: [0, 4]&#10;Color: (239, 246, 252)\" style=\"width: 5px; height: 5px;background-color: rgb(239, 246, 252);\"></td><td title=\"Index: [0, 5]&#10;Color: (238, 245, 252)\" style=\"width: 5px; height: 5px;background-color: rgb(238, 245, 252);\"></td><td title=\"Index: [0, 6]&#10;Color: (235, 243, 251)\" style=\"width: 5px; height: 5px;background-color: rgb(235, 243, 251);\"></td><td title=\"Index: [0, 7]&#10;Color: (233, 242, 250)\" style=\"width: 5px; height: 5px;background-color: rgb(233, 242, 250);\"></td><td title=\"Index: [0, 8]&#10;Color: (231, 241, 250)\" style=\"width: 5px; height: 5px;background-color: rgb(231, 241, 250);\"></td><td title=\"Index: [0, 9]&#10;Color: (229, 239, 249)\" style=\"width: 5px; height: 5px;background-color: rgb(229, 239, 249);\"></td><td title=\"Index: [0, 10]&#10;Color: (227, 238, 249)\" style=\"width: 5px; height: 5px;background-color: rgb(227, 238, 249);\"></td><td title=\"Index: [0, 11]&#10;Color: (225, 237, 248)\" style=\"width: 5px; height: 5px;background-color: rgb(225, 237, 248);\"></td><td title=\"Index: [0, 12]&#10;Color: (223, 235, 247)\" style=\"width: 5px; height: 5px;background-color: rgb(223, 235, 247);\"></td><td title=\"Index: [0, 13]&#10;Color: (221, 234, 247)\" style=\"width: 5px; height: 5px;background-color: rgb(221, 234, 247);\"></td><td title=\"Index: [0, 14]&#10;Color: (219, 233, 246)\" style=\"width: 5px; height: 5px;background-color: rgb(219, 233, 246);\"></td><td title=\"Index: [0, 15]&#10;Color: (217, 232, 245)\" style=\"width: 5px; height: 5px;background-color: rgb(217, 232, 245);\"></td><td title=\"Index: [0, 16]&#10;Color: (215, 230, 245)\" style=\"width: 5px; height: 5px;background-color: rgb(215, 230, 245);\"></td><td title=\"Index: [0, 17]&#10;Color: (214, 229, 244)\" style=\"width: 5px; height: 5px;background-color: rgb(214, 229, 244);\"></td><td title=\"Index: [0, 18]&#10;Color: (211, 228, 243)\" style=\"width: 5px; height: 5px;background-color: rgb(211, 228, 243);\"></td><td title=\"Index: [0, 19]&#10;Color: (209, 226, 243)\" style=\"width: 5px; height: 5px;background-color: rgb(209, 226, 243);\"></td><td title=\"Index: [0, 20]&#10;Color: (208, 225, 242)\" style=\"width: 5px; height: 5px;background-color: rgb(208, 225, 242);\"></td><td title=\"Index: [0, 21]&#10;Color: (205, 224, 241)\" style=\"width: 5px; height: 5px;background-color: rgb(205, 224, 241);\"></td><td title=\"Index: [0, 22]&#10;Color: (204, 223, 241)\" style=\"width: 5px; height: 5px;background-color: rgb(204, 223, 241);\"></td><td title=\"Index: [0, 23]&#10;Color: (202, 221, 240)\" style=\"width: 5px; height: 5px;background-color: rgb(202, 221, 240);\"></td><td title=\"Index: [0, 24]&#10;Color: (199, 220, 239)\" style=\"width: 5px; height: 5px;background-color: rgb(199, 220, 239);\"></td><td title=\"Index: [0, 25]&#10;Color: (198, 219, 239)\" style=\"width: 5px; height: 5px;background-color: rgb(198, 219, 239);\"></td><td title=\"Index: [0, 26]&#10;Color: (194, 217, 238)\" style=\"width: 5px; height: 5px;background-color: rgb(194, 217, 238);\"></td><td title=\"Index: [0, 27]&#10;Color: (191, 216, 237)\" style=\"width: 5px; height: 5px;background-color: rgb(191, 216, 237);\"></td><td title=\"Index: [0, 28]&#10;Color: (188, 215, 235)\" style=\"width: 5px; height: 5px;background-color: rgb(188, 215, 235);\"></td><td title=\"Index: [0, 29]&#10;Color: (185, 214, 234)\" style=\"width: 5px; height: 5px;background-color: rgb(185, 214, 234);\"></td><td title=\"Index: [0, 30]&#10;Color: (181, 212, 233)\" style=\"width: 5px; height: 5px;background-color: rgb(181, 212, 233);\"></td><td title=\"Index: [0, 31]&#10;Color: (178, 210, 232)\" style=\"width: 5px; height: 5px;background-color: rgb(178, 210, 232);\"></td><td title=\"Index: [0, 32]&#10;Color: (175, 209, 231)\" style=\"width: 5px; height: 5px;background-color: rgb(175, 209, 231);\"></td><td title=\"Index: [0, 33]&#10;Color: (171, 208, 230)\" style=\"width: 5px; height: 5px;background-color: rgb(171, 208, 230);\"></td><td title=\"Index: [0, 34]&#10;Color: (169, 207, 229)\" style=\"width: 5px; height: 5px;background-color: rgb(169, 207, 229);\"></td><td title=\"Index: [0, 35]&#10;Color: (165, 205, 227)\" style=\"width: 5px; height: 5px;background-color: rgb(165, 205, 227);\"></td><td title=\"Index: [0, 36]&#10;Color: (161, 203, 226)\" style=\"width: 5px; height: 5px;background-color: rgb(161, 203, 226);\"></td><td title=\"Index: [0, 37]&#10;Color: (159, 202, 225)\" style=\"width: 5px; height: 5px;background-color: rgb(159, 202, 225);\"></td><td title=\"Index: [0, 38]&#10;Color: (154, 200, 224)\" style=\"width: 5px; height: 5px;background-color: rgb(154, 200, 224);\"></td><td title=\"Index: [0, 39]&#10;Color: (151, 198, 223)\" style=\"width: 5px; height: 5px;background-color: rgb(151, 198, 223);\"></td><td title=\"Index: [0, 40]&#10;Color: (146, 196, 222)\" style=\"width: 5px; height: 5px;background-color: rgb(146, 196, 222);\"></td><td title=\"Index: [0, 41]&#10;Color: (141, 193, 221)\" style=\"width: 5px; height: 5px;background-color: rgb(141, 193, 221);\"></td><td title=\"Index: [0, 42]&#10;Color: (138, 191, 221)\" style=\"width: 5px; height: 5px;background-color: rgb(138, 191, 221);\"></td><td title=\"Index: [0, 43]&#10;Color: (133, 188, 220)\" style=\"width: 5px; height: 5px;background-color: rgb(133, 188, 220);\"></td><td title=\"Index: [0, 44]&#10;Color: (130, 187, 219)\" style=\"width: 5px; height: 5px;background-color: rgb(130, 187, 219);\"></td><td title=\"Index: [0, 45]&#10;Color: (125, 184, 218)\" style=\"width: 5px; height: 5px;background-color: rgb(125, 184, 218);\"></td><td title=\"Index: [0, 46]&#10;Color: (122, 182, 217)\" style=\"width: 5px; height: 5px;background-color: rgb(122, 182, 217);\"></td><td title=\"Index: [0, 47]&#10;Color: (117, 180, 216)\" style=\"width: 5px; height: 5px;background-color: rgb(117, 180, 216);\"></td><td title=\"Index: [0, 48]&#10;Color: (113, 177, 215)\" style=\"width: 5px; height: 5px;background-color: rgb(113, 177, 215);\"></td><td title=\"Index: [0, 49]&#10;Color: (109, 175, 215)\" style=\"width: 5px; height: 5px;background-color: rgb(109, 175, 215);\"></td><td title=\"Index: [0, 50]&#10;Color: (105, 173, 213)\" style=\"width: 5px; height: 5px;background-color: rgb(105, 173, 213);\"></td><td title=\"Index: [0, 51]&#10;Color: (102, 171, 212)\" style=\"width: 5px; height: 5px;background-color: rgb(102, 171, 212);\"></td><td title=\"Index: [0, 52]&#10;Color: (99, 168, 211)\" style=\"width: 5px; height: 5px;background-color: rgb(99, 168, 211);\"></td><td title=\"Index: [0, 53]&#10;Color: (95, 166, 209)\" style=\"width: 5px; height: 5px;background-color: rgb(95, 166, 209);\"></td><td title=\"Index: [0, 54]&#10;Color: (92, 164, 208)\" style=\"width: 5px; height: 5px;background-color: rgb(92, 164, 208);\"></td><td title=\"Index: [0, 55]&#10;Color: (88, 161, 207)\" style=\"width: 5px; height: 5px;background-color: rgb(88, 161, 207);\"></td><td title=\"Index: [0, 56]&#10;Color: (86, 160, 206)\" style=\"width: 5px; height: 5px;background-color: rgb(86, 160, 206);\"></td><td title=\"Index: [0, 57]&#10;Color: (82, 157, 204)\" style=\"width: 5px; height: 5px;background-color: rgb(82, 157, 204);\"></td><td title=\"Index: [0, 58]&#10;Color: (79, 155, 203)\" style=\"width: 5px; height: 5px;background-color: rgb(79, 155, 203);\"></td><td title=\"Index: [0, 59]&#10;Color: (75, 152, 202)\" style=\"width: 5px; height: 5px;background-color: rgb(75, 152, 202);\"></td><td title=\"Index: [0, 60]&#10;Color: (72, 150, 200)\" style=\"width: 5px; height: 5px;background-color: rgb(72, 150, 200);\"></td><td title=\"Index: [0, 61]&#10;Color: (69, 148, 199)\" style=\"width: 5px; height: 5px;background-color: rgb(69, 148, 199);\"></td><td title=\"Index: [0, 62]&#10;Color: (65, 145, 198)\" style=\"width: 5px; height: 5px;background-color: rgb(65, 145, 198);\"></td><td title=\"Index: [0, 63]&#10;Color: (63, 143, 197)\" style=\"width: 5px; height: 5px;background-color: rgb(63, 143, 197);\"></td><td title=\"Index: [0, 64]&#10;Color: (60, 140, 195)\" style=\"width: 5px; height: 5px;background-color: rgb(60, 140, 195);\"></td><td title=\"Index: [0, 65]&#10;Color: (57, 137, 193)\" style=\"width: 5px; height: 5px;background-color: rgb(57, 137, 193);\"></td><td title=\"Index: [0, 66]&#10;Color: (55, 135, 192)\" style=\"width: 5px; height: 5px;background-color: rgb(55, 135, 192);\"></td><td title=\"Index: [0, 67]&#10;Color: (52, 132, 191)\" style=\"width: 5px; height: 5px;background-color: rgb(52, 132, 191);\"></td><td title=\"Index: [0, 68]&#10;Color: (50, 130, 190)\" style=\"width: 5px; height: 5px;background-color: rgb(50, 130, 190);\"></td><td title=\"Index: [0, 69]&#10;Color: (47, 127, 188)\" style=\"width: 5px; height: 5px;background-color: rgb(47, 127, 188);\"></td><td title=\"Index: [0, 70]&#10;Color: (44, 124, 186)\" style=\"width: 5px; height: 5px;background-color: rgb(44, 124, 186);\"></td><td title=\"Index: [0, 71]&#10;Color: (42, 122, 185)\" style=\"width: 5px; height: 5px;background-color: rgb(42, 122, 185);\"></td><td title=\"Index: [0, 72]&#10;Color: (38, 118, 184)\" style=\"width: 5px; height: 5px;background-color: rgb(38, 118, 184);\"></td><td title=\"Index: [0, 73]&#10;Color: (36, 116, 183)\" style=\"width: 5px; height: 5px;background-color: rgb(36, 116, 183);\"></td><td title=\"Index: [0, 74]&#10;Color: (33, 113, 181)\" style=\"width: 5px; height: 5px;background-color: rgb(33, 113, 181);\"></td><td title=\"Index: [0, 75]&#10;Color: (32, 111, 180)\" style=\"width: 5px; height: 5px;background-color: rgb(32, 111, 180);\"></td><td title=\"Index: [0, 76]&#10;Color: (29, 108, 177)\" style=\"width: 5px; height: 5px;background-color: rgb(29, 108, 177);\"></td><td title=\"Index: [0, 77]&#10;Color: (27, 105, 175)\" style=\"width: 5px; height: 5px;background-color: rgb(27, 105, 175);\"></td><td title=\"Index: [0, 78]&#10;Color: (25, 103, 173)\" style=\"width: 5px; height: 5px;background-color: rgb(25, 103, 173);\"></td><td title=\"Index: [0, 79]&#10;Color: (23, 100, 171)\" style=\"width: 5px; height: 5px;background-color: rgb(23, 100, 171);\"></td><td title=\"Index: [0, 80]&#10;Color: (21, 98, 169)\" style=\"width: 5px; height: 5px;background-color: rgb(21, 98, 169);\"></td><td title=\"Index: [0, 81]&#10;Color: (19, 95, 167)\" style=\"width: 5px; height: 5px;background-color: rgb(19, 95, 167);\"></td><td title=\"Index: [0, 82]&#10;Color: (17, 92, 165)\" style=\"width: 5px; height: 5px;background-color: rgb(17, 92, 165);\"></td><td title=\"Index: [0, 83]&#10;Color: (15, 90, 163)\" style=\"width: 5px; height: 5px;background-color: rgb(15, 90, 163);\"></td><td title=\"Index: [0, 84]&#10;Color: (13, 87, 161)\" style=\"width: 5px; height: 5px;background-color: rgb(13, 87, 161);\"></td><td title=\"Index: [0, 85]&#10;Color: (11, 85, 159)\" style=\"width: 5px; height: 5px;background-color: rgb(11, 85, 159);\"></td><td title=\"Index: [0, 86]&#10;Color: (9, 82, 157)\" style=\"width: 5px; height: 5px;background-color: rgb(9, 82, 157);\"></td><td title=\"Index: [0, 87]&#10;Color: (8, 80, 155)\" style=\"width: 5px; height: 5px;background-color: rgb(8, 80, 155);\"></td><td title=\"Index: [0, 88]&#10;Color: (8, 77, 150)\" style=\"width: 5px; height: 5px;background-color: rgb(8, 77, 150);\"></td><td title=\"Index: [0, 89]&#10;Color: (8, 74, 145)\" style=\"width: 5px; height: 5px;background-color: rgb(8, 74, 145);\"></td><td title=\"Index: [0, 90]&#10;Color: (8, 72, 142)\" style=\"width: 5px; height: 5px;background-color: rgb(8, 72, 142);\"></td><td title=\"Index: [0, 91]&#10;Color: (8, 69, 138)\" style=\"width: 5px; height: 5px;background-color: rgb(8, 69, 138);\"></td><td title=\"Index: [0, 92]&#10;Color: (8, 67, 135)\" style=\"width: 5px; height: 5px;background-color: rgb(8, 67, 135);\"></td><td title=\"Index: [0, 93]&#10;Color: (8, 64, 130)\" style=\"width: 5px; height: 5px;background-color: rgb(8, 64, 130);\"></td><td title=\"Index: [0, 94]&#10;Color: (8, 60, 125)\" style=\"width: 5px; height: 5px;background-color: rgb(8, 60, 125);\"></td><td title=\"Index: [0, 95]&#10;Color: (8, 58, 122)\" style=\"width: 5px; height: 5px;background-color: rgb(8, 58, 122);\"></td><td title=\"Index: [0, 96]&#10;Color: (8, 55, 118)\" style=\"width: 5px; height: 5px;background-color: rgb(8, 55, 118);\"></td><td title=\"Index: [0, 97]&#10;Color: (8, 53, 115)\" style=\"width: 5px; height: 5px;background-color: rgb(8, 53, 115);\"></td><td title=\"Index: [0, 98]&#10;Color: (8, 50, 110)\" style=\"width: 5px; height: 5px;background-color: rgb(8, 50, 110);\"></td><td title=\"Index: [0, 99]&#10;Color: (8, 48, 107)\" style=\"width: 5px; height: 5px;background-color: rgb(8, 48, 107);\"></td></tr></tbody></table>"
      ],
      "text/plain": [
       "array([  0.        ,   0.12693304,   0.25386607,   0.38079911,\n",
       "         0.50773215,   0.63466518,   0.76159822,   0.88853126,\n",
       "         1.01546429,   1.14239733,   1.26933037,   1.3962634 ,\n",
       "         1.52319644,   1.65012947,   1.77706251,   1.90399555,\n",
       "         2.03092858,   2.15786162,   2.28479466,   2.41172769,\n",
       "         2.53866073,   2.66559377,   2.7925268 ,   2.91945984,\n",
       "         3.04639288,   3.17332591,   3.30025895,   3.42719199,\n",
       "         3.55412502,   3.68105806,   3.8079911 ,   3.93492413,\n",
       "         4.06185717,   4.1887902 ,   4.31572324,   4.44265628,\n",
       "         4.56958931,   4.69652235,   4.82345539,   4.95038842,\n",
       "         5.07732146,   5.2042545 ,   5.33118753,   5.45812057,\n",
       "         5.58505361,   5.71198664,   5.83891968,   5.96585272,\n",
       "         6.09278575,   6.21971879,   6.34665183,   6.47358486,\n",
       "         6.6005179 ,   6.72745093,   6.85438397,   6.98131701,\n",
       "         7.10825004,   7.23518308,   7.36211612,   7.48904915,\n",
       "         7.61598219,   7.74291523,   7.86984826,   7.9967813 ,\n",
       "         8.12371434,   8.25064737,   8.37758041,   8.50451345,\n",
       "         8.63144648,   8.75837952,   8.88531256,   9.01224559,\n",
       "         9.13917863,   9.26611167,   9.3930447 ,   9.51997774,\n",
       "         9.64691077,   9.77384381,   9.90077685,  10.02770988,\n",
       "        10.15464292,  10.28157596,  10.40850899,  10.53544203,\n",
       "        10.66237507,  10.7893081 ,  10.91624114,  11.04317418,\n",
       "        11.17010721,  11.29704025,  11.42397329,  11.55090632,\n",
       "        11.67783936,  11.8047724 ,  11.93170543,  12.05863847,\n",
       "        12.1855715 ,  12.31250454,  12.43943758,  12.56637061])"
      ]
     },
     "execution_count": 70,
     "metadata": {},
     "output_type": "execute_result"
    }
   ],
   "source": [
    "t"
   ]
  },
  {
   "cell_type": "code",
   "execution_count": 71,
   "metadata": {
    "collapsed": false
   },
   "outputs": [
    {
     "data": {
      "text/html": [
       "<style type=\"text/css\">table.blockgrid {border: none;} .blockgrid tr {border: none;} .blockgrid td {padding: 0px;} #blocksa4e87f49-9f42-4d7c-a68f-090478be624c td {border: 1px solid white;}</style><table id=\"blocksa4e87f49-9f42-4d7c-a68f-090478be624c\" class=\"blockgrid\"><tbody><tr><td title=\"Index: [0, 0]&#10;Color: (106, 174, 214)\" style=\"width: 5px; height: 5px;background-color: rgb(106, 174, 214);\"></td><td title=\"Index: [0, 1]&#10;Color: (86, 160, 206)\" style=\"width: 5px; height: 5px;background-color: rgb(86, 160, 206);\"></td><td title=\"Index: [0, 2]&#10;Color: (65, 145, 198)\" style=\"width: 5px; height: 5px;background-color: rgb(65, 145, 198);\"></td><td title=\"Index: [0, 3]&#10;Color: (50, 130, 190)\" style=\"width: 5px; height: 5px;background-color: rgb(50, 130, 190);\"></td><td title=\"Index: [0, 4]&#10;Color: (34, 114, 182)\" style=\"width: 5px; height: 5px;background-color: rgb(34, 114, 182);\"></td><td title=\"Index: [0, 5]&#10;Color: (24, 101, 172)\" style=\"width: 5px; height: 5px;background-color: rgb(24, 101, 172);\"></td><td title=\"Index: [0, 6]&#10;Color: (14, 88, 162)\" style=\"width: 5px; height: 5px;background-color: rgb(14, 88, 162);\"></td><td title=\"Index: [0, 7]&#10;Color: (8, 77, 150)\" style=\"width: 5px; height: 5px;background-color: rgb(8, 77, 150);\"></td><td title=\"Index: [0, 8]&#10;Color: (8, 68, 136)\" style=\"width: 5px; height: 5px;background-color: rgb(8, 68, 136);\"></td><td title=\"Index: [0, 9]&#10;Color: (8, 59, 124)\" style=\"width: 5px; height: 5px;background-color: rgb(8, 59, 124);\"></td><td title=\"Index: [0, 10]&#10;Color: (8, 53, 115)\" style=\"width: 5px; height: 5px;background-color: rgb(8, 53, 115);\"></td><td title=\"Index: [0, 11]&#10;Color: (8, 49, 109)\" style=\"width: 5px; height: 5px;background-color: rgb(8, 49, 109);\"></td><td title=\"Index: [0, 12]&#10;Color: (8, 48, 107)\" style=\"width: 5px; height: 5px;background-color: rgb(8, 48, 107);\"></td><td title=\"Index: [0, 13]&#10;Color: (8, 48, 107)\" style=\"width: 5px; height: 5px;background-color: rgb(8, 48, 107);\"></td><td title=\"Index: [0, 14]&#10;Color: (8, 50, 110)\" style=\"width: 5px; height: 5px;background-color: rgb(8, 50, 110);\"></td><td title=\"Index: [0, 15]&#10;Color: (8, 55, 118)\" style=\"width: 5px; height: 5px;background-color: rgb(8, 55, 118);\"></td><td title=\"Index: [0, 16]&#10;Color: (8, 61, 127)\" style=\"width: 5px; height: 5px;background-color: rgb(8, 61, 127);\"></td><td title=\"Index: [0, 17]&#10;Color: (8, 70, 139)\" style=\"width: 5px; height: 5px;background-color: rgb(8, 70, 139);\"></td><td title=\"Index: [0, 18]&#10;Color: (8, 80, 155)\" style=\"width: 5px; height: 5px;background-color: rgb(8, 80, 155);\"></td><td title=\"Index: [0, 19]&#10;Color: (16, 91, 164)\" style=\"width: 5px; height: 5px;background-color: rgb(16, 91, 164);\"></td><td title=\"Index: [0, 20]&#10;Color: (26, 104, 174)\" style=\"width: 5px; height: 5px;background-color: rgb(26, 104, 174);\"></td><td title=\"Index: [0, 21]&#10;Color: (38, 118, 184)\" style=\"width: 5px; height: 5px;background-color: rgb(38, 118, 184);\"></td><td title=\"Index: [0, 22]&#10;Color: (54, 134, 192)\" style=\"width: 5px; height: 5px;background-color: rgb(54, 134, 192);\"></td><td title=\"Index: [0, 23]&#10;Color: (70, 149, 200)\" style=\"width: 5px; height: 5px;background-color: rgb(70, 149, 200);\"></td><td title=\"Index: [0, 24]&#10;Color: (91, 163, 208)\" style=\"width: 5px; height: 5px;background-color: rgb(91, 163, 208);\"></td><td title=\"Index: [0, 25]&#10;Color: (114, 178, 216)\" style=\"width: 5px; height: 5px;background-color: rgb(114, 178, 216);\"></td><td title=\"Index: [0, 26]&#10;Color: (140, 192, 221)\" style=\"width: 5px; height: 5px;background-color: rgb(140, 192, 221);\"></td><td title=\"Index: [0, 27]&#10;Color: (164, 204, 227)\" style=\"width: 5px; height: 5px;background-color: rgb(164, 204, 227);\"></td><td title=\"Index: [0, 28]&#10;Color: (183, 212, 234)\" style=\"width: 5px; height: 5px;background-color: rgb(183, 212, 234);\"></td><td title=\"Index: [0, 29]&#10;Color: (199, 220, 239)\" style=\"width: 5px; height: 5px;background-color: rgb(199, 220, 239);\"></td><td title=\"Index: [0, 30]&#10;Color: (210, 227, 243)\" style=\"width: 5px; height: 5px;background-color: rgb(210, 227, 243);\"></td><td title=\"Index: [0, 31]&#10;Color: (219, 233, 246)\" style=\"width: 5px; height: 5px;background-color: rgb(219, 233, 246);\"></td><td title=\"Index: [0, 32]&#10;Color: (227, 238, 248)\" style=\"width: 5px; height: 5px;background-color: rgb(227, 238, 248);\"></td><td title=\"Index: [0, 33]&#10;Color: (234, 242, 251)\" style=\"width: 5px; height: 5px;background-color: rgb(234, 242, 251);\"></td><td title=\"Index: [0, 34]&#10;Color: (240, 246, 253)\" style=\"width: 5px; height: 5px;background-color: rgb(240, 246, 253);\"></td><td title=\"Index: [0, 35]&#10;Color: (244, 249, 254)\" style=\"width: 5px; height: 5px;background-color: rgb(244, 249, 254);\"></td><td title=\"Index: [0, 36]&#10;Color: (246, 250, 255)\" style=\"width: 5px; height: 5px;background-color: rgb(246, 250, 255);\"></td><td title=\"Index: [0, 37]&#10;Color: (247, 251, 255)\" style=\"width: 5px; height: 5px;background-color: rgb(247, 251, 255);\"></td><td title=\"Index: [0, 38]&#10;Color: (247, 251, 255)\" style=\"width: 5px; height: 5px;background-color: rgb(247, 251, 255);\"></td><td title=\"Index: [0, 39]&#10;Color: (245, 249, 254)\" style=\"width: 5px; height: 5px;background-color: rgb(245, 249, 254);\"></td><td title=\"Index: [0, 40]&#10;Color: (241, 247, 253)\" style=\"width: 5px; height: 5px;background-color: rgb(241, 247, 253);\"></td><td title=\"Index: [0, 41]&#10;Color: (235, 243, 251)\" style=\"width: 5px; height: 5px;background-color: rgb(235, 243, 251);\"></td><td title=\"Index: [0, 42]&#10;Color: (229, 239, 249)\" style=\"width: 5px; height: 5px;background-color: rgb(229, 239, 249);\"></td><td title=\"Index: [0, 43]&#10;Color: (221, 234, 247)\" style=\"width: 5px; height: 5px;background-color: rgb(221, 234, 247);\"></td><td title=\"Index: [0, 44]&#10;Color: (212, 228, 244)\" style=\"width: 5px; height: 5px;background-color: rgb(212, 228, 244);\"></td><td title=\"Index: [0, 45]&#10;Color: (202, 222, 240)\" style=\"width: 5px; height: 5px;background-color: rgb(202, 222, 240);\"></td><td title=\"Index: [0, 46]&#10;Color: (188, 215, 235)\" style=\"width: 5px; height: 5px;background-color: rgb(188, 215, 235);\"></td><td title=\"Index: [0, 47]&#10;Color: (168, 206, 228)\" style=\"width: 5px; height: 5px;background-color: rgb(168, 206, 228);\"></td><td title=\"Index: [0, 48]&#10;Color: (146, 196, 222)\" style=\"width: 5px; height: 5px;background-color: rgb(146, 196, 222);\"></td><td title=\"Index: [0, 49]&#10;Color: (121, 181, 217)\" style=\"width: 5px; height: 5px;background-color: rgb(121, 181, 217);\"></td><td title=\"Index: [0, 50]&#10;Color: (96, 167, 210)\" style=\"width: 5px; height: 5px;background-color: rgb(96, 167, 210);\"></td><td title=\"Index: [0, 51]&#10;Color: (75, 152, 202)\" style=\"width: 5px; height: 5px;background-color: rgb(75, 152, 202);\"></td><td title=\"Index: [0, 52]&#10;Color: (58, 138, 194)\" style=\"width: 5px; height: 5px;background-color: rgb(58, 138, 194);\"></td><td title=\"Index: [0, 53]&#10;Color: (42, 122, 185)\" style=\"width: 5px; height: 5px;background-color: rgb(42, 122, 185);\"></td><td title=\"Index: [0, 54]&#10;Color: (28, 107, 176)\" style=\"width: 5px; height: 5px;background-color: rgb(28, 107, 176);\"></td><td title=\"Index: [0, 55]&#10;Color: (18, 94, 166)\" style=\"width: 5px; height: 5px;background-color: rgb(18, 94, 166);\"></td><td title=\"Index: [0, 56]&#10;Color: (9, 82, 157)\" style=\"width: 5px; height: 5px;background-color: rgb(9, 82, 157);\"></td><td title=\"Index: [0, 57]&#10;Color: (8, 72, 142)\" style=\"width: 5px; height: 5px;background-color: rgb(8, 72, 142);\"></td><td title=\"Index: [0, 58]&#10;Color: (8, 64, 130)\" style=\"width: 5px; height: 5px;background-color: rgb(8, 64, 130);\"></td><td title=\"Index: [0, 59]&#10;Color: (8, 56, 119)\" style=\"width: 5px; height: 5px;background-color: rgb(8, 56, 119);\"></td><td title=\"Index: [0, 60]&#10;Color: (8, 51, 112)\" style=\"width: 5px; height: 5px;background-color: rgb(8, 51, 112);\"></td><td title=\"Index: [0, 61]&#10;Color: (8, 48, 107)\" style=\"width: 5px; height: 5px;background-color: rgb(8, 48, 107);\"></td><td title=\"Index: [0, 62]&#10;Color: (8, 48, 107)\" style=\"width: 5px; height: 5px;background-color: rgb(8, 48, 107);\"></td><td title=\"Index: [0, 63]&#10;Color: (8, 49, 109)\" style=\"width: 5px; height: 5px;background-color: rgb(8, 49, 109);\"></td><td title=\"Index: [0, 64]&#10;Color: (8, 52, 113)\" style=\"width: 5px; height: 5px;background-color: rgb(8, 52, 113);\"></td><td title=\"Index: [0, 65]&#10;Color: (8, 57, 121)\" style=\"width: 5px; height: 5px;background-color: rgb(8, 57, 121);\"></td><td title=\"Index: [0, 66]&#10;Color: (8, 66, 133)\" style=\"width: 5px; height: 5px;background-color: rgb(8, 66, 133);\"></td><td title=\"Index: [0, 67]&#10;Color: (8, 75, 147)\" style=\"width: 5px; height: 5px;background-color: rgb(8, 75, 147);\"></td><td title=\"Index: [0, 68]&#10;Color: (11, 85, 159)\" style=\"width: 5px; height: 5px;background-color: rgb(11, 85, 159);\"></td><td title=\"Index: [0, 69]&#10;Color: (21, 97, 169)\" style=\"width: 5px; height: 5px;background-color: rgb(21, 97, 169);\"></td><td title=\"Index: [0, 70]&#10;Color: (32, 111, 180)\" style=\"width: 5px; height: 5px;background-color: rgb(32, 111, 180);\"></td><td title=\"Index: [0, 71]&#10;Color: (46, 126, 188)\" style=\"width: 5px; height: 5px;background-color: rgb(46, 126, 188);\"></td><td title=\"Index: [0, 72]&#10;Color: (61, 141, 196)\" style=\"width: 5px; height: 5px;background-color: rgb(61, 141, 196);\"></td><td title=\"Index: [0, 73]&#10;Color: (81, 156, 204)\" style=\"width: 5px; height: 5px;background-color: rgb(81, 156, 204);\"></td><td title=\"Index: [0, 74]&#10;Color: (101, 170, 212)\" style=\"width: 5px; height: 5px;background-color: rgb(101, 170, 212);\"></td><td title=\"Index: [0, 75]&#10;Color: (127, 185, 218)\" style=\"width: 5px; height: 5px;background-color: rgb(127, 185, 218);\"></td><td title=\"Index: [0, 76]&#10;Color: (153, 199, 224)\" style=\"width: 5px; height: 5px;background-color: rgb(153, 199, 224);\"></td><td title=\"Index: [0, 77]&#10;Color: (173, 208, 230)\" style=\"width: 5px; height: 5px;background-color: rgb(173, 208, 230);\"></td><td title=\"Index: [0, 78]&#10;Color: (191, 216, 237)\" style=\"width: 5px; height: 5px;background-color: rgb(191, 216, 237);\"></td><td title=\"Index: [0, 79]&#10;Color: (205, 223, 241)\" style=\"width: 5px; height: 5px;background-color: rgb(205, 223, 241);\"></td><td title=\"Index: [0, 80]&#10;Color: (214, 230, 244)\" style=\"width: 5px; height: 5px;background-color: rgb(214, 230, 244);\"></td><td title=\"Index: [0, 81]&#10;Color: (223, 235, 247)\" style=\"width: 5px; height: 5px;background-color: rgb(223, 235, 247);\"></td><td title=\"Index: [0, 82]&#10;Color: (231, 240, 250)\" style=\"width: 5px; height: 5px;background-color: rgb(231, 240, 250);\"></td><td title=\"Index: [0, 83]&#10;Color: (237, 244, 252)\" style=\"width: 5px; height: 5px;background-color: rgb(237, 244, 252);\"></td><td title=\"Index: [0, 84]&#10;Color: (242, 247, 253)\" style=\"width: 5px; height: 5px;background-color: rgb(242, 247, 253);\"></td><td title=\"Index: [0, 85]&#10;Color: (245, 250, 254)\" style=\"width: 5px; height: 5px;background-color: rgb(245, 250, 254);\"></td><td title=\"Index: [0, 86]&#10;Color: (247, 251, 255)\" style=\"width: 5px; height: 5px;background-color: rgb(247, 251, 255);\"></td><td title=\"Index: [0, 87]&#10;Color: (247, 251, 255)\" style=\"width: 5px; height: 5px;background-color: rgb(247, 251, 255);\"></td><td title=\"Index: [0, 88]&#10;Color: (246, 250, 255)\" style=\"width: 5px; height: 5px;background-color: rgb(246, 250, 255);\"></td><td title=\"Index: [0, 89]&#10;Color: (243, 248, 254)\" style=\"width: 5px; height: 5px;background-color: rgb(243, 248, 254);\"></td><td title=\"Index: [0, 90]&#10;Color: (238, 245, 252)\" style=\"width: 5px; height: 5px;background-color: rgb(238, 245, 252);\"></td><td title=\"Index: [0, 91]&#10;Color: (232, 241, 250)\" style=\"width: 5px; height: 5px;background-color: rgb(232, 241, 250);\"></td><td title=\"Index: [0, 92]&#10;Color: (225, 237, 248)\" style=\"width: 5px; height: 5px;background-color: rgb(225, 237, 248);\"></td><td title=\"Index: [0, 93]&#10;Color: (217, 231, 245)\" style=\"width: 5px; height: 5px;background-color: rgb(217, 231, 245);\"></td><td title=\"Index: [0, 94]&#10;Color: (207, 225, 242)\" style=\"width: 5px; height: 5px;background-color: rgb(207, 225, 242);\"></td><td title=\"Index: [0, 95]&#10;Color: (196, 218, 238)\" style=\"width: 5px; height: 5px;background-color: rgb(196, 218, 238);\"></td><td title=\"Index: [0, 96]&#10;Color: (178, 210, 232)\" style=\"width: 5px; height: 5px;background-color: rgb(178, 210, 232);\"></td><td title=\"Index: [0, 97]&#10;Color: (159, 202, 225)\" style=\"width: 5px; height: 5px;background-color: rgb(159, 202, 225);\"></td><td title=\"Index: [0, 98]&#10;Color: (133, 188, 220)\" style=\"width: 5px; height: 5px;background-color: rgb(133, 188, 220);\"></td><td title=\"Index: [0, 99]&#10;Color: (108, 174, 214)\" style=\"width: 5px; height: 5px;background-color: rgb(108, 174, 214);\"></td></tr></tbody></table>"
      ],
      "text/plain": [
       "array([  0.00000000e+00,   1.26592454e-01,   2.51147987e-01,\n",
       "         3.71662456e-01,   4.86196736e-01,   5.92907929e-01,\n",
       "         6.90079011e-01,   7.76146464e-01,   8.49725430e-01,\n",
       "         9.09631995e-01,   9.54902241e-01,   9.84807753e-01,\n",
       "         9.98867339e-01,   9.96854776e-01,   9.78802446e-01,\n",
       "         9.45000819e-01,   8.95993774e-01,   8.32569855e-01,\n",
       "         7.55749574e-01,   6.66769001e-01,   5.67059864e-01,\n",
       "         4.58226522e-01,   3.42020143e-01,   2.20310533e-01,\n",
       "         9.50560433e-02,  -3.17279335e-02,  -1.58001396e-01,\n",
       "        -2.81732557e-01,  -4.00930535e-01,  -5.13677392e-01,\n",
       "        -6.18158986e-01,  -7.12694171e-01,  -7.95761841e-01,\n",
       "        -8.66025404e-01,  -9.22354294e-01,  -9.63842159e-01,\n",
       "        -9.89821442e-01,  -9.99874128e-01,  -9.93838464e-01,\n",
       "        -9.71811568e-01,  -9.34147860e-01,  -8.81453363e-01,\n",
       "        -8.14575952e-01,  -7.34591709e-01,  -6.42787610e-01,\n",
       "        -5.40640817e-01,  -4.29794912e-01,  -3.12033446e-01,\n",
       "        -1.89251244e-01,  -6.34239197e-02,   6.34239197e-02,\n",
       "         1.89251244e-01,   3.12033446e-01,   4.29794912e-01,\n",
       "         5.40640817e-01,   6.42787610e-01,   7.34591709e-01,\n",
       "         8.14575952e-01,   8.81453363e-01,   9.34147860e-01,\n",
       "         9.71811568e-01,   9.93838464e-01,   9.99874128e-01,\n",
       "         9.89821442e-01,   9.63842159e-01,   9.22354294e-01,\n",
       "         8.66025404e-01,   7.95761841e-01,   7.12694171e-01,\n",
       "         6.18158986e-01,   5.13677392e-01,   4.00930535e-01,\n",
       "         2.81732557e-01,   1.58001396e-01,   3.17279335e-02,\n",
       "        -9.50560433e-02,  -2.20310533e-01,  -3.42020143e-01,\n",
       "        -4.58226522e-01,  -5.67059864e-01,  -6.66769001e-01,\n",
       "        -7.55749574e-01,  -8.32569855e-01,  -8.95993774e-01,\n",
       "        -9.45000819e-01,  -9.78802446e-01,  -9.96854776e-01,\n",
       "        -9.98867339e-01,  -9.84807753e-01,  -9.54902241e-01,\n",
       "        -9.09631995e-01,  -8.49725430e-01,  -7.76146464e-01,\n",
       "        -6.90079011e-01,  -5.92907929e-01,  -4.86196736e-01,\n",
       "        -3.71662456e-01,  -2.51147987e-01,  -1.26592454e-01,\n",
       "        -4.89858720e-16])"
      ]
     },
     "execution_count": 71,
     "metadata": {},
     "output_type": "execute_result"
    }
   ],
   "source": [
    "np.sin(t)"
   ]
  },
  {
   "cell_type": "code",
   "execution_count": 72,
   "metadata": {
    "collapsed": false
   },
   "outputs": [
    {
     "data": {
      "text/html": [
       "<style type=\"text/css\">table.blockgrid {border: none;} .blockgrid tr {border: none;} .blockgrid td {padding: 0px;} #blockscf12f8c8-2d6d-44b3-9cf2-0953ee7d696c td {border: 1px solid white;}</style><table id=\"blockscf12f8c8-2d6d-44b3-9cf2-0953ee7d696c\" class=\"blockgrid\"><tbody><tr><td title=\"Index: [0, 0]&#10;Color: (247, 251, 255)\" style=\"width: 5px; height: 5px;background-color: rgb(247, 251, 255);\"></td><td title=\"Index: [0, 1]&#10;Color: (245, 249, 254)\" style=\"width: 5px; height: 5px;background-color: rgb(245, 249, 254);\"></td><td title=\"Index: [0, 2]&#10;Color: (244, 249, 254)\" style=\"width: 5px; height: 5px;background-color: rgb(244, 249, 254);\"></td><td title=\"Index: [0, 3]&#10;Color: (242, 248, 253)\" style=\"width: 5px; height: 5px;background-color: rgb(242, 248, 253);\"></td><td title=\"Index: [0, 4]&#10;Color: (242, 247, 253)\" style=\"width: 5px; height: 5px;background-color: rgb(242, 247, 253);\"></td><td title=\"Index: [0, 5]&#10;Color: (240, 246, 253)\" style=\"width: 5px; height: 5px;background-color: rgb(240, 246, 253);\"></td><td title=\"Index: [0, 6]&#10;Color: (239, 246, 252)\" style=\"width: 5px; height: 5px;background-color: rgb(239, 246, 252);\"></td><td title=\"Index: [0, 7]&#10;Color: (238, 245, 252)\" style=\"width: 5px; height: 5px;background-color: rgb(238, 245, 252);\"></td><td title=\"Index: [0, 8]&#10;Color: (237, 244, 252)\" style=\"width: 5px; height: 5px;background-color: rgb(237, 244, 252);\"></td><td title=\"Index: [0, 9]&#10;Color: (236, 244, 251)\" style=\"width: 5px; height: 5px;background-color: rgb(236, 244, 251);\"></td><td title=\"Index: [0, 10]&#10;Color: (235, 243, 251)\" style=\"width: 5px; height: 5px;background-color: rgb(235, 243, 251);\"></td><td title=\"Index: [0, 11]&#10;Color: (234, 242, 251)\" style=\"width: 5px; height: 5px;background-color: rgb(234, 242, 251);\"></td><td title=\"Index: [0, 12]&#10;Color: (233, 242, 250)\" style=\"width: 5px; height: 5px;background-color: rgb(233, 242, 250);\"></td><td title=\"Index: [0, 13]&#10;Color: (232, 241, 250)\" style=\"width: 5px; height: 5px;background-color: rgb(232, 241, 250);\"></td><td title=\"Index: [0, 14]&#10;Color: (231, 240, 250)\" style=\"width: 5px; height: 5px;background-color: rgb(231, 240, 250);\"></td><td title=\"Index: [0, 15]&#10;Color: (230, 240, 249)\" style=\"width: 5px; height: 5px;background-color: rgb(230, 240, 249);\"></td><td title=\"Index: [0, 16]&#10;Color: (228, 239, 249)\" style=\"width: 5px; height: 5px;background-color: rgb(228, 239, 249);\"></td><td title=\"Index: [0, 17]&#10;Color: (227, 238, 249)\" style=\"width: 5px; height: 5px;background-color: rgb(227, 238, 249);\"></td><td title=\"Index: [0, 18]&#10;Color: (227, 238, 248)\" style=\"width: 5px; height: 5px;background-color: rgb(227, 238, 248);\"></td><td title=\"Index: [0, 19]&#10;Color: (225, 237, 248)\" style=\"width: 5px; height: 5px;background-color: rgb(225, 237, 248);\"></td><td title=\"Index: [0, 20]&#10;Color: (224, 236, 248)\" style=\"width: 5px; height: 5px;background-color: rgb(224, 236, 248);\"></td><td title=\"Index: [0, 21]&#10;Color: (223, 235, 247)\" style=\"width: 5px; height: 5px;background-color: rgb(223, 235, 247);\"></td><td title=\"Index: [0, 22]&#10;Color: (222, 235, 247)\" style=\"width: 5px; height: 5px;background-color: rgb(222, 235, 247);\"></td><td title=\"Index: [0, 23]&#10;Color: (220, 234, 246)\" style=\"width: 5px; height: 5px;background-color: rgb(220, 234, 246);\"></td><td title=\"Index: [0, 24]&#10;Color: (220, 233, 246)\" style=\"width: 5px; height: 5px;background-color: rgb(220, 233, 246);\"></td><td title=\"Index: [0, 25]&#10;Color: (218, 232, 246)\" style=\"width: 5px; height: 5px;background-color: rgb(218, 232, 246);\"></td><td title=\"Index: [0, 26]&#10;Color: (217, 231, 245)\" style=\"width: 5px; height: 5px;background-color: rgb(217, 231, 245);\"></td><td title=\"Index: [0, 27]&#10;Color: (216, 231, 245)\" style=\"width: 5px; height: 5px;background-color: rgb(216, 231, 245);\"></td><td title=\"Index: [0, 28]&#10;Color: (214, 230, 244)\" style=\"width: 5px; height: 5px;background-color: rgb(214, 230, 244);\"></td><td title=\"Index: [0, 29]&#10;Color: (213, 229, 244)\" style=\"width: 5px; height: 5px;background-color: rgb(213, 229, 244);\"></td><td title=\"Index: [0, 30]&#10;Color: (212, 228, 244)\" style=\"width: 5px; height: 5px;background-color: rgb(212, 228, 244);\"></td><td title=\"Index: [0, 31]&#10;Color: (211, 227, 243)\" style=\"width: 5px; height: 5px;background-color: rgb(211, 227, 243);\"></td><td title=\"Index: [0, 32]&#10;Color: (209, 226, 243)\" style=\"width: 5px; height: 5px;background-color: rgb(209, 226, 243);\"></td><td title=\"Index: [0, 33]&#10;Color: (208, 225, 242)\" style=\"width: 5px; height: 5px;background-color: rgb(208, 225, 242);\"></td><td title=\"Index: [0, 34]&#10;Color: (206, 224, 242)\" style=\"width: 5px; height: 5px;background-color: rgb(206, 224, 242);\"></td><td title=\"Index: [0, 35]&#10;Color: (205, 223, 241)\" style=\"width: 5px; height: 5px;background-color: rgb(205, 223, 241);\"></td><td title=\"Index: [0, 36]&#10;Color: (204, 223, 241)\" style=\"width: 5px; height: 5px;background-color: rgb(204, 223, 241);\"></td><td title=\"Index: [0, 37]&#10;Color: (202, 222, 240)\" style=\"width: 5px; height: 5px;background-color: rgb(202, 222, 240);\"></td><td title=\"Index: [0, 38]&#10;Color: (201, 221, 240)\" style=\"width: 5px; height: 5px;background-color: rgb(201, 221, 240);\"></td><td title=\"Index: [0, 39]&#10;Color: (199, 220, 239)\" style=\"width: 5px; height: 5px;background-color: rgb(199, 220, 239);\"></td><td title=\"Index: [0, 40]&#10;Color: (198, 219, 239)\" style=\"width: 5px; height: 5px;background-color: rgb(198, 219, 239);\"></td><td title=\"Index: [0, 41]&#10;Color: (195, 218, 238)\" style=\"width: 5px; height: 5px;background-color: rgb(195, 218, 238);\"></td><td title=\"Index: [0, 42]&#10;Color: (193, 217, 237)\" style=\"width: 5px; height: 5px;background-color: rgb(193, 217, 237);\"></td><td title=\"Index: [0, 43]&#10;Color: (189, 215, 236)\" style=\"width: 5px; height: 5px;background-color: rgb(189, 215, 236);\"></td><td title=\"Index: [0, 44]&#10;Color: (186, 214, 235)\" style=\"width: 5px; height: 5px;background-color: rgb(186, 214, 235);\"></td><td title=\"Index: [0, 45]&#10;Color: (184, 213, 234)\" style=\"width: 5px; height: 5px;background-color: rgb(184, 213, 234);\"></td><td title=\"Index: [0, 46]&#10;Color: (181, 212, 233)\" style=\"width: 5px; height: 5px;background-color: rgb(181, 212, 233);\"></td><td title=\"Index: [0, 47]&#10;Color: (179, 211, 232)\" style=\"width: 5px; height: 5px;background-color: rgb(179, 211, 232);\"></td><td title=\"Index: [0, 48]&#10;Color: (175, 209, 231)\" style=\"width: 5px; height: 5px;background-color: rgb(175, 209, 231);\"></td><td title=\"Index: [0, 49]&#10;Color: (173, 208, 230)\" style=\"width: 5px; height: 5px;background-color: rgb(173, 208, 230);\"></td><td title=\"Index: [0, 50]&#10;Color: (170, 207, 229)\" style=\"width: 5px; height: 5px;background-color: rgb(170, 207, 229);\"></td><td title=\"Index: [0, 51]&#10;Color: (166, 206, 228)\" style=\"width: 5px; height: 5px;background-color: rgb(166, 206, 228);\"></td><td title=\"Index: [0, 52]&#10;Color: (164, 204, 227)\" style=\"width: 5px; height: 5px;background-color: rgb(164, 204, 227);\"></td><td title=\"Index: [0, 53]&#10;Color: (160, 203, 226)\" style=\"width: 5px; height: 5px;background-color: rgb(160, 203, 226);\"></td><td title=\"Index: [0, 54]&#10;Color: (157, 202, 225)\" style=\"width: 5px; height: 5px;background-color: rgb(157, 202, 225);\"></td><td title=\"Index: [0, 55]&#10;Color: (153, 199, 224)\" style=\"width: 5px; height: 5px;background-color: rgb(153, 199, 224);\"></td><td title=\"Index: [0, 56]&#10;Color: (149, 197, 223)\" style=\"width: 5px; height: 5px;background-color: rgb(149, 197, 223);\"></td><td title=\"Index: [0, 57]&#10;Color: (145, 195, 222)\" style=\"width: 5px; height: 5px;background-color: rgb(145, 195, 222);\"></td><td title=\"Index: [0, 58]&#10;Color: (140, 192, 221)\" style=\"width: 5px; height: 5px;background-color: rgb(140, 192, 221);\"></td><td title=\"Index: [0, 59]&#10;Color: (137, 190, 220)\" style=\"width: 5px; height: 5px;background-color: rgb(137, 190, 220);\"></td><td title=\"Index: [0, 60]&#10;Color: (132, 188, 219)\" style=\"width: 5px; height: 5px;background-color: rgb(132, 188, 219);\"></td><td title=\"Index: [0, 61]&#10;Color: (127, 185, 218)\" style=\"width: 5px; height: 5px;background-color: rgb(127, 185, 218);\"></td><td title=\"Index: [0, 62]&#10;Color: (122, 182, 217)\" style=\"width: 5px; height: 5px;background-color: rgb(122, 182, 217);\"></td><td title=\"Index: [0, 63]&#10;Color: (117, 180, 216)\" style=\"width: 5px; height: 5px;background-color: rgb(117, 180, 216);\"></td><td title=\"Index: [0, 64]&#10;Color: (114, 178, 216)\" style=\"width: 5px; height: 5px;background-color: rgb(114, 178, 216);\"></td><td title=\"Index: [0, 65]&#10;Color: (109, 175, 215)\" style=\"width: 5px; height: 5px;background-color: rgb(109, 175, 215);\"></td><td title=\"Index: [0, 66]&#10;Color: (105, 173, 213)\" style=\"width: 5px; height: 5px;background-color: rgb(105, 173, 213);\"></td><td title=\"Index: [0, 67]&#10;Color: (101, 170, 212)\" style=\"width: 5px; height: 5px;background-color: rgb(101, 170, 212);\"></td><td title=\"Index: [0, 68]&#10;Color: (96, 167, 210)\" style=\"width: 5px; height: 5px;background-color: rgb(96, 167, 210);\"></td><td title=\"Index: [0, 69]&#10;Color: (92, 164, 208)\" style=\"width: 5px; height: 5px;background-color: rgb(92, 164, 208);\"></td><td title=\"Index: [0, 70]&#10;Color: (88, 161, 207)\" style=\"width: 5px; height: 5px;background-color: rgb(88, 161, 207);\"></td><td title=\"Index: [0, 71]&#10;Color: (84, 159, 205)\" style=\"width: 5px; height: 5px;background-color: rgb(84, 159, 205);\"></td><td title=\"Index: [0, 72]&#10;Color: (81, 156, 204)\" style=\"width: 5px; height: 5px;background-color: rgb(81, 156, 204);\"></td><td title=\"Index: [0, 73]&#10;Color: (75, 152, 202)\" style=\"width: 5px; height: 5px;background-color: rgb(75, 152, 202);\"></td><td title=\"Index: [0, 74]&#10;Color: (72, 150, 200)\" style=\"width: 5px; height: 5px;background-color: rgb(72, 150, 200);\"></td><td title=\"Index: [0, 75]&#10;Color: (68, 147, 199)\" style=\"width: 5px; height: 5px;background-color: rgb(68, 147, 199);\"></td><td title=\"Index: [0, 76]&#10;Color: (63, 143, 197)\" style=\"width: 5px; height: 5px;background-color: rgb(63, 143, 197);\"></td><td title=\"Index: [0, 77]&#10;Color: (60, 140, 195)\" style=\"width: 5px; height: 5px;background-color: rgb(60, 140, 195);\"></td><td title=\"Index: [0, 78]&#10;Color: (56, 136, 193)\" style=\"width: 5px; height: 5px;background-color: rgb(56, 136, 193);\"></td><td title=\"Index: [0, 79]&#10;Color: (53, 133, 191)\" style=\"width: 5px; height: 5px;background-color: rgb(53, 133, 191);\"></td><td title=\"Index: [0, 80]&#10;Color: (49, 129, 189)\" style=\"width: 5px; height: 5px;background-color: rgb(49, 129, 189);\"></td><td title=\"Index: [0, 81]&#10;Color: (45, 125, 187)\" style=\"width: 5px; height: 5px;background-color: rgb(45, 125, 187);\"></td><td title=\"Index: [0, 82]&#10;Color: (41, 121, 185)\" style=\"width: 5px; height: 5px;background-color: rgb(41, 121, 185);\"></td><td title=\"Index: [0, 83]&#10;Color: (37, 117, 183)\" style=\"width: 5px; height: 5px;background-color: rgb(37, 117, 183);\"></td><td title=\"Index: [0, 84]&#10;Color: (33, 113, 181)\" style=\"width: 5px; height: 5px;background-color: rgb(33, 113, 181);\"></td><td title=\"Index: [0, 85]&#10;Color: (30, 109, 178)\" style=\"width: 5px; height: 5px;background-color: rgb(30, 109, 178);\"></td><td title=\"Index: [0, 86]&#10;Color: (27, 105, 175)\" style=\"width: 5px; height: 5px;background-color: rgb(27, 105, 175);\"></td><td title=\"Index: [0, 87]&#10;Color: (24, 101, 172)\" style=\"width: 5px; height: 5px;background-color: rgb(24, 101, 172);\"></td><td title=\"Index: [0, 88]&#10;Color: (21, 97, 169)\" style=\"width: 5px; height: 5px;background-color: rgb(21, 97, 169);\"></td><td title=\"Index: [0, 89]&#10;Color: (18, 93, 166)\" style=\"width: 5px; height: 5px;background-color: rgb(18, 93, 166);\"></td><td title=\"Index: [0, 90]&#10;Color: (14, 89, 162)\" style=\"width: 5px; height: 5px;background-color: rgb(14, 89, 162);\"></td><td title=\"Index: [0, 91]&#10;Color: (10, 84, 158)\" style=\"width: 5px; height: 5px;background-color: rgb(10, 84, 158);\"></td><td title=\"Index: [0, 92]&#10;Color: (8, 80, 155)\" style=\"width: 5px; height: 5px;background-color: rgb(8, 80, 155);\"></td><td title=\"Index: [0, 93]&#10;Color: (8, 76, 149)\" style=\"width: 5px; height: 5px;background-color: rgb(8, 76, 149);\"></td><td title=\"Index: [0, 94]&#10;Color: (8, 71, 141)\" style=\"width: 5px; height: 5px;background-color: rgb(8, 71, 141);\"></td><td title=\"Index: [0, 95]&#10;Color: (8, 67, 135)\" style=\"width: 5px; height: 5px;background-color: rgb(8, 67, 135);\"></td><td title=\"Index: [0, 96]&#10;Color: (8, 61, 127)\" style=\"width: 5px; height: 5px;background-color: rgb(8, 61, 127);\"></td><td title=\"Index: [0, 97]&#10;Color: (8, 57, 121)\" style=\"width: 5px; height: 5px;background-color: rgb(8, 57, 121);\"></td><td title=\"Index: [0, 98]&#10;Color: (8, 52, 113)\" style=\"width: 5px; height: 5px;background-color: rgb(8, 52, 113);\"></td><td title=\"Index: [0, 99]&#10;Color: (8, 48, 107)\" style=\"width: 5px; height: 5px;background-color: rgb(8, 48, 107);\"></td></tr></tbody></table>"
      ],
      "text/plain": [
       "array([  1.        ,   1.42800252,   1.65508314,   1.85352498,\n",
       "         2.0391912 ,   2.21811727,   2.39335452,   2.56669572,\n",
       "         2.73930019,   2.91197017,   3.0852899 ,   3.25970239,\n",
       "         3.43555487,   3.61312719,   3.79265037,   3.97431915,\n",
       "         4.15830075,   4.34474111,   4.53376955,   4.72550211,\n",
       "         4.92004424,   5.11749275,   5.31793737,   5.52146205,\n",
       "         5.72814588,   5.93806395,   6.15128796,   6.36788679,\n",
       "         6.58792691,   6.81147279,   7.03858718,   7.26933139,\n",
       "         7.50376552,   7.74194862,   7.9839389 ,   8.22979383,\n",
       "         8.47957029,   8.73332467,   8.99111297,   9.25299087,\n",
       "         9.5190138 ,   9.78923703,  10.0637157 ,  10.3425049 ,\n",
       "        10.62565969,  10.91323513,  11.20528637,  11.50186863,\n",
       "        11.80303726,  12.10884775,  12.41935577,  12.73461719,\n",
       "        13.05468809,  13.37962479,  13.70948387,  14.04432217,\n",
       "        14.38419685,  14.72916532,  15.07928535,  15.43461502,\n",
       "        15.79521274,  16.16113729,  16.53244781,  16.90920379,\n",
       "        17.29146511,  17.67929205,  18.07274529,  18.47188589,\n",
       "        18.87677534,  19.28747555,  19.70404886,  20.12655804,\n",
       "        20.5550663 ,  20.9896373 ,  21.43033517,  21.87722446,\n",
       "        22.33037022,  22.78983796,  23.25569367,  23.72800383,\n",
       "        24.20683537,  24.69225577,  25.18433296,  25.68313539,\n",
       "        26.18873203,  26.70119236,  27.22058635,  27.74698452,\n",
       "        28.28045791,  28.82107809,  29.36891717,  29.9240478 ,\n",
       "        30.48654317,  31.05647702,  31.63392365,  32.21895792,\n",
       "        32.81165525,  33.41209162,  34.0203436 ,  34.63648831])"
      ]
     },
     "execution_count": 72,
     "metadata": {},
     "output_type": "execute_result"
    }
   ],
   "source": [
    "np.exp(np.sqrt(t))"
   ]
  },
  {
   "cell_type": "code",
   "execution_count": 73,
   "metadata": {
    "collapsed": true
   },
   "outputs": [],
   "source": [
    "va.disable()\n",
    "va.set_block_size(30)"
   ]
  },
  {
   "cell_type": "code",
   "execution_count": 74,
   "metadata": {
    "collapsed": false
   },
   "outputs": [
    {
     "data": {
      "text/plain": [
       "[<matplotlib.lines.Line2D at 0x7fd358888990>]"
      ]
     },
     "execution_count": 74,
     "metadata": {},
     "output_type": "execute_result"
    },
    {
     "data": {
      "image/png": "[encoded data removed]",
      "text/plain": [
       "<matplotlib.figure.Figure at 0x7fd3588d12d0>"
      ]
     },
     "metadata": {},
     "output_type": "display_data"
    }
   ],
   "source": [
    "plt.plot(t, np.exp(-0.1*t)*np.sin(t))"
   ]
  },
  {
   "cell_type": "code",
   "execution_count": 75,
   "metadata": {
    "collapsed": true
   },
   "outputs": [],
   "source": [
    "ages = np.array([23,56,67,89,23,56,27,12,8,72])\n",
    "genders = np.array(['m','m','f','f','m','f','m','m','m','f'])"
   ]
  },
  {
   "cell_type": "code",
   "execution_count": 76,
   "metadata": {
    "collapsed": false
   },
   "outputs": [
    {
     "data": {
      "text/plain": [
       "(8, 89)"
      ]
     },
     "execution_count": 76,
     "metadata": {},
     "output_type": "execute_result"
    }
   ],
   "source": [
    "ages.min(), ages.max()"
   ]
  },
  {
   "cell_type": "code",
   "execution_count": 77,
   "metadata": {
    "collapsed": false
   },
   "outputs": [
    {
     "data": {
      "text/plain": [
       "43.299999999999997"
      ]
     },
     "execution_count": 77,
     "metadata": {},
     "output_type": "execute_result"
    }
   ],
   "source": [
    "ages.mean()"
   ]
  },
  {
   "cell_type": "code",
   "execution_count": 78,
   "metadata": {
    "collapsed": false
   },
   "outputs": [
    {
     "data": {
      "text/plain": [
       "711.21000000000004"
      ]
     },
     "execution_count": 78,
     "metadata": {},
     "output_type": "execute_result"
    }
   ],
   "source": [
    "ages.var()"
   ]
  },
  {
   "cell_type": "code",
   "execution_count": 79,
   "metadata": {
    "collapsed": false
   },
   "outputs": [
    {
     "data": {
      "text/plain": [
       "26.668520768876554"
      ]
     },
     "execution_count": 79,
     "metadata": {},
     "output_type": "execute_result"
    }
   ],
   "source": [
    "ages.std()"
   ]
  },
  {
   "cell_type": "code",
   "execution_count": 80,
   "metadata": {
    "collapsed": false
   },
   "outputs": [
    {
     "data": {
      "text/plain": [
       "array([0, 0, 0, 0, 0, 0, 0, 0, 1, 0, 0, 0, 1, 0, 0, 0, 0, 0, 0, 0, 0, 0, 0,\n",
       "       2, 0, 0, 0, 1, 0, 0, 0, 0, 0, 0, 0, 0, 0, 0, 0, 0, 0, 0, 0, 0, 0, 0,\n",
       "       0, 0, 0, 0, 0, 0, 0, 0, 0, 0, 2, 0, 0, 0, 0, 0, 0, 0, 0, 0, 0, 1, 0,\n",
       "       0, 0, 0, 1, 0, 0, 0, 0, 0, 0, 0, 0, 0, 0, 0, 0, 0, 0, 0, 0, 1])"
      ]
     },
     "execution_count": 80,
     "metadata": {},
     "output_type": "execute_result"
    }
   ],
   "source": [
    "np.bincount(ages)"
   ]
  },
  {
   "cell_type": "code",
   "execution_count": 81,
   "metadata": {
    "collapsed": false
   },
   "outputs": [
    {
     "data": {
      "text/plain": [
       "array([ 23,  79, 146, 235, 258, 314, 341, 353, 361, 433])"
      ]
     },
     "execution_count": 81,
     "metadata": {},
     "output_type": "execute_result"
    }
   ],
   "source": [
    "ages.cumsum()"
   ]
  },
  {
   "cell_type": "code",
   "execution_count": 82,
   "metadata": {
    "collapsed": false
   },
   "outputs": [
    {
     "data": {
      "text/plain": [
       "array([              23,             1288,            86296,\n",
       "                7680344,        176647912,       9892283072,\n",
       "           267091642944,    3205099715328,   25640797722624,\n",
       "       1846137436028928])"
      ]
     },
     "execution_count": 82,
     "metadata": {},
     "output_type": "execute_result"
    }
   ],
   "source": [
    "ages.cumprod()"
   ]
  },
  {
   "cell_type": "code",
   "execution_count": 83,
   "metadata": {
    "collapsed": false
   },
   "outputs": [
    {
     "data": {
      "text/plain": [
       "array([[4, 6, 8, 7],\n",
       "       [4, 5, 0, 2],\n",
       "       [9, 9, 9, 0]])"
      ]
     },
     "execution_count": 83,
     "metadata": {},
     "output_type": "execute_result"
    }
   ],
   "source": [
    "a = np.random.randint(0,10,(3,4))\n",
    "a"
   ]
  },
  {
   "cell_type": "code",
   "execution_count": 84,
   "metadata": {
    "collapsed": false
   },
   "outputs": [
    {
     "data": {
      "text/plain": [
       "array([17, 20, 17,  9])"
      ]
     },
     "execution_count": 84,
     "metadata": {},
     "output_type": "execute_result"
    }
   ],
   "source": [
    "a.sum(axis=0)"
   ]
  },
  {
   "cell_type": "code",
   "execution_count": 85,
   "metadata": {
    "collapsed": false
   },
   "outputs": [
    {
     "data": {
      "text/plain": [
       "array([25, 11, 27])"
      ]
     },
     "execution_count": 85,
     "metadata": {},
     "output_type": "execute_result"
    }
   ],
   "source": [
    "a.sum(axis=1)"
   ]
  },
  {
   "cell_type": "code",
   "execution_count": 86,
   "metadata": {
    "collapsed": false
   },
   "outputs": [
    {
     "data": {
      "text/plain": [
       "array(['f', 'm'], \n",
       "      dtype='|S1')"
      ]
     },
     "execution_count": 86,
     "metadata": {},
     "output_type": "execute_result"
    }
   ],
   "source": [
    "np.unique(genders)"
   ]
  },
  {
   "cell_type": "code",
   "execution_count": 87,
   "metadata": {
    "collapsed": false
   },
   "outputs": [
    {
     "data": {
      "text/plain": [
       "(array(['f', 'm'], \n",
       "       dtype='|S1'), array([4, 6]))"
      ]
     },
     "execution_count": 87,
     "metadata": {},
     "output_type": "execute_result"
    }
   ],
   "source": [
    "np.unique(genders, return_counts=True)"
   ]
  },
  {
   "cell_type": "code",
   "execution_count": 88,
   "metadata": {
    "collapsed": false
   },
   "outputs": [
    {
     "data": {
      "text/plain": [
       "array([0, 1, 1, 1, 0, 1, 0, 0, 0, 1])"
      ]
     },
     "execution_count": 88,
     "metadata": {},
     "output_type": "execute_result"
    }
   ],
   "source": [
    "np.where(ages<30, 0, 1)"
   ]
  },
  {
   "cell_type": "code",
   "execution_count": 89,
   "metadata": {
    "collapsed": false
   },
   "outputs": [
    {
     "data": {
      "text/plain": [
       "array([ 0, 56, 67, 89,  0, 56,  0,  0,  0, 72])"
      ]
     },
     "execution_count": 89,
     "metadata": {},
     "output_type": "execute_result"
    }
   ],
   "source": [
    "np.where(ages<30, 0, ages)"
   ]
  },
  {
   "cell_type": "code",
   "execution_count": 90,
   "metadata": {
    "collapsed": false
   },
   "outputs": [
    {
     "data": {
      "text/plain": [
       "array([ 0.56944574,  0.65849156,  0.69968996,  0.96809717,  0.67684109,\n",
       "        0.32831211,  0.67815344,  0.30610892,  0.62111158,  0.18304487])"
      ]
     },
     "execution_count": 90,
     "metadata": {},
     "output_type": "execute_result"
    }
   ],
   "source": [
    "a = np.random.rand(10)\n",
    "a"
   ]
  },
  {
   "cell_type": "code",
   "execution_count": 91,
   "metadata": {
    "collapsed": true
   },
   "outputs": [],
   "source": [
    "np.save('array1', a)"
   ]
  },
  {
   "cell_type": "code",
   "execution_count": 92,
   "metadata": {
    "collapsed": false
   },
   "outputs": [
    {
     "name": "stdout",
     "output_type": "stream",
     "text": [
      "array1.npy  Day05.ipynb  numpyexercise.ipynb  Numpy.ipynb\r\n"
     ]
    }
   ],
   "source": [
    "ls"
   ]
  },
  {
   "cell_type": "code",
   "execution_count": 93,
   "metadata": {
    "collapsed": true
   },
   "outputs": [],
   "source": [
    "%pycat array1.npy"
   ]
  },
  {
   "cell_type": "code",
   "execution_count": 94,
   "metadata": {
    "collapsed": true
   },
   "outputs": [],
   "source": [
    "a_copy = np.load('array1.npy')"
   ]
  },
  {
   "cell_type": "code",
   "execution_count": 95,
   "metadata": {
    "collapsed": false
   },
   "outputs": [
    {
     "data": {
      "text/plain": [
       "array([ 0.56944574,  0.65849156,  0.69968996,  0.96809717,  0.67684109,\n",
       "        0.32831211,  0.67815344,  0.30610892,  0.62111158,  0.18304487])"
      ]
     },
     "execution_count": 95,
     "metadata": {},
     "output_type": "execute_result"
    }
   ],
   "source": [
    "a_copy"
   ]
  },
  {
   "cell_type": "code",
   "execution_count": 96,
   "metadata": {
    "collapsed": true
   },
   "outputs": [],
   "source": [
    "b = np.random.randint(0,10,(5,3))"
   ]
  },
  {
   "cell_type": "code",
   "execution_count": 97,
   "metadata": {
    "collapsed": false
   },
   "outputs": [
    {
     "data": {
      "text/plain": [
       "array([[9, 5, 6],\n",
       "       [6, 0, 6],\n",
       "       [3, 4, 6],\n",
       "       [0, 6, 5],\n",
       "       [6, 4, 4]])"
      ]
     },
     "execution_count": 97,
     "metadata": {},
     "output_type": "execute_result"
    }
   ],
   "source": [
    "b"
   ]
  },
  {
   "cell_type": "code",
   "execution_count": 98,
   "metadata": {
    "collapsed": true
   },
   "outputs": [],
   "source": [
    "np.savetxt('array2.txt', b)"
   ]
  },
  {
   "cell_type": "code",
   "execution_count": 99,
   "metadata": {
    "collapsed": false
   },
   "outputs": [
    {
     "name": "stdout",
     "output_type": "stream",
     "text": [
      "array1.npy  array2.txt  Day05.ipynb  numpyexercise.ipynb  Numpy.ipynb\r\n"
     ]
    }
   ],
   "source": [
    "ls"
   ]
  },
  {
   "cell_type": "code",
   "execution_count": 100,
   "metadata": {
    "collapsed": true
   },
   "outputs": [],
   "source": [
    "%pycat array2.txt"
   ]
  },
  {
   "cell_type": "code",
   "execution_count": 101,
   "metadata": {
    "collapsed": false
   },
   "outputs": [
    {
     "data": {
      "text/plain": [
       "array([[ 9.,  5.,  6.],\n",
       "       [ 6.,  0.,  6.],\n",
       "       [ 3.,  4.,  6.],\n",
       "       [ 0.,  6.,  5.],\n",
       "       [ 6.,  4.,  4.]])"
      ]
     },
     "execution_count": 101,
     "metadata": {},
     "output_type": "execute_result"
    }
   ],
   "source": [
    "np.loadtxt('array2.txt')"
   ]
  },
  {
   "cell_type": "code",
   "execution_count": 102,
   "metadata": {
    "collapsed": true
   },
   "outputs": [],
   "source": [
    "np.savez('arrays.npz', a=a, b=b)"
   ]
  },
  {
   "cell_type": "code",
   "execution_count": 104,
   "metadata": {
    "collapsed": false
   },
   "outputs": [],
   "source": [
    "a_and_b = np.load('arrays.npz')"
   ]
  },
  {
   "cell_type": "code",
   "execution_count": 105,
   "metadata": {
    "collapsed": false
   },
   "outputs": [
    {
     "data": {
      "text/plain": [
       "array([ 0.56944574,  0.65849156,  0.69968996,  0.96809717,  0.67684109,\n",
       "        0.32831211,  0.67815344,  0.30610892,  0.62111158,  0.18304487])"
      ]
     },
     "execution_count": 105,
     "metadata": {},
     "output_type": "execute_result"
    }
   ],
   "source": [
    "a_and_b['a']"
   ]
  },
  {
   "cell_type": "code",
   "execution_count": 106,
   "metadata": {
    "collapsed": false
   },
   "outputs": [
    {
     "data": {
      "text/plain": [
       "array([[9, 5, 6],\n",
       "       [6, 0, 6],\n",
       "       [3, 4, 6],\n",
       "       [0, 6, 5],\n",
       "       [6, 4, 4]])"
      ]
     },
     "execution_count": 106,
     "metadata": {},
     "output_type": "execute_result"
    }
   ],
   "source": [
    "a_and_b['b']"
   ]
  },
  {
   "cell_type": "code",
   "execution_count": 107,
   "metadata": {
    "collapsed": true
   },
   "outputs": [],
   "source": [
    "a = np.random.rand(5,5)"
   ]
  },
  {
   "cell_type": "code",
   "execution_count": 108,
   "metadata": {
    "collapsed": true
   },
   "outputs": [],
   "source": [
    "b = np.random.rand(5,5)"
   ]
  },
  {
   "cell_type": "code",
   "execution_count": 109,
   "metadata": {
    "collapsed": false
   },
   "outputs": [
    {
     "data": {
      "text/plain": [
       "array([[ 0.29516863,  0.19101642,  0.14191274,  0.01167094,  0.12939413],\n",
       "       [ 0.20586684,  0.00461017,  0.03107777,  0.81427221,  0.61159681],\n",
       "       [ 0.71791707,  0.33200452,  0.10747719,  0.19433911,  0.12775927],\n",
       "       [ 0.05954865,  0.49367123,  0.45864818,  0.37876552,  0.02423113],\n",
       "       [ 0.01825656,  0.06476961,  0.22541098,  0.12032975,  0.06030857]])"
      ]
     },
     "execution_count": 109,
     "metadata": {},
     "output_type": "execute_result"
    }
   ],
   "source": [
    "a*b"
   ]
  },
  {
   "cell_type": "code",
   "execution_count": 110,
   "metadata": {
    "collapsed": false
   },
   "outputs": [
    {
     "data": {
      "text/plain": [
       "array([[ 1.75649054,  1.0751088 ,  0.72609202,  1.49967756,  0.99912151],\n",
       "       [ 2.16420402,  1.24565996,  1.08231241,  1.25408603,  0.44965255],\n",
       "       [ 1.64982625,  0.85671413,  0.74146255,  1.00881909,  0.64460213],\n",
       "       [ 1.49114061,  1.2389449 ,  0.65667414,  1.56325737,  0.78919115],\n",
       "       [ 1.69617806,  1.29755577,  0.74805589,  1.57398517,  0.73277466]])"
      ]
     },
     "execution_count": 110,
     "metadata": {},
     "output_type": "execute_result"
    }
   ],
   "source": [
    "np.dot(a,b)"
   ]
  },
  {
   "cell_type": "code",
   "execution_count": 111,
   "metadata": {
    "collapsed": true
   },
   "outputs": [],
   "source": [
    "m1 = np.matrix(a)\n",
    "m2 = np.matrix(b)"
   ]
  },
  {
   "cell_type": "code",
   "execution_count": 112,
   "metadata": {
    "collapsed": false
   },
   "outputs": [
    {
     "data": {
      "text/plain": [
       "matrix([[ 1.75649054,  1.0751088 ,  0.72609202,  1.49967756,  0.99912151],\n",
       "        [ 2.16420402,  1.24565996,  1.08231241,  1.25408603,  0.44965255],\n",
       "        [ 1.64982625,  0.85671413,  0.74146255,  1.00881909,  0.64460213],\n",
       "        [ 1.49114061,  1.2389449 ,  0.65667414,  1.56325737,  0.78919115],\n",
       "        [ 1.69617806,  1.29755577,  0.74805589,  1.57398517,  0.73277466]])"
      ]
     },
     "execution_count": 112,
     "metadata": {},
     "output_type": "execute_result"
    }
   ],
   "source": [
    "m1*m2"
   ]
  },
  {
   "cell_type": "code",
   "execution_count": 113,
   "metadata": {
    "collapsed": false
   },
   "outputs": [
    {
     "data": {
      "text/plain": [
       "-0.026285974033468371"
      ]
     },
     "execution_count": 113,
     "metadata": {},
     "output_type": "execute_result"
    }
   ],
   "source": [
    "np.linalg.det(a)"
   ]
  },
  {
   "cell_type": "code",
   "execution_count": 114,
   "metadata": {
    "collapsed": false
   },
   "outputs": [
    {
     "data": {
      "text/plain": [
       "array([[-2.53646788, -1.01716807,  3.6623979 ,  2.29880768, -1.37238463],\n",
       "       [ 3.69445092,  1.34235178, -3.71815892,  0.84749919, -2.49654142],\n",
       "       [-5.25239215, -2.93789833,  6.01888839,  0.3445964 ,  3.52307899],\n",
       "       [ 2.64621825,  2.82599109, -4.23152163,  1.31390097, -2.86184512],\n",
       "       [ 2.0262082 ,  0.48756344, -1.62519512, -3.66775779,  2.50849378]])"
      ]
     },
     "execution_count": 114,
     "metadata": {},
     "output_type": "execute_result"
    }
   ],
   "source": [
    "np.linalg.inv(a)"
   ]
  },
  {
   "cell_type": "code",
   "execution_count": 115,
   "metadata": {
    "collapsed": false
   },
   "outputs": [
    {
     "data": {
      "text/plain": [
       "array([ 2.67717024+0.j        , -1.02339080+0.j        ,\n",
       "        0.04151194+0.27730646j,  0.04151194-0.27730646j,  0.12202867+0.j        ])"
      ]
     },
     "execution_count": 115,
     "metadata": {},
     "output_type": "execute_result"
    }
   ],
   "source": [
    "np.linalg.eigvals(a)"
   ]
  },
  {
   "cell_type": "code",
   "execution_count": 116,
   "metadata": {
    "collapsed": true
   },
   "outputs": [],
   "source": [
    "c = np.random.rand(2000,2000)"
   ]
  },
  {
   "cell_type": "code",
   "execution_count": 117,
   "metadata": {
    "collapsed": false
   },
   "outputs": [
    {
     "name": "stdout",
     "output_type": "stream",
     "text": [
      "1 loops, best of 1: 29.6 s per loop\n"
     ]
    }
   ],
   "source": [
    "%timeit -n1 -r1 evs = np.linalg.eigvals(c)"
   ]
  },
  {
   "cell_type": "code",
   "execution_count": 118,
   "metadata": {
    "collapsed": false
   },
   "outputs": [
    {
     "data": {
      "text/plain": [
       "<matplotlib.text.Text at 0x7fd358801710>"
      ]
     },
     "execution_count": 118,
     "metadata": {},
     "output_type": "execute_result"
    },
    {
     "data": {
      "image/png": "[encoded data removed]",
      "text/plain": [
       "<matplotlib.figure.Figure at 0x7fd358831dd0>"
      ]
     },
     "metadata": {},
     "output_type": "display_data"
    }
   ],
   "source": [
    "plt.hist(np.random.random(250))\n",
    "plt.title('Uniform Random Distribution $[0,1]$')\n",
    "plt.xlabel('value')\n",
    "plt.ylabel('count')"
   ]
  },
  {
   "cell_type": "code",
   "execution_count": 121,
   "metadata": {
    "collapsed": false
   },
   "outputs": [
    {
     "data": {
      "text/plain": [
       "<matplotlib.text.Text at 0x7fd357ffcc90>"
      ]
     },
     "execution_count": 121,
     "metadata": {},
     "output_type": "execute_result"
    },
    {
     "data": {
      "image/png": "[encoded data removed]",
      "text/plain": [
       "<matplotlib.figure.Figure at 0x7fd355f3ff50>"
      ]
     },
     "metadata": {},
     "output_type": "display_data"
    }
   ],
   "source": [
    "plt.hist(np.random.randn(250))\n",
    "plt.title('Standard Normal Distribution')\n",
    "plt.xlabel('value')\n",
    "plt.ylabel('count')"
   ]
  },
  {
   "cell_type": "code",
   "execution_count": 122,
   "metadata": {
    "collapsed": false
   },
   "outputs": [
    {
     "data": {
      "text/plain": [
       "array([2, 0, 7, 8, 1, 9, 6, 5, 4, 3])"
      ]
     },
     "execution_count": 122,
     "metadata": {},
     "output_type": "execute_result"
    }
   ],
   "source": [
    "a = np.arange(0,10)\n",
    "np.random.shuffle(a)\n",
    "a"
   ]
  },
  {
   "cell_type": "code",
   "execution_count": 123,
   "metadata": {
    "collapsed": false
   },
   "outputs": [
    {
     "name": "stdout",
     "output_type": "stream",
     "text": [
      "[2 7 8 1 4 3 9 5 6 0]\n",
      "[0 1 2 3 4 5 6 7 8 9]\n"
     ]
    }
   ],
   "source": [
    "a = np.arange(0,10)\n",
    "print(np.random.permutation(a))\n",
    "print(a)"
   ]
  },
  {
   "cell_type": "code",
   "execution_count": 124,
   "metadata": {
    "collapsed": false
   },
   "outputs": [
    {
     "data": {
      "text/plain": [
       "array(['m', 'f', 'f', 'f', 'f', 'f', 'f', 'f', 'm', 'm', 'm', 'f', 'm',\n",
       "       'm', 'f', 'm', 'f', 'f', 'f', 'm'], \n",
       "      dtype='|S1')"
      ]
     },
     "execution_count": 124,
     "metadata": {},
     "output_type": "execute_result"
    }
   ],
   "source": [
    "np.random.choice(['m', 'f'], 20, p=[0.25, 0.75])"
   ]
  },
  {
   "cell_type": "code",
   "execution_count": null,
   "metadata": {
    "collapsed": true
   },
   "outputs": [],
   "source": []
  }
 ],
 "metadata": {
  "kernelspec": {
   "display_name": "Python 2",
   "language": "python",
   "name": "python2"
  },
  "language_info": {
   "codemirror_mode": {
    "name": "ipython",
    "version": 2
   },
   "file_extension": ".py",
   "mimetype": "text/x-python",
   "name": "python",
   "nbconvert_exporter": "python",
   "pygments_lexer": "ipython2",
   "version": "2.7.6"
  }
 },
 "nbformat": 4,
 "nbformat_minor": 0
}
